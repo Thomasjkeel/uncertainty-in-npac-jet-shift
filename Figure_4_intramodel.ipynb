{
 "cells": [
  {
   "cell_type": "markdown",
   "id": "d34dedbc-a7d0-4e6d-b0d7-d144cfaf6f98",
   "metadata": {},
   "source": [
    "## Code required to create intramodel subfigure of Figure 4\n",
    "*From \"Exploring uncertainty of trends in the lower-tropospheric North Pacific Jet.\"* \n",
    "\n",
    "Entire notebook takes ~n minutes to run on Intel i7-10750 using 32GB RAM  \n",
    "\n",
    "Note: figure 4 is towards the end of the notebook"
   ]
  },
  {
   "cell_type": "code",
   "execution_count": 1,
   "id": "f8c5a5bc-a062-45db-8b19-a380a909b1e2",
   "metadata": {},
   "outputs": [],
   "source": [
    "import numpy as np\n",
    "import pandas as pd\n",
    "import matplotlib.pyplot as plt\n",
    "import matplotlib.markers as mmarkers\n",
    "import matplotlib.lines as mlines\n",
    "import seaborn as sns"
   ]
  },
  {
   "cell_type": "code",
   "execution_count": 2,
   "id": "2b6d94a6-416c-4bd8-b460-3fd4ec2d6d21",
   "metadata": {},
   "outputs": [],
   "source": [
    "multi_r_models_djf = pd.read_csv('outputs/multi_r_models_djf.csv')\n",
    "multi_r_models_mam = pd.read_csv('outputs/multi_r_models_mam.csv')\n",
    "multi_r_models_jja = pd.read_csv('outputs/multi_r_models_jja.csv')\n",
    "multi_r_models_son = pd.read_csv('outputs/multi_r_models_son.csv')"
   ]
  },
  {
   "cell_type": "code",
   "execution_count": 3,
   "id": "b9ac6b24-28be-4a03-92de-8dc2d47df06f",
   "metadata": {},
   "outputs": [],
   "source": [
    "multi_r_models_pval_djf = pd.read_csv('outputs/djf_hist_future_shift_pval.csv')\n",
    "multi_r_models_pval_son = pd.read_csv('outputs/son_hist_future_shift_pval.csv')"
   ]
  },
  {
   "cell_type": "code",
   "execution_count": 4,
   "id": "ac7b2dbd-ab67-4d84-b8de-c13355ebce20",
   "metadata": {},
   "outputs": [],
   "source": [
    "df_diff_djf_ens_first = pd.read_csv('outputs/1st_realisation_djf.csv', index_col=0)\n",
    "df_diff_son_ens_first = pd.read_csv('outputs/1st_realisation_son.csv', index_col=0)"
   ]
  },
  {
   "cell_type": "code",
   "execution_count": 5,
   "id": "9ee4b775-0024-4bed-9ecc-e962784e63a1",
   "metadata": {},
   "outputs": [],
   "source": [
    "df_diff_djf_ens_first = df_diff_djf_ens_first.rename(columns={'Grise & Polvani 2017': 'Grise & Polvani 2014'})\n",
    "df_diff_djf_ens_first = df_diff_djf_ens_first[sorted(df_diff_djf_ens_first.columns, key=lambda col: col[-4:])]"
   ]
  },
  {
   "cell_type": "code",
   "execution_count": 6,
   "id": "435b9e0a-e26c-4040-93d2-9a955d0b6cda",
   "metadata": {},
   "outputs": [],
   "source": [
    "df_diff_son_ens_first = df_diff_son_ens_first.rename(columns={'Grise & Polvani 2017': 'Grise & Polvani 2014'})\n",
    "df_diff_son_ens_first = df_diff_son_ens_first[sorted(df_diff_son_ens_first.columns, key=lambda col: col[-4:])]\n"
   ]
  },
  {
   "cell_type": "code",
   "execution_count": 7,
   "id": "102e1dc0-87da-469b-8ab7-08691be46c20",
   "metadata": {},
   "outputs": [
    {
     "data": {
      "text/html": [
       "<div>\n",
       "<style scoped>\n",
       "    .dataframe tbody tr th:only-of-type {\n",
       "        vertical-align: middle;\n",
       "    }\n",
       "\n",
       "    .dataframe tbody tr th {\n",
       "        vertical-align: top;\n",
       "    }\n",
       "\n",
       "    .dataframe thead th {\n",
       "        text-align: right;\n",
       "    }\n",
       "</style>\n",
       "<table border=\"1\" class=\"dataframe\">\n",
       "  <thead>\n",
       "    <tr style=\"text-align: right;\">\n",
       "      <th></th>\n",
       "      <th>ACCESS-ESM1-5</th>\n",
       "      <th>CESM2-WACCM</th>\n",
       "      <th>CNRM-CM6-1</th>\n",
       "      <th>CNRM-ESM2-1</th>\n",
       "      <th>CanESM5</th>\n",
       "      <th>HadGEM3-GC31-LL</th>\n",
       "      <th>HadGEM3-GC31-MM</th>\n",
       "      <th>IPSL-CM6A-LR</th>\n",
       "      <th>MIROC-ES2L</th>\n",
       "      <th>UKESM1-0-LL</th>\n",
       "    </tr>\n",
       "  </thead>\n",
       "  <tbody>\n",
       "    <tr>\n",
       "      <th>0</th>\n",
       "      <td>-0.602643</td>\n",
       "      <td>0.869725</td>\n",
       "      <td>1.995679</td>\n",
       "      <td>0.064595</td>\n",
       "      <td>2.634396</td>\n",
       "      <td>-0.020214</td>\n",
       "      <td>1.341278</td>\n",
       "      <td>0.265404</td>\n",
       "      <td>1.470211</td>\n",
       "      <td>-0.037256</td>\n",
       "    </tr>\n",
       "    <tr>\n",
       "      <th>1</th>\n",
       "      <td>-0.536366</td>\n",
       "      <td>0.914458</td>\n",
       "      <td>1.922337</td>\n",
       "      <td>0.092876</td>\n",
       "      <td>2.786439</td>\n",
       "      <td>-0.004519</td>\n",
       "      <td>1.336470</td>\n",
       "      <td>0.290777</td>\n",
       "      <td>1.354102</td>\n",
       "      <td>-0.037488</td>\n",
       "    </tr>\n",
       "    <tr>\n",
       "      <th>2</th>\n",
       "      <td>-0.667853</td>\n",
       "      <td>0.513141</td>\n",
       "      <td>1.389691</td>\n",
       "      <td>0.116126</td>\n",
       "      <td>2.759530</td>\n",
       "      <td>0.009259</td>\n",
       "      <td>1.641956</td>\n",
       "      <td>0.191074</td>\n",
       "      <td>1.786480</td>\n",
       "      <td>-0.111111</td>\n",
       "    </tr>\n",
       "    <tr>\n",
       "      <th>3</th>\n",
       "      <td>-0.633901</td>\n",
       "      <td>0.684482</td>\n",
       "      <td>1.747739</td>\n",
       "      <td>-0.272675</td>\n",
       "      <td>2.728611</td>\n",
       "      <td>-0.191545</td>\n",
       "      <td>0.990926</td>\n",
       "      <td>0.151297</td>\n",
       "      <td>1.307204</td>\n",
       "      <td>-0.377858</td>\n",
       "    </tr>\n",
       "    <tr>\n",
       "      <th>4</th>\n",
       "      <td>-0.708718</td>\n",
       "      <td>0.193365</td>\n",
       "      <td>1.245178</td>\n",
       "      <td>-0.230701</td>\n",
       "      <td>1.874469</td>\n",
       "      <td>-0.404885</td>\n",
       "      <td>0.829989</td>\n",
       "      <td>0.555034</td>\n",
       "      <td>1.197538</td>\n",
       "      <td>-0.320943</td>\n",
       "    </tr>\n",
       "  </tbody>\n",
       "</table>\n",
       "</div>"
      ],
      "text/plain": [
       "   ACCESS-ESM1-5  CESM2-WACCM  CNRM-CM6-1  CNRM-ESM2-1   CanESM5  \\\n",
       "0      -0.602643     0.869725    1.995679     0.064595  2.634396   \n",
       "1      -0.536366     0.914458    1.922337     0.092876  2.786439   \n",
       "2      -0.667853     0.513141    1.389691     0.116126  2.759530   \n",
       "3      -0.633901     0.684482    1.747739    -0.272675  2.728611   \n",
       "4      -0.708718     0.193365    1.245178    -0.230701  1.874469   \n",
       "\n",
       "   HadGEM3-GC31-LL  HadGEM3-GC31-MM  IPSL-CM6A-LR  MIROC-ES2L  UKESM1-0-LL  \n",
       "0        -0.020214         1.341278      0.265404    1.470211    -0.037256  \n",
       "1        -0.004519         1.336470      0.290777    1.354102    -0.037488  \n",
       "2         0.009259         1.641956      0.191074    1.786480    -0.111111  \n",
       "3        -0.191545         0.990926      0.151297    1.307204    -0.377858  \n",
       "4        -0.404885         0.829989      0.555034    1.197538    -0.320943  "
      ]
     },
     "execution_count": 7,
     "metadata": {},
     "output_type": "execute_result"
    }
   ],
   "source": [
    "multi_r_models_djf.head()"
   ]
  },
  {
   "cell_type": "code",
   "execution_count": 8,
   "id": "58367cf9-e9dd-4238-b7d8-eab0d1929d5a",
   "metadata": {},
   "outputs": [],
   "source": [
    "num_metrics = 6\n",
    "model_counts = dict(multi_r_models_djf.count() / num_metrics)"
   ]
  },
  {
   "cell_type": "code",
   "execution_count": 9,
   "id": "278c36ea-3f4e-405e-a2d9-0ba987d2ed3b",
   "metadata": {},
   "outputs": [
    {
     "data": {
      "text/plain": [
       "{'ACCESS-ESM1-5': 2.0,\n",
       " 'CESM2-WACCM': 3.0,\n",
       " 'CNRM-CM6-1': 6.0,\n",
       " 'CNRM-ESM2-1': 2.0,\n",
       " 'CanESM5': 19.0,\n",
       " 'HadGEM3-GC31-LL': 4.0,\n",
       " 'HadGEM3-GC31-MM': 4.0,\n",
       " 'IPSL-CM6A-LR': 3.0,\n",
       " 'MIROC-ES2L': 7.0,\n",
       " 'UKESM1-0-LL': 6.0}"
      ]
     },
     "execution_count": 9,
     "metadata": {},
     "output_type": "execute_result"
    }
   ],
   "source": [
    "model_counts"
   ]
  },
  {
   "cell_type": "code",
   "execution_count": 10,
   "id": "eeae1dc2-60b2-47c8-af0f-1078e9bae403",
   "metadata": {},
   "outputs": [],
   "source": [
    "marker_list = ['o', 'X', 's', 'P',\\\n",
    "               'D',mmarkers.MarkerStyle((4, 1, 0)),\\\n",
    "               '^',mmarkers.MarkerStyle((4, 1, 45)), 'v', mmarkers.MarkerStyle((8, 1, 0))]"
   ]
  },
  {
   "cell_type": "code",
   "execution_count": 11,
   "id": "3b4d0f4e-6464-41a2-9597-0a045d265226",
   "metadata": {},
   "outputs": [
    {
     "data": {
      "text/plain": [
       "array([ 1,  1,  1,  1,  1,  1,  2,  2,  2,  2,  2,  2,  3,  3,  3,  3,  3,\n",
       "        3,  4,  4,  4,  4,  4,  4,  5,  5,  5,  5,  5,  5,  6,  6,  6,  6,\n",
       "        6,  6,  7,  7,  7,  7,  7,  7,  8,  8,  8,  8,  8,  8,  9,  9,  9,\n",
       "        9,  9,  9, 10, 10, 10, 10, 10, 10, 11, 11, 11, 11, 11, 11, 12, 12,\n",
       "       12, 12, 12, 12, 13, 13, 13, 13, 13, 13, 14, 14, 14, 14, 14, 14, 15,\n",
       "       15, 15, 15, 15, 15, 16, 16, 16, 16, 16, 16, 17, 17, 17, 17, 17, 17,\n",
       "       18, 18, 18, 18, 18, 18, 19, 19, 19, 19, 19, 19])"
      ]
     },
     "execution_count": 11,
     "metadata": {},
     "output_type": "execute_result"
    }
   ],
   "source": [
    "realisation_numbers = np.array(sorted(list(np.arange(1, 20))*num_metrics))\n",
    "realisation_numbers"
   ]
  },
  {
   "cell_type": "code",
   "execution_count": 12,
   "id": "a158d579-6e23-4031-9765-597093854eda",
   "metadata": {},
   "outputs": [],
   "source": [
    "legend_elements = [\n",
    "    mlines.Line2D([0], [0], marker=marker_list[ind], color=f'C{ind}', label=multi_r_models_djf.columns[ind] + f\" ({int(model_counts[multi_r_models_djf.columns[ind]])})\",\\\n",
    "                  markersize=6, linestyle='None', alpha=.8) \n",
    "    for ind in range(len(multi_r_models_djf.columns))\n",
    "]"
   ]
  },
  {
   "cell_type": "code",
   "execution_count": 13,
   "id": "a768c31c-988b-498b-a7a3-e36dc84bc2bb",
   "metadata": {},
   "outputs": [
    {
     "data": {
      "text/plain": [
       "Woollings et al. 2010   -0.137005\n",
       "Barnes & Polvani 2013   -0.154188\n",
       "Grise & Polvani 2014    -0.455652\n",
       "Barnes & Simpson 2017   -0.336378\n",
       "Zappa et al. 2018       -0.602377\n",
       "Kerr et al. 2020        -0.548534\n",
       "Name: 0.05, dtype: float64"
      ]
     },
     "execution_count": 13,
     "metadata": {},
     "output_type": "execute_result"
    }
   ],
   "source": [
    "df_diff_djf_ens_first.quantile(0.05)"
   ]
  },
  {
   "cell_type": "code",
   "execution_count": 14,
   "id": "c0afbf29-1dae-42c3-9da0-83b17379823e",
   "metadata": {
    "tags": []
   },
   "outputs": [
    {
     "data": {
      "text/html": [
       "<div>\n",
       "<style scoped>\n",
       "    .dataframe tbody tr th:only-of-type {\n",
       "        vertical-align: middle;\n",
       "    }\n",
       "\n",
       "    .dataframe tbody tr th {\n",
       "        vertical-align: top;\n",
       "    }\n",
       "\n",
       "    .dataframe thead th {\n",
       "        text-align: right;\n",
       "    }\n",
       "</style>\n",
       "<table border=\"1\" class=\"dataframe\">\n",
       "  <thead>\n",
       "    <tr style=\"text-align: right;\">\n",
       "      <th></th>\n",
       "      <th>Woollings et al. 2010</th>\n",
       "      <th>Barnes &amp; Polvani 2013</th>\n",
       "      <th>Grise &amp; Polvani 2014</th>\n",
       "      <th>Barnes &amp; Simpson 2017</th>\n",
       "      <th>Zappa et al. 2018</th>\n",
       "      <th>Kerr et al. 2020</th>\n",
       "    </tr>\n",
       "  </thead>\n",
       "  <tbody>\n",
       "    <tr>\n",
       "      <th>ACCESS-CM2</th>\n",
       "      <td>0.418530</td>\n",
       "      <td>0.410777</td>\n",
       "      <td>0.391282</td>\n",
       "      <td>0.260541</td>\n",
       "      <td>0.241211</td>\n",
       "      <td>-0.029816</td>\n",
       "    </tr>\n",
       "    <tr>\n",
       "      <th>ACCESS-ESM1-5</th>\n",
       "      <td>-0.602643</td>\n",
       "      <td>-0.536366</td>\n",
       "      <td>-0.633901</td>\n",
       "      <td>-0.667853</td>\n",
       "      <td>-0.708718</td>\n",
       "      <td>-0.572121</td>\n",
       "    </tr>\n",
       "    <tr>\n",
       "      <th>CESM2-WACCM</th>\n",
       "      <td>0.869725</td>\n",
       "      <td>0.914458</td>\n",
       "      <td>0.684482</td>\n",
       "      <td>0.513141</td>\n",
       "      <td>0.193365</td>\n",
       "      <td>0.069508</td>\n",
       "    </tr>\n",
       "    <tr>\n",
       "      <th>CMCC-CM2-SR5</th>\n",
       "      <td>2.421246</td>\n",
       "      <td>2.362236</td>\n",
       "      <td>2.240259</td>\n",
       "      <td>1.951196</td>\n",
       "      <td>1.258366</td>\n",
       "      <td>1.336146</td>\n",
       "    </tr>\n",
       "    <tr>\n",
       "      <th>CMCC-ESM2</th>\n",
       "      <td>1.066681</td>\n",
       "      <td>1.120054</td>\n",
       "      <td>1.054267</td>\n",
       "      <td>1.019244</td>\n",
       "      <td>0.663229</td>\n",
       "      <td>0.621949</td>\n",
       "    </tr>\n",
       "    <tr>\n",
       "      <th>CNRM-CM6-1</th>\n",
       "      <td>1.995679</td>\n",
       "      <td>1.922337</td>\n",
       "      <td>1.747739</td>\n",
       "      <td>1.389691</td>\n",
       "      <td>1.245178</td>\n",
       "      <td>0.923191</td>\n",
       "    </tr>\n",
       "    <tr>\n",
       "      <th>CNRM-ESM2-1</th>\n",
       "      <td>0.064595</td>\n",
       "      <td>0.092876</td>\n",
       "      <td>-0.272675</td>\n",
       "      <td>0.116126</td>\n",
       "      <td>-0.230701</td>\n",
       "      <td>-0.096677</td>\n",
       "    </tr>\n",
       "    <tr>\n",
       "      <th>CanESM5</th>\n",
       "      <td>2.408777</td>\n",
       "      <td>2.369870</td>\n",
       "      <td>2.217396</td>\n",
       "      <td>2.625193</td>\n",
       "      <td>1.763136</td>\n",
       "      <td>1.718586</td>\n",
       "    </tr>\n",
       "    <tr>\n",
       "      <th>EC-Earth3</th>\n",
       "      <td>2.003799</td>\n",
       "      <td>1.940024</td>\n",
       "      <td>1.800987</td>\n",
       "      <td>1.618012</td>\n",
       "      <td>1.373113</td>\n",
       "      <td>0.971775</td>\n",
       "    </tr>\n",
       "    <tr>\n",
       "      <th>EC-Earth3-CC</th>\n",
       "      <td>1.808228</td>\n",
       "      <td>1.725528</td>\n",
       "      <td>1.768452</td>\n",
       "      <td>2.296878</td>\n",
       "      <td>1.613416</td>\n",
       "      <td>1.183076</td>\n",
       "    </tr>\n",
       "    <tr>\n",
       "      <th>EC-Earth3-Veg-LR</th>\n",
       "      <td>0.970661</td>\n",
       "      <td>0.950933</td>\n",
       "      <td>0.841585</td>\n",
       "      <td>1.442035</td>\n",
       "      <td>0.831181</td>\n",
       "      <td>0.325423</td>\n",
       "    </tr>\n",
       "    <tr>\n",
       "      <th>FGOALS-g3</th>\n",
       "      <td>-0.131950</td>\n",
       "      <td>-0.121818</td>\n",
       "      <td>-0.497541</td>\n",
       "      <td>-0.457675</td>\n",
       "      <td>-0.866680</td>\n",
       "      <td>-0.763126</td>\n",
       "    </tr>\n",
       "    <tr>\n",
       "      <th>GFDL-CM4</th>\n",
       "      <td>1.327549</td>\n",
       "      <td>1.364500</td>\n",
       "      <td>0.902233</td>\n",
       "      <td>1.007407</td>\n",
       "      <td>0.791334</td>\n",
       "      <td>0.512593</td>\n",
       "    </tr>\n",
       "    <tr>\n",
       "      <th>HadGEM3-GC31-LL</th>\n",
       "      <td>-0.020214</td>\n",
       "      <td>-0.004519</td>\n",
       "      <td>-0.191545</td>\n",
       "      <td>0.009259</td>\n",
       "      <td>-0.404885</td>\n",
       "      <td>-0.504730</td>\n",
       "    </tr>\n",
       "    <tr>\n",
       "      <th>HadGEM3-GC31-MM</th>\n",
       "      <td>1.341278</td>\n",
       "      <td>1.336470</td>\n",
       "      <td>0.990926</td>\n",
       "      <td>1.641956</td>\n",
       "      <td>0.829989</td>\n",
       "      <td>0.634348</td>\n",
       "    </tr>\n",
       "    <tr>\n",
       "      <th>INM-CM4-8</th>\n",
       "      <td>1.007266</td>\n",
       "      <td>0.997386</td>\n",
       "      <td>1.072633</td>\n",
       "      <td>0.622222</td>\n",
       "      <td>0.704142</td>\n",
       "      <td>0.592750</td>\n",
       "    </tr>\n",
       "    <tr>\n",
       "      <th>INM-CM5-0</th>\n",
       "      <td>0.741423</td>\n",
       "      <td>0.768490</td>\n",
       "      <td>0.981789</td>\n",
       "      <td>0.944444</td>\n",
       "      <td>0.701218</td>\n",
       "      <td>0.803379</td>\n",
       "    </tr>\n",
       "    <tr>\n",
       "      <th>IPSL-CM6A-LR</th>\n",
       "      <td>0.265404</td>\n",
       "      <td>0.290777</td>\n",
       "      <td>0.151297</td>\n",
       "      <td>0.191074</td>\n",
       "      <td>0.555034</td>\n",
       "      <td>0.577964</td>\n",
       "    </tr>\n",
       "    <tr>\n",
       "      <th>KACE-1-0-G</th>\n",
       "      <td>-0.139727</td>\n",
       "      <td>-0.171618</td>\n",
       "      <td>-0.311243</td>\n",
       "      <td>0.222222</td>\n",
       "      <td>-0.052587</td>\n",
       "      <td>-0.227086</td>\n",
       "    </tr>\n",
       "    <tr>\n",
       "      <th>MIROC-ES2L</th>\n",
       "      <td>1.470211</td>\n",
       "      <td>1.354102</td>\n",
       "      <td>1.307204</td>\n",
       "      <td>1.786480</td>\n",
       "      <td>1.197538</td>\n",
       "      <td>0.743817</td>\n",
       "    </tr>\n",
       "    <tr>\n",
       "      <th>MIROC6</th>\n",
       "      <td>1.695022</td>\n",
       "      <td>1.678699</td>\n",
       "      <td>1.279586</td>\n",
       "      <td>1.161107</td>\n",
       "      <td>1.041998</td>\n",
       "      <td>0.612709</td>\n",
       "    </tr>\n",
       "    <tr>\n",
       "      <th>MPI-ESM1-2-HR</th>\n",
       "      <td>1.052072</td>\n",
       "      <td>1.038739</td>\n",
       "      <td>1.024038</td>\n",
       "      <td>1.312132</td>\n",
       "      <td>0.986648</td>\n",
       "      <td>0.492960</td>\n",
       "    </tr>\n",
       "    <tr>\n",
       "      <th>MPI-ESM1-2-LR</th>\n",
       "      <td>1.933694</td>\n",
       "      <td>1.913207</td>\n",
       "      <td>1.614108</td>\n",
       "      <td>2.183119</td>\n",
       "      <td>1.495823</td>\n",
       "      <td>1.526881</td>\n",
       "    </tr>\n",
       "    <tr>\n",
       "      <th>MRI-ESM2-0</th>\n",
       "      <td>1.838315</td>\n",
       "      <td>1.815476</td>\n",
       "      <td>2.057034</td>\n",
       "      <td>1.941635</td>\n",
       "      <td>1.375106</td>\n",
       "      <td>1.420129</td>\n",
       "    </tr>\n",
       "    <tr>\n",
       "      <th>NorESM2-LM</th>\n",
       "      <td>2.874520</td>\n",
       "      <td>2.878904</td>\n",
       "      <td>2.908811</td>\n",
       "      <td>2.603481</td>\n",
       "      <td>2.377864</td>\n",
       "      <td>2.322970</td>\n",
       "    </tr>\n",
       "    <tr>\n",
       "      <th>NorESM2-MM</th>\n",
       "      <td>1.499976</td>\n",
       "      <td>1.479483</td>\n",
       "      <td>1.430204</td>\n",
       "      <td>1.759178</td>\n",
       "      <td>3.052320</td>\n",
       "      <td>1.346715</td>\n",
       "    </tr>\n",
       "    <tr>\n",
       "      <th>TaiESM1</th>\n",
       "      <td>0.167013</td>\n",
       "      <td>0.238674</td>\n",
       "      <td>-0.058241</td>\n",
       "      <td>0.541022</td>\n",
       "      <td>-0.286828</td>\n",
       "      <td>-0.420526</td>\n",
       "    </tr>\n",
       "    <tr>\n",
       "      <th>UKESM1-0-LL</th>\n",
       "      <td>-0.037256</td>\n",
       "      <td>-0.037488</td>\n",
       "      <td>-0.377858</td>\n",
       "      <td>-0.111111</td>\n",
       "      <td>-0.320943</td>\n",
       "      <td>-0.327083</td>\n",
       "    </tr>\n",
       "  </tbody>\n",
       "</table>\n",
       "</div>"
      ],
      "text/plain": [
       "                  Woollings et al. 2010  Barnes & Polvani 2013  \\\n",
       "ACCESS-CM2                     0.418530               0.410777   \n",
       "ACCESS-ESM1-5                 -0.602643              -0.536366   \n",
       "CESM2-WACCM                    0.869725               0.914458   \n",
       "CMCC-CM2-SR5                   2.421246               2.362236   \n",
       "CMCC-ESM2                      1.066681               1.120054   \n",
       "CNRM-CM6-1                     1.995679               1.922337   \n",
       "CNRM-ESM2-1                    0.064595               0.092876   \n",
       "CanESM5                        2.408777               2.369870   \n",
       "EC-Earth3                      2.003799               1.940024   \n",
       "EC-Earth3-CC                   1.808228               1.725528   \n",
       "EC-Earth3-Veg-LR               0.970661               0.950933   \n",
       "FGOALS-g3                     -0.131950              -0.121818   \n",
       "GFDL-CM4                       1.327549               1.364500   \n",
       "HadGEM3-GC31-LL               -0.020214              -0.004519   \n",
       "HadGEM3-GC31-MM                1.341278               1.336470   \n",
       "INM-CM4-8                      1.007266               0.997386   \n",
       "INM-CM5-0                      0.741423               0.768490   \n",
       "IPSL-CM6A-LR                   0.265404               0.290777   \n",
       "KACE-1-0-G                    -0.139727              -0.171618   \n",
       "MIROC-ES2L                     1.470211               1.354102   \n",
       "MIROC6                         1.695022               1.678699   \n",
       "MPI-ESM1-2-HR                  1.052072               1.038739   \n",
       "MPI-ESM1-2-LR                  1.933694               1.913207   \n",
       "MRI-ESM2-0                     1.838315               1.815476   \n",
       "NorESM2-LM                     2.874520               2.878904   \n",
       "NorESM2-MM                     1.499976               1.479483   \n",
       "TaiESM1                        0.167013               0.238674   \n",
       "UKESM1-0-LL                   -0.037256              -0.037488   \n",
       "\n",
       "                  Grise & Polvani 2014  Barnes & Simpson 2017  \\\n",
       "ACCESS-CM2                    0.391282               0.260541   \n",
       "ACCESS-ESM1-5                -0.633901              -0.667853   \n",
       "CESM2-WACCM                   0.684482               0.513141   \n",
       "CMCC-CM2-SR5                  2.240259               1.951196   \n",
       "CMCC-ESM2                     1.054267               1.019244   \n",
       "CNRM-CM6-1                    1.747739               1.389691   \n",
       "CNRM-ESM2-1                  -0.272675               0.116126   \n",
       "CanESM5                       2.217396               2.625193   \n",
       "EC-Earth3                     1.800987               1.618012   \n",
       "EC-Earth3-CC                  1.768452               2.296878   \n",
       "EC-Earth3-Veg-LR              0.841585               1.442035   \n",
       "FGOALS-g3                    -0.497541              -0.457675   \n",
       "GFDL-CM4                      0.902233               1.007407   \n",
       "HadGEM3-GC31-LL              -0.191545               0.009259   \n",
       "HadGEM3-GC31-MM               0.990926               1.641956   \n",
       "INM-CM4-8                     1.072633               0.622222   \n",
       "INM-CM5-0                     0.981789               0.944444   \n",
       "IPSL-CM6A-LR                  0.151297               0.191074   \n",
       "KACE-1-0-G                   -0.311243               0.222222   \n",
       "MIROC-ES2L                    1.307204               1.786480   \n",
       "MIROC6                        1.279586               1.161107   \n",
       "MPI-ESM1-2-HR                 1.024038               1.312132   \n",
       "MPI-ESM1-2-LR                 1.614108               2.183119   \n",
       "MRI-ESM2-0                    2.057034               1.941635   \n",
       "NorESM2-LM                    2.908811               2.603481   \n",
       "NorESM2-MM                    1.430204               1.759178   \n",
       "TaiESM1                      -0.058241               0.541022   \n",
       "UKESM1-0-LL                  -0.377858              -0.111111   \n",
       "\n",
       "                  Zappa et al. 2018  Kerr et al. 2020  \n",
       "ACCESS-CM2                 0.241211         -0.029816  \n",
       "ACCESS-ESM1-5             -0.708718         -0.572121  \n",
       "CESM2-WACCM                0.193365          0.069508  \n",
       "CMCC-CM2-SR5               1.258366          1.336146  \n",
       "CMCC-ESM2                  0.663229          0.621949  \n",
       "CNRM-CM6-1                 1.245178          0.923191  \n",
       "CNRM-ESM2-1               -0.230701         -0.096677  \n",
       "CanESM5                    1.763136          1.718586  \n",
       "EC-Earth3                  1.373113          0.971775  \n",
       "EC-Earth3-CC               1.613416          1.183076  \n",
       "EC-Earth3-Veg-LR           0.831181          0.325423  \n",
       "FGOALS-g3                 -0.866680         -0.763126  \n",
       "GFDL-CM4                   0.791334          0.512593  \n",
       "HadGEM3-GC31-LL           -0.404885         -0.504730  \n",
       "HadGEM3-GC31-MM            0.829989          0.634348  \n",
       "INM-CM4-8                  0.704142          0.592750  \n",
       "INM-CM5-0                  0.701218          0.803379  \n",
       "IPSL-CM6A-LR               0.555034          0.577964  \n",
       "KACE-1-0-G                -0.052587         -0.227086  \n",
       "MIROC-ES2L                 1.197538          0.743817  \n",
       "MIROC6                     1.041998          0.612709  \n",
       "MPI-ESM1-2-HR              0.986648          0.492960  \n",
       "MPI-ESM1-2-LR              1.495823          1.526881  \n",
       "MRI-ESM2-0                 1.375106          1.420129  \n",
       "NorESM2-LM                 2.377864          2.322970  \n",
       "NorESM2-MM                 3.052320          1.346715  \n",
       "TaiESM1                   -0.286828         -0.420526  \n",
       "UKESM1-0-LL               -0.320943         -0.327083  "
      ]
     },
     "execution_count": 14,
     "metadata": {},
     "output_type": "execute_result"
    }
   ],
   "source": [
    "df_diff_djf_ens_first"
   ]
  },
  {
   "cell_type": "code",
   "execution_count": 15,
   "id": "62026649-d183-4c69-a314-7672870d2a26",
   "metadata": {},
   "outputs": [
    {
     "data": {
      "text/plain": [
       "2.7083884192255336"
      ]
     },
     "execution_count": 15,
     "metadata": {},
     "output_type": "execute_result"
    }
   ],
   "source": [
    "np.mean(df_diff_djf_ens_first.values) + np.std(df_diff_djf_ens_first.values)*2"
   ]
  },
  {
   "cell_type": "code",
   "execution_count": 16,
   "id": "12f45049-4f16-4276-b02b-76248eb81e60",
   "metadata": {},
   "outputs": [
    {
     "data": {
      "text/plain": [
       "Woollings et al. 2010    2.874520\n",
       "Barnes & Polvani 2013    2.878904\n",
       "Grise & Polvani 2014     2.908811\n",
       "Barnes & Simpson 2017    2.625193\n",
       "Zappa et al. 2018        3.052320\n",
       "Kerr et al. 2020         2.322970\n",
       "dtype: float64"
      ]
     },
     "execution_count": 16,
     "metadata": {},
     "output_type": "execute_result"
    }
   ],
   "source": [
    "df_diff_djf_ens_first.max()"
   ]
  },
  {
   "cell_type": "code",
   "execution_count": 17,
   "id": "4d74560b-2db0-4537-a415-22c878992507",
   "metadata": {},
   "outputs": [
    {
     "data": {
      "text/plain": [
       "2.375066144521113"
      ]
     },
     "execution_count": 17,
     "metadata": {},
     "output_type": "execute_result"
    }
   ],
   "source": [
    "np.quantile(df_diff_djf_ens_first.values.flatten(), q=0.95)"
   ]
  },
  {
   "cell_type": "code",
   "execution_count": 18,
   "id": "1a1f6393-6f43-4063-b403-790945ec5981",
   "metadata": {
    "tags": []
   },
   "outputs": [],
   "source": [
    "q05_djf = np.quantile(df_diff_djf_ens_first.values.flatten(), q=0.05)\n",
    "q10_djf = np.quantile(df_diff_djf_ens_first.values.flatten(), q=0.1)\n",
    "q17_djf = np.quantile(df_diff_djf_ens_first.values.flatten(), q=0.17)\n",
    "q83_djf = np.quantile(df_diff_djf_ens_first.values.flatten(), q=0.83)\n",
    "q90_djf = np.quantile(df_diff_djf_ens_first.values.flatten(), q=0.9)\n",
    "\n",
    "\n",
    "q05_son = np.quantile(df_diff_son_ens_first.values, q=0.05)\n",
    "q10_son = np.quantile(df_diff_son_ens_first.values.flatten(), q=0.1)\n",
    "q17_son = np.quantile(df_diff_son_ens_first.values.flatten(), q=0.17)\n",
    "q83_son = np.quantile(df_diff_son_ens_first.values.flatten(), q=0.83)\n",
    "q90_son = np.quantile(df_diff_son_ens_first.values.flatten(), q=0.9)\n",
    "q95_son = np.quantile(df_diff_son_ens_first.values, q=0.95)"
   ]
  },
  {
   "cell_type": "code",
   "execution_count": 19,
   "id": "c68b6966-ba36-43e3-aa34-1a1500182111",
   "metadata": {},
   "outputs": [
    {
     "data": {
      "text/plain": [
       "(-0.29415213872238294,\n",
       " -0.05603569569142029,\n",
       " 1.7953289918703554,\n",
       " 2.019769107495698)"
      ]
     },
     "execution_count": 19,
     "metadata": {},
     "output_type": "execute_result"
    }
   ],
   "source": [
    "q10_djf, q17_djf, q83_djf, q90_djf"
   ]
  },
  {
   "cell_type": "code",
   "execution_count": 20,
   "id": "98ba87a6-a8f3-4cae-bce3-8deca475be79",
   "metadata": {},
   "outputs": [
    {
     "data": {
      "text/plain": [
       "(0.5153170940170959, 0.7206918616214969, 2.306376800108938, 2.5825933048432965)"
      ]
     },
     "execution_count": 20,
     "metadata": {},
     "output_type": "execute_result"
    }
   ],
   "source": [
    "q10_son, q17_son, q83_son, q90_son"
   ]
  },
  {
   "cell_type": "code",
   "execution_count": 21,
   "id": "d2ccec3d-07e3-41a5-bc7c-3457ec5a646e",
   "metadata": {},
   "outputs": [
    {
     "name": "stdout",
     "output_type": "stream",
     "text": [
      "ACCESS-ESM1-5      1.317489\n",
      "CESM2-WACCM        1.681809\n",
      "CNRM-CM6-1         2.290443\n",
      "CNRM-ESM2-1        0.793843\n",
      "CanESM5            2.896183\n",
      "HadGEM3-GC31-LL    1.342038\n",
      "HadGEM3-GC31-MM    1.338893\n",
      "IPSL-CM6A-LR       2.623698\n",
      "MIROC-ES2L         2.647664\n",
      "UKESM1-0-LL        2.325174\n",
      "dtype: float64 1.9257234820734623\n"
     ]
    }
   ],
   "source": [
    "djf_range = multi_r_models_djf.max() - multi_r_models_djf.min()\n",
    "print(djf_range, djf_range.mean()) # 0.79 - 2.9"
   ]
  },
  {
   "cell_type": "code",
   "execution_count": 22,
   "id": "8ea76b2c-78e6-4cd7-b629-dc365bc51794",
   "metadata": {},
   "outputs": [
    {
     "name": "stdout",
     "output_type": "stream",
     "text": [
      "ACCESS-ESM1-5      1.491986\n",
      "CESM2-WACCM        1.621320\n",
      "CNRM-CM6-1         1.552760\n",
      "CNRM-ESM2-1        0.788846\n",
      "CanESM5            2.210956\n",
      "HadGEM3-GC31-LL    1.833596\n",
      "HadGEM3-GC31-MM    1.288657\n",
      "IPSL-CM6A-LR       1.038663\n",
      "MIROC-ES2L         2.704795\n",
      "UKESM1-0-LL        2.506590\n",
      "dtype: float64 1.7038166177714316\n"
     ]
    }
   ],
   "source": [
    "son_range = multi_r_models_son.max() - multi_r_models_son.min()\n",
    "print(son_range, son_range.mean()) # 0.79 - 2.70, 1.70"
   ]
  },
  {
   "cell_type": "code",
   "execution_count": 23,
   "id": "e82355c0-6fae-4399-bccd-44b865102c2b",
   "metadata": {},
   "outputs": [],
   "source": [
    "SIG_PVAL = 0.05"
   ]
  },
  {
   "cell_type": "code",
   "execution_count": 24,
   "id": "83fe5be5-f6c1-4cf6-ba91-246e50c190ab",
   "metadata": {},
   "outputs": [
    {
     "data": {
      "text/plain": [
       "73.26545530492898"
      ]
     },
     "execution_count": 24,
     "metadata": {},
     "output_type": "execute_result"
    }
   ],
   "source": [
    "sig_models_djf = multi_r_models_djf[multi_r_models_pval_djf < SIG_PVAL].count(axis=0) / multi_r_models_djf.count(axis=0)\n",
    "sig_models_djf.mean() * 100"
   ]
  },
  {
   "cell_type": "code",
   "execution_count": 68,
   "id": "3eada4b3-79c7-4f2a-9ec7-e036c48a6e6c",
   "metadata": {},
   "outputs": [
    {
     "data": {
      "text/plain": [
       "ACCESS-ESM1-5      1.317489\n",
       "CESM2-WACCM        1.681809\n",
       "CNRM-CM6-1         2.290443\n",
       "CNRM-ESM2-1        0.793843\n",
       "CanESM5            2.896183\n",
       "HadGEM3-GC31-LL    1.342038\n",
       "HadGEM3-GC31-MM    1.338893\n",
       "IPSL-CM6A-LR       2.623698\n",
       "MIROC-ES2L         2.647664\n",
       "UKESM1-0-LL        2.325174\n",
       "dtype: float64"
      ]
     },
     "execution_count": 68,
     "metadata": {},
     "output_type": "execute_result"
    }
   ],
   "source": [
    "multi_r_models_djf.max() - multi_r_models_djf.min() "
   ]
  },
  {
   "cell_type": "code",
   "execution_count": 69,
   "id": "4271cfd6-bd7c-4fa2-aa7a-b0cd3fd0cb47",
   "metadata": {},
   "outputs": [
    {
     "data": {
      "text/plain": [
       "ACCESS-ESM1-5      1.491986\n",
       "CESM2-WACCM        1.621320\n",
       "CNRM-CM6-1         1.552760\n",
       "CNRM-ESM2-1        0.788846\n",
       "CanESM5            2.210956\n",
       "HadGEM3-GC31-LL    1.833596\n",
       "HadGEM3-GC31-MM    1.288657\n",
       "IPSL-CM6A-LR       1.038663\n",
       "MIROC-ES2L         2.704795\n",
       "UKESM1-0-LL        2.506590\n",
       "dtype: float64"
      ]
     },
     "execution_count": 69,
     "metadata": {},
     "output_type": "execute_result"
    }
   ],
   "source": [
    "multi_r_models_son.max() - multi_r_models_son.min()  # 0.788846 - 2.704795"
   ]
  },
  {
   "cell_type": "code",
   "execution_count": 62,
   "id": "e23ba990-227e-42c6-86ae-9f47e7885cd6",
   "metadata": {},
   "outputs": [
    {
     "data": {
      "text/html": [
       "<div>\n",
       "<style scoped>\n",
       "    .dataframe tbody tr th:only-of-type {\n",
       "        vertical-align: middle;\n",
       "    }\n",
       "\n",
       "    .dataframe tbody tr th {\n",
       "        vertical-align: top;\n",
       "    }\n",
       "\n",
       "    .dataframe thead th {\n",
       "        text-align: right;\n",
       "    }\n",
       "</style>\n",
       "<table border=\"1\" class=\"dataframe\">\n",
       "  <thead>\n",
       "    <tr style=\"text-align: right;\">\n",
       "      <th></th>\n",
       "      <th>sig</th>\n",
       "      <th>nonsig</th>\n",
       "    </tr>\n",
       "  </thead>\n",
       "  <tbody>\n",
       "    <tr>\n",
       "      <th>ACCESS-ESM1-5</th>\n",
       "      <td>7</td>\n",
       "      <td>5</td>\n",
       "    </tr>\n",
       "    <tr>\n",
       "      <th>CESM2-WACCM</th>\n",
       "      <td>15</td>\n",
       "      <td>3</td>\n",
       "    </tr>\n",
       "    <tr>\n",
       "      <th>CNRM-CM6-1</th>\n",
       "      <td>29</td>\n",
       "      <td>7</td>\n",
       "    </tr>\n",
       "    <tr>\n",
       "      <th>CNRM-ESM2-1</th>\n",
       "      <td>4</td>\n",
       "      <td>8</td>\n",
       "    </tr>\n",
       "    <tr>\n",
       "      <th>CanESM5</th>\n",
       "      <td>113</td>\n",
       "      <td>1</td>\n",
       "    </tr>\n",
       "    <tr>\n",
       "      <th>HadGEM3-GC31-LL</th>\n",
       "      <td>13</td>\n",
       "      <td>11</td>\n",
       "    </tr>\n",
       "    <tr>\n",
       "      <th>HadGEM3-GC31-MM</th>\n",
       "      <td>24</td>\n",
       "      <td>0</td>\n",
       "    </tr>\n",
       "    <tr>\n",
       "      <th>IPSL-CM6A-LR</th>\n",
       "      <td>14</td>\n",
       "      <td>4</td>\n",
       "    </tr>\n",
       "    <tr>\n",
       "      <th>MIROC-ES2L</th>\n",
       "      <td>38</td>\n",
       "      <td>4</td>\n",
       "    </tr>\n",
       "    <tr>\n",
       "      <th>UKESM1-0-LL</th>\n",
       "      <td>20</td>\n",
       "      <td>16</td>\n",
       "    </tr>\n",
       "  </tbody>\n",
       "</table>\n",
       "</div>"
      ],
      "text/plain": [
       "                 sig  nonsig\n",
       "ACCESS-ESM1-5      7       5\n",
       "CESM2-WACCM       15       3\n",
       "CNRM-CM6-1        29       7\n",
       "CNRM-ESM2-1        4       8\n",
       "CanESM5          113       1\n",
       "HadGEM3-GC31-LL   13      11\n",
       "HadGEM3-GC31-MM   24       0\n",
       "IPSL-CM6A-LR      14       4\n",
       "MIROC-ES2L        38       4\n",
       "UKESM1-0-LL       20      16"
      ]
     },
     "execution_count": 62,
     "metadata": {},
     "output_type": "execute_result"
    }
   ],
   "source": [
    "djf_sig_df = pd.concat([multi_r_models_djf[multi_r_models_pval_djf < SIG_PVAL].count(), multi_r_models_djf[multi_r_models_pval_djf >= SIG_PVAL].count()], axis=1)\n",
    "djf_sig_df.columns=['sig', 'nonsig']\n",
    "djf_sig_df"
   ]
  },
  {
   "cell_type": "code",
   "execution_count": 64,
   "id": "3029723f-92d2-4b70-bbfb-7417b43fa101",
   "metadata": {},
   "outputs": [
    {
     "data": {
      "text/plain": [
       "sig       277\n",
       "nonsig     59\n",
       "dtype: int64"
      ]
     },
     "execution_count": 64,
     "metadata": {},
     "output_type": "execute_result"
    }
   ],
   "source": [
    "djf_sig_df.sum()"
   ]
  },
  {
   "cell_type": "code",
   "execution_count": 63,
   "id": "d9857ee9-2db0-4247-9aa1-47bfbebc4573",
   "metadata": {},
   "outputs": [
    {
     "data": {
      "text/html": [
       "<div>\n",
       "<style scoped>\n",
       "    .dataframe tbody tr th:only-of-type {\n",
       "        vertical-align: middle;\n",
       "    }\n",
       "\n",
       "    .dataframe tbody tr th {\n",
       "        vertical-align: top;\n",
       "    }\n",
       "\n",
       "    .dataframe thead th {\n",
       "        text-align: right;\n",
       "    }\n",
       "</style>\n",
       "<table border=\"1\" class=\"dataframe\">\n",
       "  <thead>\n",
       "    <tr style=\"text-align: right;\">\n",
       "      <th></th>\n",
       "      <th>sig</th>\n",
       "      <th>nonsig</th>\n",
       "    </tr>\n",
       "  </thead>\n",
       "  <tbody>\n",
       "    <tr>\n",
       "      <th>ACCESS-ESM1-5</th>\n",
       "      <td>12</td>\n",
       "      <td>0</td>\n",
       "    </tr>\n",
       "    <tr>\n",
       "      <th>CESM2-WACCM</th>\n",
       "      <td>13</td>\n",
       "      <td>5</td>\n",
       "    </tr>\n",
       "    <tr>\n",
       "      <th>CNRM-CM6-1</th>\n",
       "      <td>36</td>\n",
       "      <td>0</td>\n",
       "    </tr>\n",
       "    <tr>\n",
       "      <th>CNRM-ESM2-1</th>\n",
       "      <td>12</td>\n",
       "      <td>0</td>\n",
       "    </tr>\n",
       "    <tr>\n",
       "      <th>CanESM5</th>\n",
       "      <td>114</td>\n",
       "      <td>0</td>\n",
       "    </tr>\n",
       "    <tr>\n",
       "      <th>HadGEM3-GC31-LL</th>\n",
       "      <td>24</td>\n",
       "      <td>0</td>\n",
       "    </tr>\n",
       "    <tr>\n",
       "      <th>HadGEM3-GC31-MM</th>\n",
       "      <td>23</td>\n",
       "      <td>1</td>\n",
       "    </tr>\n",
       "    <tr>\n",
       "      <th>IPSL-CM6A-LR</th>\n",
       "      <td>18</td>\n",
       "      <td>0</td>\n",
       "    </tr>\n",
       "    <tr>\n",
       "      <th>MIROC-ES2L</th>\n",
       "      <td>18</td>\n",
       "      <td>24</td>\n",
       "    </tr>\n",
       "    <tr>\n",
       "      <th>UKESM1-0-LL</th>\n",
       "      <td>34</td>\n",
       "      <td>2</td>\n",
       "    </tr>\n",
       "  </tbody>\n",
       "</table>\n",
       "</div>"
      ],
      "text/plain": [
       "                 sig  nonsig\n",
       "ACCESS-ESM1-5     12       0\n",
       "CESM2-WACCM       13       5\n",
       "CNRM-CM6-1        36       0\n",
       "CNRM-ESM2-1       12       0\n",
       "CanESM5          114       0\n",
       "HadGEM3-GC31-LL   24       0\n",
       "HadGEM3-GC31-MM   23       1\n",
       "IPSL-CM6A-LR      18       0\n",
       "MIROC-ES2L        18      24\n",
       "UKESM1-0-LL       34       2"
      ]
     },
     "execution_count": 63,
     "metadata": {},
     "output_type": "execute_result"
    }
   ],
   "source": [
    "son_sig_df = pd.concat([multi_r_models_son[multi_r_models_pval_son < SIG_PVAL].count(), multi_r_models_son[multi_r_models_pval_son >= SIG_PVAL].count()], axis=1)\n",
    "son_sig_df.columns=['sig', 'nonsig']\n",
    "son_sig_df"
   ]
  },
  {
   "cell_type": "code",
   "execution_count": 65,
   "id": "231592d0-d4df-4707-8136-2eb4d2b1c89f",
   "metadata": {},
   "outputs": [
    {
     "data": {
      "text/plain": [
       "sig       304\n",
       "nonsig     32\n",
       "dtype: int64"
      ]
     },
     "execution_count": 65,
     "metadata": {},
     "output_type": "execute_result"
    }
   ],
   "source": [
    "son_sig_df.sum()"
   ]
  },
  {
   "cell_type": "code",
   "execution_count": 25,
   "id": "11e554b9-a9c1-4306-9653-f80c00bcad3d",
   "metadata": {},
   "outputs": [
    {
     "name": "stderr",
     "output_type": "stream",
     "text": [
      "/tmp/ipykernel_8076/1000774155.py:60: UserWarning: set_ticklabels() should only be used with a fixed number of ticks, i.e. after set_ticks() or using a FixedLocator.\n",
      "  axes[1].set_yticklabels(['']*18)\n",
      "/tmp/ipykernel_8076/1000774155.py:61: UserWarning: set_ticklabels() should only be used with a fixed number of ticks, i.e. after set_ticks() or using a FixedLocator.\n",
      "  axes[2].set_yticklabels(['']*3)\n"
     ]
    },
    {
     "data": {
      "text/plain": [
       "<matplotlib.legend.Legend at 0x79b93acda4d0>"
      ]
     },
     "execution_count": 25,
     "metadata": {},
     "output_type": "execute_result"
    },
    {
     "data": {
      "image/png": "[encoded data removed]",
      "text/plain": [
       "<Figure size 640x480 with 3 Axes>"
      ]
     },
     "metadata": {},
     "output_type": "display_data"
    }
   ],
   "source": [
    "sns.set_context('paper')\n",
    "sns.set_style('whitegrid')\n",
    "\n",
    "fig, axes = plt.subplots(3, 1, sharey=False, sharex=True, height_ratios=[0.7, 0.45, 0.05]) \n",
    "plt.subplots_adjust(hspace=0)\n",
    "\n",
    "for column in multi_r_models_djf.columns:\n",
    "    sns.kdeplot(multi_r_models_djf[column], fill=False, linewidth=1.5, ax=axes[0])\n",
    "\n",
    "y_offset = 0.0\n",
    "# for ind, column in enumerate(multi_r_models_djf.columns):\n",
    "for ind, (model, count) in enumerate(model_counts.items()):\n",
    "    # if count < 1:\n",
    "    for num in range(1, int(count)+1):\n",
    "        sig_model_data = multi_r_models_djf[multi_r_models_pval_djf < SIG_PVAL].loc[realisation_numbers == num][model].dropna()\n",
    "        nonsig_model_data = multi_r_models_djf[multi_r_models_pval_djf >= SIG_PVAL].loc[realisation_numbers == num][model].dropna()\n",
    "        model_data = multi_r_models_djf.loc[realisation_numbers == num][model].dropna()\n",
    "        if len(model_data) == 0:\n",
    "            continue\n",
    "        if len(model_data) == len(sig_model_data):\n",
    "            axes[1].scatter(np.median(model_data.values), y=-y_offset, marker=marker_list[ind], color=f'C{ind}', label='Point Plot', s=30, alpha=.75)\n",
    "        else:\n",
    "            axes[1].scatter(np.median(model_data.values), y=-y_offset, marker=marker_list[ind], color=f'C{ind}', label='Point Plot', s=30, alpha=.15)\n",
    "\n",
    "        axes[1].plot(model_data.values, np.zeros_like(model_data.values)-y_offset, color=f'C{ind}', linestyle='-', alpha=.5)\n",
    "        cap_length = 0.2  # Adjust the length of the caps as needed\n",
    "        axes[1].vlines(np.max(model_data.values), -y_offset - cap_length, -y_offset + cap_length, colors=f'C{ind}', alpha=.5)\n",
    "        axes[1].vlines(np.min(model_data.values), -y_offset - cap_length, -y_offset + cap_length, colors=f'C{ind}', alpha=.5)\n",
    "    # else:\n",
    "    #     sns.scatterplot(x=multi_r_models_djf[model], y=np.zeros_like(multi_r_models_djf[model])-y_offset, alpha=0.75,\\\n",
    "    #                 marker=marker_list[ind], s=34, facecolor=f'C{ind}', edgecolor=f'C{ind}', label=f'{model}', ax=axes[1])\n",
    "    y_offset += .5\n",
    "sns.kdeplot(df_diff_djf_ens_first.mean(axis=1), ax=axes[0], color='k', edgecolor='grey',\\\n",
    "            fill=True, linewidth=2, alpha=.08, bw_adjust=.6)\n",
    "\n",
    "    \n",
    "axes[0].vlines(x=q10_djf, ymin=0, ymax=0.3, color='k', linestyle=(0, (3, 1, 1, 1)),linewidth=2, alpha=.5)\n",
    "axes[0].vlines(x=q17_djf, ymin=0, ymax=0.31, color='k', linestyle='dotted',linewidth=2, alpha=.5)\n",
    "axes[0].vlines(x=q83_djf, ymin=0, ymax=0.39, color='k', linestyle='dotted',linewidth=2, alpha=.5)\n",
    "axes[0].vlines(x=q90_djf, ymin=0, ymax=0.26, color='k', linestyle=(0, (3, 1, 1, 1)),linewidth=2, alpha=.5)\n",
    "\n",
    "axes[2].vlines(q10_djf, 0, 1, color='k', linestyle=(0, (3, 1, 1, 1)),linewidth=2, alpha=.5)\n",
    "axes[2].vlines(q17_djf, 0, 1, color='k', linestyle='dotted',linewidth=2, alpha=.5)\n",
    "axes[2].vlines(q83_djf, 0, 1, color='k', linestyle='dotted',linewidth=2, alpha=.5)\n",
    "axes[2].vlines(q90_djf, 0, 1, color='k', linestyle=(0, (3, 1, 1, 1)),linewidth=2, alpha=.5)\n",
    "axes[2].fill_between(x=[q17_djf, q83_djf], y1=0, y2=1, color='k', alpha=.3)\n",
    "axes[2].fill_between(x=[q10_djf, q90_djf], y1=0, y2=1, color='k', alpha=.2)\n",
    "\n",
    "axes[0].hlines(y=1.7, xmin=-2.7, xmax=-2.4, color='k', linewidth=3, alpha=.5)\n",
    "axes[0].hlines(y=1.55, xmin=-2.7, xmax=-2.4, color='k', linestyle=(0, (3, 1, 1, 1)), linewidth=3, alpha=.5)\n",
    "axes[0].hlines(y=1.4, xmin=-2.7, xmax=-2.4, color='k', linestyle=(0, (1, 1)), linewidth=3, alpha=.5)\n",
    "axes[0].text(s=\"All estimates (1 real.)\", x=-2.3, y=1.665, color='k', fontsize=10, alpha=.6)\n",
    "axes[0].text(s=\"80% estimates\", x=-2.3, y=1.51, color='k', fontsize=10, alpha=.6)\n",
    "axes[0].text(s=\"66% estimates\", x=-2.3, y=1.365, color='k', fontsize=10, alpha=.6)\n",
    "\n",
    "\n",
    "axes[2].grid(axis='y')\n",
    "axes[1].grid(axis='y')\n",
    "axes[0].set_yticks(np.arange(0, 2, 0.2))\n",
    "axes[1].set_yticklabels(['']*18)\n",
    "axes[2].set_yticklabels(['']*3)\n",
    "axes[2].set_xlabel(\"Future mean jet shift (${\\circ N}$)\", size=14)\n",
    "axes[1].set_ylim(-4.8, 0.35)\n",
    "axes[0].set_ylabel(\"Density\", size=14)\n",
    "axes[0].text(s=\"b)\", x=-4, y=1.7, color='grey', size=20)\n",
    "axes[0].set_ylim(0, 1.8)\n",
    "\n",
    "for ax in axes:\n",
    "    ax.set_xlim(-2.9, 4.7)\n",
    "\n",
    "axes[1].legend(handles=legend_elements, ncols=1, bbox_to_anchor=(1.0, 1.35), loc=4, fontsize=8)\n",
    "\n",
    "# fig.savefig(f'figures/figure_4_intramodel_djf.png', bbox_inches='tight', dpi=200)"
   ]
  },
  {
   "cell_type": "code",
   "execution_count": 26,
   "id": "02cdfba2-8828-429c-b5d1-4c36d59d30f0",
   "metadata": {},
   "outputs": [
    {
     "data": {
      "text/plain": [
       "90.53571428571429"
      ]
     },
     "execution_count": 26,
     "metadata": {},
     "output_type": "execute_result"
    }
   ],
   "source": [
    "sig_models_son = multi_r_models_son[multi_r_models_pval_son < SIG_PVAL].count(axis=0) / multi_r_models_son.count(axis=0)\n",
    "sig_models_son.mean() * 100"
   ]
  },
  {
   "cell_type": "code",
   "execution_count": 27,
   "id": "06a1ab49-50a0-4238-8d6f-566c07ebfadd",
   "metadata": {},
   "outputs": [
    {
     "name": "stderr",
     "output_type": "stream",
     "text": [
      "/tmp/ipykernel_8076/3770928610.py:50: UserWarning: set_ticklabels() should only be used with a fixed number of ticks, i.e. after set_ticks() or using a FixedLocator.\n",
      "  axes[1].set_yticklabels(['']*18)\n",
      "/tmp/ipykernel_8076/3770928610.py:51: UserWarning: set_ticklabels() should only be used with a fixed number of ticks, i.e. after set_ticks() or using a FixedLocator.\n",
      "  axes[2].set_yticklabels(['']*3)\n"
     ]
    },
    {
     "data": {
      "image/png": "[encoded data removed]",
      "text/plain": [
       "<Figure size 640x480 with 3 Axes>"
      ]
     },
     "metadata": {},
     "output_type": "display_data"
    }
   ],
   "source": [
    "sns.set_context('paper')\n",
    "sns.set_style('whitegrid')\n",
    "\n",
    "fig, axes = plt.subplots(3, 1,  sharey=False, sharex=True, height_ratios=[0.7, 0.35, 0.05]) \n",
    "plt.subplots_adjust(hspace=0)\n",
    "\n",
    "for column in multi_r_models_son.columns:\n",
    "    sns.kdeplot(multi_r_models_son[column], linewidth=1.5, fill=False, ax=axes[0])\n",
    "\n",
    "y_offset = 0.0\n",
    "# for ind, column in enumerate(multi_r_models_djf.columns):\n",
    "for ind, (model, count) in enumerate(model_counts.items()):\n",
    "    # if count < 5:\n",
    "    for num in range(1, int(count)+1):\n",
    "        sig_model_data = multi_r_models_son[multi_r_models_pval_son < SIG_PVAL].loc[realisation_numbers == num][model].dropna()\n",
    "        nonsig_model_data = multi_r_models_son[multi_r_models_pval_son >= SIG_PVAL].loc[realisation_numbers == num][model].dropna()\n",
    "        model_data = multi_r_models_son.loc[realisation_numbers == num][model].dropna()\n",
    "        if len(model_data) == 0:\n",
    "            continue\n",
    "        if len(model_data) == len(sig_model_data):\n",
    "            axes[1].scatter(np.median(model_data.values), y=-y_offset, marker=marker_list[ind], color=f'C{ind}', label='Point Plot', s=30, alpha=.75)\n",
    "        else:\n",
    "            axes[1].scatter(np.median(model_data.values), y=-y_offset, marker=marker_list[ind], color=f'C{ind}', label='Point Plot', s=30, alpha=.15)\n",
    "        axes[1].plot(model_data.values, np.zeros_like(model_data.values)-y_offset, color=f'C{ind}', linestyle='-', alpha=.5)\n",
    "        cap_length = 0.2  # Adjust the length of the caps as needed\n",
    "        axes[1].vlines(np.max(model_data.values), -y_offset - cap_length, -y_offset + cap_length, colors=f'C{ind}', alpha=.5)\n",
    "        axes[1].vlines(np.min(model_data.values), -y_offset - cap_length, -y_offset + cap_length, colors=f'C{ind}', alpha=.5)\n",
    "    # else:\n",
    "    #     sns.scatterplot(x=multi_r_models_son[model], y=np.zeros_like(multi_r_models_son[model])-y_offset, alpha=0.75,\\\n",
    "    #                 marker=marker_list[ind], s=34, facecolor=f'C{ind}', edgecolor=f'C{ind}', ax=axes[1])\n",
    "    y_offset += .5\n",
    "sns.kdeplot(df_diff_son_ens_first.mean(axis=1), ax=axes[0], color='k', edgecolor='grey',\\\n",
    "            fill=True, linewidth=2, alpha=.08, bw_adjust=.6)\n",
    "\n",
    "    \n",
    "axes[0].vlines(x=q10_son, ymin=0, ymax=0.2, color='k', linestyle=(0, (3, 1, 1, 1)),linewidth=2, alpha=.5)\n",
    "axes[0].vlines(x=q17_son, ymin=0, ymax=0.28, color='k', linestyle='dotted',linewidth=2, alpha=.5)\n",
    "axes[0].vlines(x=q83_son, ymin=0, ymax=0.40, color='k', linestyle='dotted',linewidth=2, alpha=.5)\n",
    "axes[0].vlines(x=q90_son, ymin=0, ymax=0.28, color='k', linestyle=(0, (3, 1, 1, 1)),linewidth=2, alpha=.5)\n",
    "\n",
    "axes[2].vlines(q10_son, 0, 1, color='k', linestyle=(0, (3, 1, 1, 1)),linewidth=2, alpha=.5)\n",
    "axes[2].vlines(q17_son, 0, 1, color='k', linestyle='dotted',linewidth=2, alpha=.5)\n",
    "axes[2].vlines(q83_son, 0, 1, color='k', linestyle='dotted',linewidth=2, alpha=.5)\n",
    "axes[2].vlines(q90_son, 0, 1, color='k', linestyle=(0, (3, 1, 1, 1)),linewidth=2, alpha=.5)\n",
    "axes[2].fill_between(x=[q17_son, q83_son], y1=0, y2=1, color='k', alpha=.3)\n",
    "axes[2].fill_between(x=[q10_son, q90_son], y1=0, y2=1, color='k', alpha=.2)\n",
    "\n",
    "axes[2].grid(axis='y')\n",
    "axes[1].grid(axis='y')\n",
    "axes[1].set_yticklabels(['']*18)\n",
    "axes[2].set_yticklabels(['']*3)\n",
    "axes[2].set_xlabel(\"Future mean jet shift (${\\circ N}$)\", size=14)\n",
    "axes[0].set_ylabel(\"Density\", size=14)\n",
    "axes[0].text(s=\"c)\", x=-4, y=1.7, color='grey', size=20)\n",
    "axes[0].set_ylim(0, 1.8)\n",
    "for ax in axes:\n",
    "    ax.set_xlim(-2.9, 4.7)\n",
    "    \n",
    "\n",
    "# Create a legend\n",
    "# axes[1].legend(handles=legend_elements, ncols=1, bbox_to_anchor=(0.37, 3.), fontsize=8)\n",
    "\n",
    "# fig.savefig(f'figures/figure_4_intramodel_son_no_legend.png', bbox_inches='tight', dpi=200)"
   ]
  },
  {
   "cell_type": "code",
   "execution_count": null,
   "id": "a60f45e5-60cb-4069-ba8c-e3ceffc2067c",
   "metadata": {},
   "outputs": [],
   "source": []
  }
 ],
 "metadata": {
  "kernelspec": {
   "display_name": "Python 3 (ipykernel)",
   "language": "python",
   "name": "python3"
  },
  "language_info": {
   "codemirror_mode": {
    "name": "ipython",
    "version": 3
   },
   "file_extension": ".py",
   "mimetype": "text/x-python",
   "name": "python",
   "nbconvert_exporter": "python",
   "pygments_lexer": "ipython3",
   "version": "3.11.3"
  }
 },
 "nbformat": 4,
 "nbformat_minor": 5
}
