{
 "cells": [
  {
   "cell_type": "markdown",
   "id": "e118f1fb-673e-4ce5-90b1-40174b4aa4ba",
   "metadata": {},
   "source": [
    "## Code required to create Figure 4\n",
    "*From \"Exploring uncertainty of trends in the lower-tropospheric North Pacific Jet.\"* \n",
    "\n",
    "Entire notebook takes ~35 minutes to run on Intel i7-10750 using 32GB RAM  \n",
    "\n",
    "Note: figure 4 is towards the end of the notebook\n"
   ]
  },
  {
   "cell_type": "code",
   "execution_count": 154,
   "id": "7d265532-7b79-4668-adcc-379542c4c2e6",
   "metadata": {},
   "outputs": [],
   "source": [
    "import collections\n",
    "import datetime\n",
    "import glob\n",
    "import re\n",
    "import os\n",
    "import pandas as pd\n",
    "import numpy as np\n",
    "import xarray as xr\n",
    "import seaborn as sns\n",
    "import matplotlib.pyplot as plt\n",
    "import matplotlib.lines as mlines\n",
    "import matplotlib.colors\n",
    "import matplotlib.transforms\n",
    "from mpl_toolkits.axes_grid1.inset_locator import inset_axes\n",
    "import scipy.stats\n",
    "\n",
    "sns.set_context('paper')"
   ]
  },
  {
   "cell_type": "markdown",
   "id": "ace9774d-d47c-46df-a247-5022c031b87e",
   "metadata": {},
   "source": [
    "# Functions to load CMIP6 runs"
   ]
  },
  {
   "cell_type": "code",
   "execution_count": 2,
   "id": "26e11e87-a57f-4427-9635-0243f0797ecf",
   "metadata": {},
   "outputs": [],
   "source": [
    "def make_combined_df_from_data_paths(data_paths, ignored_data_paths, date_format=\"\\d{2}:\\d{2}:\\d{2}\", data_name=None):\n",
    "    first_ind = 0 ## FIX: what if first value is not enough days (I am leaving for now, but could use recursion)\n",
    "    df = pd.read_csv(data_paths[first_ind])\n",
    "    df = remove_unwanted_columns(df)\n",
    "    wrote_data_name = False\n",
    "    if not data_name:\n",
    "        data_name = os.path.split(data_paths[first_ind])[-1].split(\"_\")[2] + \"_\" + os.path.split(data_paths[first_ind])[-1].split(\"_\")[4]\n",
    "        wrote_data_name = True\n",
    "    df.columns = [\"time\", data_name]\n",
    "    # remove time from date\n",
    "    df['time'] = df['time'].apply(lambda x: re.sub(date_format, \"\", x).strip())\n",
    "    for f in data_paths[first_ind+1:]:\n",
    "        if f in ignored_data_paths:\n",
    "            # print(f)\n",
    "            continue\n",
    "        current = pd.read_csv(f, header=0)\n",
    "        current = remove_unwanted_columns(current)\n",
    "        if wrote_data_name:\n",
    "            current_data_name = os.path.split(f)[-1].split(\"_\")[2] + \"_\" + os.path.split(f)[-1].split(\"_\")[4]\n",
    "        else:\n",
    "            current_data_name = data_name\n",
    "        current.columns = [\"time\", current_data_name] # Note: makes the assumption that time and jet lat is this way around (check because would fail otherwise)\n",
    "        # remove time from date\n",
    "        current['time'] = current['time'].apply(lambda x: re.sub(date_format, \"\", x).strip())\n",
    "        df = df.merge(current, how='outer', on='time')\n",
    "    df = df.set_index('time')\n",
    "    df = df.sort_index()\n",
    "    return df\n",
    "\n",
    "\n",
    "def make_combined_df_from_data_paths_for_bracegirdle(data_paths, ignored_data_paths, data_name=None):\n",
    "    first_ind = 0 ## FIX: what if first value is not enough days (I am leaving for now, but could use recursion)\n",
    "    df = pd.read_csv(data_paths[first_ind])\n",
    "    df = remove_unwanted_columns(df)\n",
    "    wrote_data_name = False\n",
    "    if not data_name:\n",
    "        data_name = os.path.split(data_paths[first_ind])[-1].split(\"_\")[2] + \"_\" + os.path.split(data_paths[first_ind])[-1].split(\"_\")[4]\n",
    "        wrote_data_name = True\n",
    "    df.columns = [\"year\", data_name] # Note: makes the assumption that time and jet lat is this way around (check because would fail otherwise)\n",
    "    # remove time from date\n",
    "    for f in data_paths[first_ind+1:]:\n",
    "        if f in ignored_data_paths:\n",
    "            continue\n",
    "        current = pd.read_csv(f, header=0)\n",
    "        current = remove_unwanted_columns(current)\n",
    "        if wrote_data_name:\n",
    "            current_data_name = os.path.split(f)[-1].split(\"_\")[2] + \"_\" + os.path.split(f)[-1].split(\"_\")[4]\n",
    "        else:\n",
    "            current_data_name = data_name\n",
    "        current.columns = [\"year\", current_data_name] # Note: makes the assumption that time and jet lat is this way around (check because would fail otherwise)\n",
    "        # remove time from date\n",
    "        df = df.merge(current, how='outer', on='year')\n",
    "    df = df.set_index('year')\n",
    "    df = df.sort_index()\n",
    "    return df\n",
    "\n",
    "\n",
    "def remove_unwanted_columns(data):\n",
    "    for col in data.columns:\n",
    "        if col in COLS_TO_REMOVE:\n",
    "            data = data.drop(col, axis=1)\n",
    "    return data"
   ]
  },
  {
   "cell_type": "markdown",
   "id": "496d6762-c052-4122-9957-c0ff670cbfb6",
   "metadata": {},
   "source": [
    "# Globals"
   ]
  },
  {
   "cell_type": "code",
   "execution_count": 3,
   "id": "66fe2506-8d72-44c9-986c-241d3f720db1",
   "metadata": {},
   "outputs": [],
   "source": [
    "METRIC_NAMES = [\"Woollings et al. 2010\", \"Barnes & Polvani 2013\", \"Grise & Polvani 2014\", \\\n",
    "                \"Barnes & Simpson 2017\", \"Bracegirdle et al. 2018\", \"Zappa et al. 2018\", \"Kerr et al. 2020\"]\n",
    "\n",
    "METRIC_DATA_NAMES = ['Woollings2010_NorthPacific', 'BarnesPolvani2013_NorthPacific','GrisePolvani2014_NorthPacific',\\\n",
    "                     'BarnesSimpson2017_NorthPacific', 'Bracegirdle2018_NorthPacific',\\\n",
    "                     'Zappa2018_NorthPacific', 'Kerr2020_NorthPacific'] # , \"Barnes & Polvani 2015\"\n",
    "METRIC_SHORTHAND = [\"W10\", \"BP13\",\"GP14\", \"BS17\", \"B18\", \"Z18\", \"K20\"] # \"BP15\","
   ]
  },
  {
   "cell_type": "code",
   "execution_count": 4,
   "id": "5114e0de-6cda-461b-bd84-79dabd450c13",
   "metadata": {},
   "outputs": [],
   "source": [
    "METRIC_LABEL_RENAMER = dict(zip(METRIC_DATA_NAMES, METRIC_NAMES))\n",
    "METRIC_SHORTHAND_LABEL_RENAMER = dict(zip(METRIC_NAMES, METRIC_SHORTHAND))"
   ]
  },
  {
   "cell_type": "code",
   "execution_count": 5,
   "id": "f42c0fa4-55b9-4546-9eec-9ff04398e32d",
   "metadata": {},
   "outputs": [],
   "source": [
    "ALL_MONTHS = [\"January\", \"February\", \"March\", \"April\", \"May\", \"June\",\\\n",
    "              \"July\", \"August\", \"September\", \"October\", \"November\", \"December\"]\n",
    "ALL_MONTHS_SHORT = [\"Jan\", \"Feb\", \"Mar\", \"Apr\", \"May\", \"Jun\", \"Jul\", \"Aug\", \"Sep\", \"Oct\", \"Nov\", \"Dec\"]"
   ]
  },
  {
   "cell_type": "code",
   "execution_count": 6,
   "id": "b6300ccd-6201-4de2-8993-4ca1c16f4544",
   "metadata": {},
   "outputs": [],
   "source": [
    "MONTH_DICT = dict(zip(np.arange(1, 13), ALL_MONTHS))\n",
    "MONTH_SHORT_DICT = dict(zip(np.arange(1, 13), ALL_MONTHS_SHORT))"
   ]
  },
  {
   "cell_type": "markdown",
   "id": "594be839-7f33-4d02-bb91-084e30eb9243",
   "metadata": {},
   "source": [
    "# Load CMIP6 SSP5-8.5 "
   ]
  },
  {
   "cell_type": "code",
   "execution_count": 7,
   "id": "b3cc186f-4f23-4ef9-bed7-516cf0d52512",
   "metadata": {},
   "outputs": [],
   "source": [
    "PROJ_START_DATE = \"2070-01-01\"\n",
    "PROJ_END_DATE = \"2099-12-31\"\n",
    "PERIOD_NUMBER_OF_DAYS = (pd.to_datetime(PROJ_END_DATE) - pd.to_datetime(PROJ_START_DATE)).days\n",
    "MISSING_NUM_DAYS_THRESHOLD = 0.05 ## only allow for up to 5% less duration in data "
   ]
  },
  {
   "cell_type": "code",
   "execution_count": 8,
   "id": "2d6983ba-7b30-4dfe-b305-f52e4b85357e",
   "metadata": {},
   "outputs": [],
   "source": [
    "CMIP6_2070to2100_dir = \"/home/thomaskeel/Documents/PhD/JASMIN experiments/NPAC_only_AllScenarioMIP_daily_runs/outputs/ua_day*ssp585*\""
   ]
  },
  {
   "cell_type": "code",
   "execution_count": 9,
   "id": "9a47ed6d-95f3-47d5-ae67-3c19ce0a2736",
   "metadata": {},
   "outputs": [],
   "source": [
    "metric_names = [\"Woollings et al. 2010\", \"Barnes & Polvani 2013\", \\\n",
    "                \"Barnes & Simpson 2017\", \"Grise & Polvani 2017\", \"Bracegirdle et al. 2018\", \\\n",
    "                \"Zappa et al. 2018\", \"Kerr et al. 2020\"] # , \"Barnes & Polvani 2015\"\n",
    "\n",
    "COLS_TO_REMOVE = [\"10_day_average\", \"plev\"]"
   ]
  },
  {
   "cell_type": "code",
   "execution_count": 10,
   "id": "6562afef-092f-4515-bcc0-6bb399458129",
   "metadata": {},
   "outputs": [
    {
     "name": "stdout",
     "output_type": "stream",
     "text": [
      "Num of North Pacific files: 870\n"
     ]
    }
   ],
   "source": [
    "print(\"Num of North Pacific files:\", len(glob.glob(CMIP6_2070to2100_dir + \"North Pacific\" + \"*\")))"
   ]
  },
  {
   "cell_type": "code",
   "execution_count": 11,
   "id": "55314761-a0fd-4145-bb97-7160db5247f1",
   "metadata": {
    "tags": []
   },
   "outputs": [
    {
     "name": "stdout",
     "output_type": "stream",
     "text": [
      "CPU times: user 40.2 s, sys: 1.15 s, total: 41.4 s\n",
      "Wall time: 41.4 s\n"
     ]
    }
   ],
   "source": [
    "%%time\n",
    "## takes 8 seconds on Intel i7-10750 \n",
    "time_ranges = []\n",
    "failed_data_paths = []\n",
    "data_paths_not_enough_days = []\n",
    "\n",
    "date_format=\"\\d{2}:\\d{2}:\\d{2}\"\n",
    "for file_path in glob.glob(CMIP6_2070to2100_dir):\n",
    "    try:\n",
    "        current = pd.read_csv(file_path, header=0)\n",
    "    except Exception as e:\n",
    "        print(e)\n",
    "        print(file_path)\n",
    "        continue\n",
    "    for col in COLS_TO_REMOVE:\n",
    "        try:\n",
    "            current.drop(col, inplace=True, axis=1)\n",
    "        except:\n",
    "            pass\n",
    "    try:\n",
    "        current['time'] = current['time'].apply(lambda x: re.sub(date_format, \"\", x).strip())\n",
    "    except KeyError as e:\n",
    "        ## we expect bracegirlde to fail this time formatting (as it is an annual metric) \n",
    "        assert str(e) == \"'time'\", f\"failed for another reason: {e}\"\n",
    "        failed_data_paths.append(file_path)\n",
    "        continue\n",
    "    first_time = current['time'].min()\n",
    "    last_time = current['time'].max()\n",
    "    current_data_period_in_days = (pd.to_datetime(last_time) - pd.to_datetime(first_time)).days\n",
    "    ## check there is enough days\n",
    "    if (PERIOD_NUMBER_OF_DAYS * MISSING_NUM_DAYS_THRESHOLD) < current_data_period_in_days:\n",
    "        time_ranges.append(str(first_time)+'to'+str(last_time))\n",
    "    else:\n",
    "        data_paths_not_enough_days.append(file_path)"
   ]
  },
  {
   "cell_type": "markdown",
   "id": "c6063622-54b3-46b1-9d82-1831192761ee",
   "metadata": {},
   "source": [
    "#### check dates look ok"
   ]
  },
  {
   "cell_type": "code",
   "execution_count": 12,
   "id": "4073af41-9433-47f6-9092-512ec0a39dc6",
   "metadata": {},
   "outputs": [
    {
     "data": {
      "text/plain": [
       "Counter({'2015-01-01to2100-12-31': 559,\n",
       "         '2015-01-01to2100-12-30': 112,\n",
       "         '2015-01-01to2100-12-22': 32,\n",
       "         '2015-01-01to2100-12-21': 16,\n",
       "         '2015-01-01to2099-12-30': 14,\n",
       "         '2041-01-01to2070-12-31': 7,\n",
       "         '2019-01-01to2100-12-31': 7,\n",
       "         '2020-01-01to2099-12-31': 7,\n",
       "         '2071-01-01to2100-12-31': 6,\n",
       "         '2015-01-01to2099-12-31': 5,\n",
       "         '2015-01-01to2099-12-21': 2,\n",
       "         '2020-01-01to2099-12-22': 1,\n",
       "         '2041-01-01to2100-12-31': 1,\n",
       "         '2041-01-01to2070-12-25': 1,\n",
       "         '2019-01-01to2100-12-22': 1,\n",
       "         '2015-01-01to2099-12-26': 1,\n",
       "         '2071-01-01to2100-12-25': 1})"
      ]
     },
     "execution_count": 12,
     "metadata": {},
     "output_type": "execute_result"
    }
   ],
   "source": [
    "collections.Counter(time_ranges)"
   ]
  },
  {
   "cell_type": "code",
   "execution_count": 13,
   "id": "4cc7ce5e-f3f0-4b0b-82ca-c1b4fb72e4fd",
   "metadata": {},
   "outputs": [
    {
     "data": {
      "text/plain": [
       "0"
      ]
     },
     "execution_count": 13,
     "metadata": {},
     "output_type": "execute_result"
    }
   ],
   "source": [
    "len(data_paths_not_enough_days)"
   ]
  },
  {
   "cell_type": "code",
   "execution_count": 14,
   "id": "754ca5cf-5795-4442-98c6-8b718b529628",
   "metadata": {},
   "outputs": [
    {
     "data": {
      "text/plain": [
       "(True, 97)"
      ]
     },
     "execution_count": 14,
     "metadata": {},
     "output_type": "execute_result"
    }
   ],
   "source": [
    "## check all failures are bracegirdle (because this is an annual metric)\n",
    "all(['Bracegirdle et al. 2018' in fn for fn in failed_data_paths]), len(failed_data_paths)"
   ]
  },
  {
   "cell_type": "markdown",
   "id": "134a174c-9790-4910-95fb-01ba9842ec1a",
   "metadata": {},
   "source": [
    "## create dataset "
   ]
  },
  {
   "cell_type": "code",
   "execution_count": 15,
   "id": "001c6158-6dba-4f4d-97fe-be8addb0eed1",
   "metadata": {},
   "outputs": [],
   "source": [
    "## only one problematic dataset NESM3_1i1r1p1f\n",
    "bracegirlde_ignore_data_paths = ['/home/thomaskeel/Documents/PhD/JASMIN experiments/CMIP6_2070to2100_NPAC runs/ua_day_NESM3_ssp585_r1i1p1f1_gnBracegirlde et al. 2018 North Pacific.csv'] "
   ]
  },
  {
   "cell_type": "code",
   "execution_count": 16,
   "id": "304310b6-17e0-4384-b472-e1da57827a31",
   "metadata": {
    "tags": []
   },
   "outputs": [
    {
     "name": "stdout",
     "output_type": "stream",
     "text": [
      "CPU times: user 37.3 s, sys: 212 ms, total: 37.5 s\n",
      "Wall time: 37.5 s\n"
     ]
    }
   ],
   "source": [
    "%%time\n",
    "## takes 10 seconds on Intel i7-10750 \n",
    "all_df_npac_future_dataset = {}\n",
    "for metric in metric_names:\n",
    "    if metric == \"Bracegirdle et al. 2018\":\n",
    "        all_df_npac_future_dataset[metric] = make_combined_df_from_data_paths_for_bracegirdle(glob.glob(CMIP6_2070to2100_dir + metric + \"*\" + \"North Pacific\" + \"*\"),\\\n",
    "                                                                                             ignored_data_paths=bracegirlde_ignore_data_paths)\n",
    "        continue\n",
    "    all_df_npac_future_dataset[metric] = make_combined_df_from_data_paths(glob.glob(CMIP6_2070to2100_dir + metric + \"*\" + \"North Pacific\" + \"*\"),\\\n",
    "                                                                          ignored_data_paths=data_paths_not_enough_days)\n"
   ]
  },
  {
   "cell_type": "code",
   "execution_count": 17,
   "id": "d4da95a0-d5d7-47e5-928c-3c4b327047df",
   "metadata": {},
   "outputs": [
    {
     "data": {
      "text/plain": [
       "Index(['MIROC6_r3i1p1f1', 'GFDL-CM4_r1i1p1f1', 'UKESM1-0-LL_r2i1p1f2',\n",
       "       'UKESM1-0-LL_r15i1p1f2', 'CanESM5_r3i1p2f1', 'NorESM2-LM_r1i1p1f1',\n",
       "       'HadGEM3-GC31-LL_r1i1p1f3', 'CanESM5_r4i1p2f1', 'INM-CM4-8_r1i1p1f1',\n",
       "       'HadGEM3-GC31-LL_r3i1p1f3', 'UKESM1-0-LL_r1i1p1f2', 'CanESM5_r7i1p2f1',\n",
       "       'ACCESS-CM2_r1i1p1f1', 'EC-Earth3-Veg-LR_r1i1p1f1',\n",
       "       'BCC-CSM2-MR_r1i1p1f1', 'UKESM1-0-LL_r14i1p1f2', 'CanESM5_r5i1p2f1',\n",
       "       'MIROC-ES2L_r7i1p1f2', 'UKESM1-0-LL_r8i1p1f2', 'CESM2-WACCM_r2i1p1f1',\n",
       "       'CanESM5_r2i1p1f1', 'MIROC-ES2L_r1i1p1f2', 'INM-CM5-0_r1i1p1f1',\n",
       "       'CanESM5_r7i1p1f1', 'CanESM5_r8i1p1f1', 'MIROC-ES2L_r3i1p1f2',\n",
       "       'CanESM5_r9i1p2f1', 'NESM3_r2i1p1f1', 'CESM2-WACCM_r1i1p1f1',\n",
       "       'MIROC-ES2L_r10i1p1f2', 'CNRM-CM6-1_r1i1p1f2', 'MPI-ESM1-2-LR_r2i1p1f1',\n",
       "       'CanESM5_r8i1p2f1', 'MPI-ESM1-2-LR_r9i1p1f1', 'CanESM5_r3i1p1f1',\n",
       "       'IITM-ESM_r1i1p1f1', 'IPSL-CM6A-LR_r1i1p1f1', 'CMCC-CM2-SR5_r1i1p1f1',\n",
       "       'CNRM-CM6-1_r3i1p1f2', 'MPI-ESM1-2-HR_r1i1p1f1', 'NorESM2-MM_r1i1p1f1',\n",
       "       'CanESM5_r2i1p2f1', 'HadGEM3-GC31-MM_r2i1p1f3', 'CMCC-ESM2_r1i1p1f1',\n",
       "       'UKESM1-0-LL_r3i1p1f2', 'MIROC6_r1i1p1f1', 'TaiESM1_r1i1p1f1',\n",
       "       'MIROC-ES2L_r4i1p1f2', 'MIROC-ES2L_r5i1p1f2', 'CNRM-CM6-1_r4i1p1f2',\n",
       "       'MPI-ESM1-2-LR_r1i1p1f1', 'CanESM5_r6i1p1f1',\n",
       "       'HadGEM3-GC31-LL_r4i1p1f3', 'CanESM5_r4i1p1f1',\n",
       "       'HadGEM3-GC31-MM_r3i1p1f3', 'AWI-CM-1-1-MR_r1i1p1f1',\n",
       "       'CNRM-ESM2-1_r4i1p1f2', 'CanESM5_r1i1p2f1', 'MIROC-ES2L_r8i1p1f2',\n",
       "       'MPI-ESM1-2-LR_r3i1p1f1', 'MPI-ESM1-2-LR_r4i1p1f1', 'CanESM5_r9i1p1f1',\n",
       "       'FGOALS-g3_r1i1p1f1', 'NESM3_r1i1p1f1', 'IPSL-CM6A-LR_r3i1p1f1',\n",
       "       'MPI-ESM1-2-LR_r8i1p1f1', 'KACE-1-0-G_r3i1p1f1', 'MRI-ESM2-0_r1i1p1f1',\n",
       "       'MPI-ESM1-2-LR_r7i1p1f1', 'IPSL-CM6A-LR_r2i1p1f1',\n",
       "       'HadGEM3-GC31-MM_r4i1p1f3', 'CNRM-CM6-1_r5i1p1f2',\n",
       "       'KACE-1-0-G_r1i1p1f1', 'CNRM-CM6-1_r6i1p1f2', 'CanESM5_r10i1p1f1',\n",
       "       'HadGEM3-GC31-MM_r1i1p1f3', 'CNRM-ESM2-1_r5i1p1f2', 'CanESM5_r1i1p1f1',\n",
       "       'MIROC-ES2L_r2i1p1f2', 'HadGEM3-GC31-LL_r2i1p1f3', 'CanESM5_r5i1p1f1',\n",
       "       'ACCESS-ESM1-5_r3i1p1f1', 'MIROC-ES2L_r9i1p1f2', 'MIROC6_r2i1p1f1',\n",
       "       'EC-Earth3-CC_r1i1p1f1', 'MPI-ESM1-2-LR_r6i1p1f1',\n",
       "       'MIROC-ES2L_r6i1p1f2', 'UKESM1-0-LL_r4i1p1f2', 'CanESM5_r6i1p2f1',\n",
       "       'ACCESS-ESM1-5_r2i1p1f1', 'MPI-ESM1-2-LR_r5i1p1f1',\n",
       "       'CESM2-WACCM_r3i1p1f1', 'EC-Earth3_r1i1p1f1', 'CNRM-CM6-1_r2i1p1f2',\n",
       "       'CanESM5_r10i1p2f1', 'KACE-1-0-G_r2i1p1f1'],\n",
       "      dtype='object')"
      ]
     },
     "execution_count": 17,
     "metadata": {},
     "output_type": "execute_result"
    }
   ],
   "source": [
    "all_df_npac_future_dataset['Zappa et al. 2018'].columns"
   ]
  },
  {
   "cell_type": "markdown",
   "id": "7c1afa04-ca2f-491b-bcc9-aea778a336c1",
   "metadata": {},
   "source": [
    "### cleaning data\n",
    "For some reason 'IITM-ESM_r1i1p1f1' does not want to run for W10 and BP13"
   ]
  },
  {
   "cell_type": "code",
   "execution_count": 18,
   "id": "e963788f-cf27-425b-97b5-902140594fd0",
   "metadata": {},
   "outputs": [
    {
     "name": "stdout",
     "output_type": "stream",
     "text": [
      "removed IITM-ESM_r1i1p1f1\n",
      "removed IITM-ESM_r1i1p1f1\n",
      "removed IITM-ESM_r1i1p1f1\n",
      "removed IITM-ESM_r1i1p1f1\n",
      "removed IITM-ESM_r1i1p1f1\n",
      "CPU times: user 421 ms, sys: 148 ms, total: 569 ms\n",
      "Wall time: 567 ms\n"
     ]
    }
   ],
   "source": [
    "%%time\n",
    "## takes ~200 milliseconds on Intel i7-10750 \n",
    "## rerun above 2 cell if you have a problem with Bracegirlde et al. 2018\n",
    "START_YEAR = PROJ_START_DATE[:4] # 2070\n",
    "END_YEAR = PROJ_END_DATE[:4] # 2099\n",
    "FREQ = 'd'\n",
    "for metric in metric_names:\n",
    "    if metric == \"Bracegirdle et al. 2018\":\n",
    "        all_df_npac_future_dataset[metric].index = pd.date_range(start=START_YEAR, freq=\"y\", periods=len(all_df_npac_future_dataset[metric]))\n",
    "        all_df_npac_future_dataset[metric].index = all_df_npac_future_dataset[metric].index.rename('time')\n",
    "    all_df_npac_future_dataset[metric].index = pd.to_datetime(all_df_npac_future_dataset[metric].index, errors='coerce')\n",
    "    all_df_npac_future_dataset[metric] = all_df_npac_future_dataset[metric].groupby(pd.Grouper(freq=FREQ)).mean()\n",
    "    all_df_npac_future_dataset[metric] = all_df_npac_future_dataset[metric][START_YEAR: END_YEAR]\n",
    "    if 'IITM-ESM_r1i1p1f1' in all_df_npac_future_dataset[metric].columns:\n",
    "        all_df_npac_future_dataset[metric] = all_df_npac_future_dataset[metric].drop('IITM-ESM_r1i1p1f1', axis=1)\n",
    "        print('removed IITM-ESM_r1i1p1f1')\n",
    "    "
   ]
  },
  {
   "cell_type": "code",
   "execution_count": 19,
   "id": "344f58f9-ad91-4d97-a9a4-c5319f7e7c99",
   "metadata": {},
   "outputs": [
    {
     "name": "stdout",
     "output_type": "stream",
     "text": [
      "True\n",
      "True\n"
     ]
    }
   ],
   "source": [
    "print(all_df_npac_future_dataset['Woollings et al. 2010'].columns.nunique() == len(all_df_npac_future_dataset['Woollings et al. 2010'].columns))\n",
    "print(all_df_npac_future_dataset['Woollings et al. 2010'].columns.nunique() == len(all_df_npac_future_dataset['Kerr et al. 2020'].columns))"
   ]
  },
  {
   "cell_type": "code",
   "execution_count": 20,
   "id": "22283113-1a49-4603-9bf1-88a7a99bfd3a",
   "metadata": {},
   "outputs": [
    {
     "data": {
      "text/plain": [
       "<Axes: xlabel='time'>"
      ]
     },
     "execution_count": 20,
     "metadata": {},
     "output_type": "execute_result"
    },
    {
     "data": {
      "image/png": "[encoded data removed]",
      "text/plain": [
       "<Figure size 640x480 with 1 Axes>"
      ]
     },
     "metadata": {},
     "output_type": "display_data"
    }
   ],
   "source": [
    "all_df_npac_future_dataset['Woollings et al. 2010']['HadGEM3-GC31-LL_r1i1p1f3'].dropna().plot()\n",
    "all_df_npac_future_dataset['Bracegirdle et al. 2018']['HadGEM3-GC31-LL_r1i1p1f3'].dropna().plot()"
   ]
  },
  {
   "cell_type": "code",
   "execution_count": 21,
   "id": "392bec8d-f997-49bd-a8aa-e29895aa8727",
   "metadata": {},
   "outputs": [
    {
     "data": {
      "text/plain": [
       "(96, 96)"
      ]
     },
     "execution_count": 21,
     "metadata": {},
     "output_type": "execute_result"
    }
   ],
   "source": [
    "len(all_df_npac_future_dataset['Woollings et al. 2010'].columns), len(all_df_npac_future_dataset['Barnes & Simpson 2017'].columns)"
   ]
  },
  {
   "cell_type": "markdown",
   "id": "bb130424-75c8-4e84-a1ad-34bbb40852d8",
   "metadata": {},
   "source": [
    "#### view ensembles"
   ]
  },
  {
   "cell_type": "code",
   "execution_count": 22,
   "id": "a213d072-6948-41a8-a566-8a4f550f84ca",
   "metadata": {},
   "outputs": [
    {
     "data": {
      "text/plain": [
       "Counter({'CanESM5': 20,\n",
       "         'MIROC-ES2L': 10,\n",
       "         'MPI-ESM1-2-LR': 9,\n",
       "         'UKESM1-0-LL': 7,\n",
       "         'CNRM-CM6-1': 6,\n",
       "         'HadGEM3-GC31-LL': 4,\n",
       "         'HadGEM3-GC31-MM': 4,\n",
       "         'IPSL-CM6A-LR': 3,\n",
       "         'KACE-1-0-G': 3,\n",
       "         'MIROC6': 3,\n",
       "         'CESM2-WACCM': 3,\n",
       "         'CNRM-ESM2-1': 2,\n",
       "         'NESM3': 2,\n",
       "         'ACCESS-ESM1-5': 2,\n",
       "         'CMCC-ESM2': 1,\n",
       "         'EC-Earth3-Veg-LR': 1,\n",
       "         'NorESM2-LM': 1,\n",
       "         'NorESM2-MM': 1,\n",
       "         'EC-Earth3': 1,\n",
       "         'MRI-ESM2-0': 1,\n",
       "         'MPI-ESM1-2-HR': 1,\n",
       "         'ACCESS-CM2': 1,\n",
       "         'TaiESM1': 1,\n",
       "         'EC-Earth3-CC': 1,\n",
       "         'BCC-CSM2-MR': 1,\n",
       "         'CMCC-CM2-SR5': 1,\n",
       "         'INM-CM4-8': 1,\n",
       "         'INM-CM5-0': 1,\n",
       "         'FGOALS-g3': 1,\n",
       "         'EC-Earth3-Veg': 1,\n",
       "         'AWI-CM-1-1-MR': 1,\n",
       "         'GFDL-CM4': 1})"
      ]
     },
     "execution_count": 22,
     "metadata": {},
     "output_type": "execute_result"
    }
   ],
   "source": [
    "collections.Counter([row.split('_r')[0] for row in all_df_npac_future_dataset['Woollings et al. 2010'].columns])"
   ]
  },
  {
   "cell_type": "code",
   "execution_count": 23,
   "id": "36c56431-ee39-4efa-900a-b9f7c0724164",
   "metadata": {},
   "outputs": [],
   "source": [
    "# sorted(all_df_npac_future_dataset['Woollings et al. 2010'].columns, key=lambda row: row.split('_')[0])"
   ]
  },
  {
   "cell_type": "markdown",
   "id": "e33939dc-64f9-40fb-9976-61478f1d9ae8",
   "metadata": {
    "tags": []
   },
   "source": [
    "# Load CMIP6 Historical"
   ]
  },
  {
   "cell_type": "code",
   "execution_count": 24,
   "id": "771e54e0-587a-4a3a-9d47-3812118c3086",
   "metadata": {},
   "outputs": [],
   "source": [
    "HIST_START_DATE = \"1985-01-01\"\n",
    "HIST_END_DATE = \"2015-12-31\"\n",
    "PERIOD_NUMBER_OF_DAYS = (pd.to_datetime(HIST_END_DATE) - pd.to_datetime(HIST_START_DATE)).days\n",
    "MISSING_NUM_DAYS_THRESHOLD = 0.05 ## only allow for up to 5% less duration in data "
   ]
  },
  {
   "cell_type": "code",
   "execution_count": 25,
   "id": "78aa266f-6560-4ced-903a-4cbe88e911a4",
   "metadata": {},
   "outputs": [],
   "source": [
    "CMIP6_Historical_dir = \"/home/thomaskeel/Documents/PhD/JASMIN experiments/CMIP6_Historical_NPAC runs/outputs/ua_day*\""
   ]
  },
  {
   "cell_type": "code",
   "execution_count": 26,
   "id": "d09f84f8-290b-4e50-a1a8-983ec7d82e09",
   "metadata": {},
   "outputs": [],
   "source": [
    "metric_names = [\"Woollings et al. 2010\", \"Barnes & Polvani 2013\", \\\n",
    "                \"Barnes & Simpson 2017\", \"Grise & Polvani 2017\", \"Bracegirdle et al. 2018\", \\\n",
    "                \"Zappa et al. 2018\", \"Kerr et al. 2020\"] #, \"Barnes & Polvani 2015\"\n",
    "COLS_TO_REMOVE = [\"10_day_average\", \"plev\"]\n",
    "\n",
    "region = \"North Pacific\""
   ]
  },
  {
   "cell_type": "code",
   "execution_count": 27,
   "id": "6a1671c3-6367-40f8-a170-92ff440f1b6a",
   "metadata": {},
   "outputs": [
    {
     "name": "stdout",
     "output_type": "stream",
     "text": [
      "North Pacific 1483\n"
     ]
    }
   ],
   "source": [
    "print(region, len(glob.glob(CMIP6_Historical_dir + region + \"*\")))"
   ]
  },
  {
   "cell_type": "code",
   "execution_count": 28,
   "id": "05bf4a66-40db-4354-88ec-99373de13dbc",
   "metadata": {},
   "outputs": [
    {
     "name": "stdout",
     "output_type": "stream",
     "text": [
      "CPU times: user 54.6 s, sys: 132 ms, total: 54.8 s\n",
      "Wall time: 54.8 s\n"
     ]
    }
   ],
   "source": [
    "%%time\n",
    "## takes ~65 seconds on Intel i7-10750 \n",
    "\n",
    "time_ranges = []\n",
    "failed_data_paths = []\n",
    "data_paths_not_enough_days = []\n",
    "date_format=\"\\d{2}:\\d{2}:\\d{2}\"\n",
    "for file_path in glob.glob(CMIP6_Historical_dir):\n",
    "    try:\n",
    "        current = pd.read_csv(file_path, header=0)\n",
    "    except Exception as e:\n",
    "        print(e)\n",
    "        print(file_path)\n",
    "        continue\n",
    "    for col in COLS_TO_REMOVE:\n",
    "        try:\n",
    "            current.drop(col, inplace=True, axis=1)\n",
    "        except:\n",
    "            pass\n",
    "    try:\n",
    "        current['time'] = current['time'].apply(lambda x: re.sub(date_format, \"\", x).strip())\n",
    "    except Exception as e:\n",
    "#         print(e)\n",
    "        failed_data_paths.append(file_path)\n",
    "        continue\n",
    "    first_time = current['time'].min()\n",
    "    last_time = current['time'].max()\n",
    "    current_data_period_in_days = (pd.to_datetime(last_time) - pd.to_datetime(first_time)).days\n",
    "    ## check there is enough days\n",
    "    if (PERIOD_NUMBER_OF_DAYS * MISSING_NUM_DAYS_THRESHOLD) < current_data_period_in_days:\n",
    "        time_ranges.append(str(first_time)+'to'+str(last_time))\n",
    "    else:\n",
    "        data_paths_not_enough_days.append(file_path)"
   ]
  },
  {
   "cell_type": "code",
   "execution_count": 29,
   "id": "61cf58f1-3d38-48f2-8d23-81d502233207",
   "metadata": {},
   "outputs": [
    {
     "data": {
      "text/plain": [
       "Counter({'1950-01-01to2014-12-31': 953,\n",
       "         '1950-01-01to2014-12-30': 189,\n",
       "         '1950-01-01to2015-01-01': 84,\n",
       "         '1950-01-01to2014-12-27': 49,\n",
       "         '1950-01-01to2014-12-21': 27,\n",
       "         '1950-01-02to2014-12-31': 7,\n",
       "         '1950-01-01to2015-12-31': 7,\n",
       "         '1950-01-02to2014-12-28': 1,\n",
       "         '1950-01-01to2015-12-22': 1})"
      ]
     },
     "execution_count": 29,
     "metadata": {},
     "output_type": "execute_result"
    }
   ],
   "source": [
    "collections.Counter(time_ranges)"
   ]
  },
  {
   "cell_type": "code",
   "execution_count": 30,
   "id": "b9f6d2c3-bef0-40ce-a09a-ae07da8361a7",
   "metadata": {},
   "outputs": [
    {
     "data": {
      "text/plain": [
       "0"
      ]
     },
     "execution_count": 30,
     "metadata": {},
     "output_type": "execute_result"
    }
   ],
   "source": [
    "len(data_paths_not_enough_days)"
   ]
  },
  {
   "cell_type": "code",
   "execution_count": 31,
   "id": "92ddfb06-165a-4974-83a7-26fd610c6153",
   "metadata": {},
   "outputs": [
    {
     "data": {
      "text/plain": [
       "(True, 165)"
      ]
     },
     "execution_count": 31,
     "metadata": {},
     "output_type": "execute_result"
    }
   ],
   "source": [
    "## check all failures are bracegirdle (because this is an annual metric)\n",
    "all(['Bracegirdle et al. 2018' in fn for fn in failed_data_paths]), len(failed_data_paths)"
   ]
  },
  {
   "cell_type": "code",
   "execution_count": 32,
   "id": "9e852f66-a257-4c0a-bdf1-9528134ad4ef",
   "metadata": {},
   "outputs": [
    {
     "name": "stdout",
     "output_type": "stream",
     "text": [
      "CPU times: user 54.6 s, sys: 168 ms, total: 54.7 s\n",
      "Wall time: 54.7 s\n"
     ]
    }
   ],
   "source": [
    "%%time\n",
    "## takes ~35 seconds on Intel i7-10750 \n",
    "all_df_npac_hist_dataset = {}\n",
    "for metric in metric_names:\n",
    "    if metric == \"Bracegirdle et al. 2018\":\n",
    "        all_df_npac_hist_dataset[metric] = make_combined_df_from_data_paths_for_bracegirdle(glob.glob(CMIP6_Historical_dir + metric + \"*\" + \"North Pacific\" + \"*\"),\n",
    "                                                                                           ignored_data_paths=[])\n",
    "        continue\n",
    "    all_df_npac_hist_dataset[metric] = make_combined_df_from_data_paths(glob.glob(CMIP6_Historical_dir + metric + \"*\" + \"North Pacific\" + \"*\"),\n",
    "                                                                       ignored_data_paths=data_paths_not_enough_days)\n"
   ]
  },
  {
   "cell_type": "code",
   "execution_count": 33,
   "id": "43d6a7ce-e041-418e-88e8-a5a6c33fee59",
   "metadata": {},
   "outputs": [
    {
     "data": {
      "text/plain": [
       "Index(['ACCESS-CM2_r1i1p1f1', 'ACCESS-ESM1-5_r32i1p1f1',\n",
       "       'IPSL-CM6A-LR_r2i1p1f1', 'MIROC-ES2L_r5i1p1f2', 'CNRM-CM6-1_r8i1p1f2',\n",
       "       'CESM2_r5i1p1f1', 'CNRM-CM6-1_r4i1p1f2', 'BCC-CSM2-MR_r3i1p1f1',\n",
       "       'HadGEM3-GC31-MM_r1i1p1f3', 'MRI-ESM2-0_r5i1p1f1',\n",
       "       ...\n",
       "       'GFDL-CM4_r1i1p1f1', 'CanESM5_r1i1p2f1', 'UKESM1-0-LL_r17i1p1f2',\n",
       "       'CanESM5_r8i1p2f1', 'ACCESS-ESM1-5_r21i1p1f1',\n",
       "       'ACCESS-ESM1-5_r17i1p1f1', 'IPSL-CM6A-LR_r5i1p1f1',\n",
       "       'INM-CM4-8_r1i1p1f1', 'IPSL-CM6A-LR_r6i1p1f1', 'UKESM1-0-LL_r15i1p1f2'],\n",
       "      dtype='object', length=164)"
      ]
     },
     "execution_count": 33,
     "metadata": {},
     "output_type": "execute_result"
    }
   ],
   "source": [
    "all_df_npac_hist_dataset['Woollings et al. 2010'].columns"
   ]
  },
  {
   "cell_type": "code",
   "execution_count": 34,
   "id": "3c41bd9b-4a0f-4887-80db-c52443d4bdb5",
   "metadata": {},
   "outputs": [
    {
     "data": {
      "text/plain": [
       "{'IITM-ESM_r1i1p1f1'}"
      ]
     },
     "execution_count": 34,
     "metadata": {},
     "output_type": "execute_result"
    }
   ],
   "source": [
    "set(all_df_npac_hist_dataset['Barnes & Simpson 2017'].columns).difference(set(all_df_npac_hist_dataset['Woollings et al. 2010'].columns))"
   ]
  },
  {
   "cell_type": "code",
   "execution_count": 35,
   "id": "f6dfe5cc-3919-4ef3-a45d-f89a31c00437",
   "metadata": {},
   "outputs": [
    {
     "name": "stdout",
     "output_type": "stream",
     "text": [
      "removed IITM-ESM_r1i1p1f1\n",
      "removed IITM-ESM_r1i1p1f1\n",
      "removed IITM-ESM_r1i1p1f1\n",
      "removed IITM-ESM_r1i1p1f1\n",
      "removed IITM-ESM_r1i1p1f1\n",
      "CPU times: user 518 ms, sys: 132 ms, total: 650 ms\n",
      "Wall time: 648 ms\n"
     ]
    }
   ],
   "source": [
    "%%time\n",
    "## takes ~600 milliseconds on Intel i7-10750 \n",
    "## rerun above 2 cell if you have a problem with Bracegirlde et al. 2018\n",
    "START_YEAR = HIST_START_DATE[:4] # \"1950\"\n",
    "END_YEAR = HIST_END_DATE[:4] # \"2015\"\n",
    "FREQ = 'd'\n",
    "for metric in metric_names:\n",
    "    # print(metric)\n",
    "    if metric == \"Bracegirdle et al. 2018\":\n",
    "        all_df_npac_hist_dataset[metric].index = pd.date_range(start=\"1950\", freq=\"y\", periods=len(all_df_npac_hist_dataset[metric])) # NOTE: START YEAR HARD CODED\n",
    "        all_df_npac_hist_dataset[metric].index = all_df_npac_hist_dataset[metric].index.rename('time')\n",
    "    all_df_npac_hist_dataset[metric].index = pd.to_datetime(all_df_npac_hist_dataset[metric].index, errors='coerce')\n",
    "    all_df_npac_hist_dataset[metric] = all_df_npac_hist_dataset[metric].groupby(pd.Grouper(freq=FREQ)).mean()\n",
    "    all_df_npac_hist_dataset[metric] = all_df_npac_hist_dataset[metric][START_YEAR: END_YEAR]\n",
    "    if 'IITM-ESM_r1i1p1f1' in all_df_npac_hist_dataset[metric].columns:\n",
    "        all_df_npac_hist_dataset[metric] = all_df_npac_hist_dataset[metric].drop('IITM-ESM_r1i1p1f1', axis=1)\n",
    "        print('removed IITM-ESM_r1i1p1f1')"
   ]
  },
  {
   "cell_type": "code",
   "execution_count": 36,
   "id": "7a174a5f-d05f-4094-a73d-c7a6bbb7b9d1",
   "metadata": {},
   "outputs": [
    {
     "data": {
      "text/plain": [
       "(164, 164)"
      ]
     },
     "execution_count": 36,
     "metadata": {},
     "output_type": "execute_result"
    }
   ],
   "source": [
    "len(all_df_npac_hist_dataset['Woollings et al. 2010'].columns), len(all_df_npac_hist_dataset['Barnes & Simpson 2017'].columns)"
   ]
  },
  {
   "cell_type": "code",
   "execution_count": 37,
   "id": "8ae4afd8-b947-4699-9d4b-a9ec85084e9b",
   "metadata": {},
   "outputs": [
    {
     "data": {
      "text/plain": [
       "Counter({'ACCESS-ESM1-5': 37,\n",
       "         'CanESM5': 19,\n",
       "         'UKESM1-0-LL': 17,\n",
       "         'CNRM-CM6-1': 10,\n",
       "         'IPSL-CM6A-LR': 9,\n",
       "         'CESM2': 8,\n",
       "         'MIROC-ES2L': 7,\n",
       "         'MRI-ESM2-0': 5,\n",
       "         'CNRM-ESM2-1': 5,\n",
       "         'HadGEM3-GC31-LL': 5,\n",
       "         'HadGEM3-GC31-MM': 4,\n",
       "         'CESM2-WACCM': 3,\n",
       "         'BCC-ESM1': 3,\n",
       "         'BCC-CSM2-MR': 2,\n",
       "         'GISS-E2-1-G': 2,\n",
       "         'ACCESS-CM2': 1,\n",
       "         'EC-Earth3-AerChem': 1,\n",
       "         'TaiESM1': 1,\n",
       "         'FGOALS-g3': 1,\n",
       "         'MPI-ESM-1-2-HAM': 1,\n",
       "         'KACE-1-0-G': 1,\n",
       "         'CMCC-ESM2': 1,\n",
       "         'MPI-ESM1-2-HR': 1,\n",
       "         'INM-CM5-0': 1,\n",
       "         'NorESM2-LM': 1,\n",
       "         'CMCC-CM2-SR5': 1,\n",
       "         'CMCC-CM2-HR4': 1,\n",
       "         'MPI-ESM1-2-LR': 1,\n",
       "         'EC-Earth3': 1,\n",
       "         'IPSL-CM5A2-INCA': 1,\n",
       "         'MIROC6': 1,\n",
       "         'CNRM-CM6-1-HR': 1,\n",
       "         'CESM2-FV2': 1,\n",
       "         'AWI-ESM-1-1-LR': 1,\n",
       "         'NorESM2-MM': 1,\n",
       "         'FGOALS-f3-L': 1,\n",
       "         'IPSL-CM6A-LR-INCA': 1,\n",
       "         'SAM0-UNICON': 1,\n",
       "         'NESM3': 1,\n",
       "         'EC-Earth3-Veg-LR': 1,\n",
       "         'EC-Earth3-CC': 1,\n",
       "         'GFDL-CM4': 1,\n",
       "         'INM-CM4-8': 1})"
      ]
     },
     "execution_count": 37,
     "metadata": {},
     "output_type": "execute_result"
    }
   ],
   "source": [
    "collections.Counter([row.split('_r')[0] for row in all_df_npac_hist_dataset['Woollings et al. 2010'].columns])"
   ]
  },
  {
   "cell_type": "code",
   "execution_count": null,
   "id": "ae694067-98e7-4691-a358-9d2e43a85573",
   "metadata": {},
   "outputs": [],
   "source": []
  },
  {
   "cell_type": "markdown",
   "id": "3aae9bee-339c-4cfd-a6f7-40953875d2f1",
   "metadata": {},
   "source": [
    "## Load Reanalysis"
   ]
  },
  {
   "cell_type": "code",
   "execution_count": 38,
   "id": "eacbc4ca-4633-41b9-9b40-74d9889c424b",
   "metadata": {},
   "outputs": [],
   "source": [
    "REAN_START_DATE = \"1980-01-01\"\n",
    "REAN_END_DATE = \"2022-12-31\"\n",
    "REAN_START_YEAR = REAN_START_DATE[:4]\n",
    "REAN_END_YEAR = REAN_END_DATE[:4]"
   ]
  },
  {
   "cell_type": "code",
   "execution_count": 39,
   "id": "eb449335-8983-4415-8f62-ff70d8b32149",
   "metadata": {},
   "outputs": [],
   "source": [
    "era_npac_day_dict = {}\n",
    "\n",
    "era_npac_day_dict['Woollings2010_NorthPacific'] = pd.read_csv('/home/thomaskeel/Dev/Research Projects/uncertainty-in-npac-jet-shift/reanalysis_jet_latitude_data/NPAC_only_ERA5_daily_outputs/Woollings et al. 2010 North Pacific.csv', index_col='time')[REAN_START_YEAR: REAN_END_YEAR]\n",
    "era_npac_day_dict['BarnesPolvani2013_NorthPacific'] = pd.read_csv('/home/thomaskeel/Dev/Research Projects/uncertainty-in-npac-jet-shift/reanalysis_jet_latitude_data/NPAC_only_ERA5_daily_outputs/Barnes & Polvani 2013 North Pacific.csv', index_col='time')[REAN_START_YEAR: REAN_END_YEAR]\n",
    "era_npac_day_dict['GrisePolvani2014_NorthPacific'] = pd.read_csv('/home/thomaskeel/Dev/Research Projects/uncertainty-in-npac-jet-shift/reanalysis_jet_latitude_data/NPAC_only_ERA5_daily_outputs/Grise & Polvani 2014 North Pacific.csv', index_col='time')[REAN_START_YEAR: REAN_END_YEAR]\n",
    "# era_npac_day_dict['BarnesPolvani2015_NorthPacific'] = pd.read_csv('/home/thomaskeel/Documents/PhD/JASMIN experiments/NPAC_only_ERA5_daily_outputs/Barnes & Polvani 2015 North Pacific.csv', index_col='time')[REAN_START_YEAR: REAN_END_YEAR]\n",
    "era_npac_day_dict['BarnesSimpson2017_NorthPacific'] = pd.read_csv('/home/thomaskeel/Dev/Research Projects/uncertainty-in-npac-jet-shift/reanalysis_jet_latitude_data/NPAC_only_ERA5_daily_outputs/Barnes & Simpson 2017 North Pacific.csv', index_col='time')[REAN_START_YEAR: REAN_END_YEAR]\n",
    "era_npac_day_dict['Bracegirdle2018_NorthPacific'] = pd.read_csv('/home/thomaskeel/Documents/PhD/JASMIN experiments/NPAC_only_ERA5_daily_outputs/Bracegirdle et al. 2018 North Pacific.csv', index_col='year')[24:]##HARDCODED as starts at 1959\n",
    "era_npac_day_dict['Zappa2018_NorthPacific'] = pd.read_csv('/home/thomaskeel/Dev/Research Projects/uncertainty-in-npac-jet-shift/reanalysis_jet_latitude_data/NPAC_only_ERA5_daily_outputs/Zappa et al. 2018 North Pacific.csv', index_col='time')[REAN_START_YEAR: REAN_END_YEAR]\n",
    "era_npac_day_dict['Kerr2020_NorthPacific'] = pd.read_csv('/home/thomaskeel/Dev/Research Projects/uncertainty-in-npac-jet-shift/reanalysis_jet_latitude_data/NPAC_only_ERA5_daily_outputs/Kerr et al. 2020 North Pacific.csv', index_col='time')[REAN_START_YEAR: REAN_END_YEAR]\n"
   ]
  },
  {
   "cell_type": "code",
   "execution_count": 40,
   "id": "0f29dec5-382e-455d-ba19-aef87dfee02c",
   "metadata": {},
   "outputs": [],
   "source": [
    "jra55_npac_day_dict = {}\n",
    "\n",
    "jra55_npac_day_dict['Woollings2010_NorthPacific'] = pd.read_csv('/home/thomaskeel/Documents/PhD/JASMIN experiments/NPAC_only_JRA55_daily_outputs/Woollings et al. 2010 North Pacific.csv', index_col='time')[REAN_START_YEAR: REAN_END_YEAR]\n",
    "jra55_npac_day_dict['BarnesPolvani2013_NorthPacific'] = pd.read_csv('/home/thomaskeel/Documents/PhD/JASMIN experiments/NPAC_only_JRA55_daily_outputs/Barnes & Polvani 2013 North Pacific.csv', index_col='time')[REAN_START_YEAR: REAN_END_YEAR]\n",
    "jra55_npac_day_dict['GrisePolvani2014_NorthPacific'] = pd.read_csv('/home/thomaskeel/Documents/PhD/JASMIN experiments/NPAC_only_JRA55_daily_outputs/Grise & Polvani 2017 North Pacific.csv', index_col='time')[REAN_START_YEAR: REAN_END_YEAR]\n",
    "# jra55_npac_day_dict['BarnesPolvani2015_NorthPacific'] = pd.read_csv('/home/thomaskeel/Documents/PhD/JASMIN experiments/NPAC_only_JRA55_daily_outputs/Barnes & Polvani 2015 North Pacific.csv', index_col='time')[REAN_START_YEAR: REAN_END_YEAR]\n",
    "jra55_npac_day_dict['BarnesSimpson2017_NorthPacific'] = pd.read_csv('/home/thomaskeel/Documents/PhD/JASMIN experiments/NPAC_only_JRA55_daily_outputs/Barnes & Simpson 2017 North Pacific.csv', index_col='time')[REAN_START_YEAR: REAN_END_YEAR]\n",
    "jra55_npac_day_dict['Bracegirdle2018_NorthPacific'] = pd.read_csv('/home/thomaskeel/Documents/PhD/JASMIN experiments/NPAC_only_JRA55_daily_outputs/Bracegirdle et al. 2018 North Pacific.csv', index_col='year')[:-1] ##HARDCODED as ends at 2023\n",
    "jra55_npac_day_dict['Zappa2018_NorthPacific'] = pd.read_csv('/home/thomaskeel/Documents/PhD/JASMIN experiments/NPAC_only_JRA55_daily_outputs/Zappa et al. 2018 North Pacific.csv', index_col='time')[REAN_START_YEAR: REAN_END_YEAR]\n",
    "jra55_npac_day_dict['Kerr2020_NorthPacific'] = pd.read_csv('/home/thomaskeel/Documents/PhD/JASMIN experiments/NPAC_only_JRA55_daily_outputs/Kerr et al. 2020 North Pacific.csv', index_col='time')[REAN_START_YEAR: REAN_END_YEAR]\n"
   ]
  },
  {
   "cell_type": "code",
   "execution_count": 41,
   "id": "c0d6f62c-2d29-4f05-9ca9-7d4bb5935954",
   "metadata": {},
   "outputs": [],
   "source": [
    "merra2_npac_day_dict = {}\n",
    "\n",
    "merra2_npac_day_dict['Woollings2010_NorthPacific'] = pd.read_csv('/home/thomaskeel/Documents/PhD/JASMIN experiments/NPAC_only_MERRA2_daily_outputs/Woollings et al. 2010 North Pacific.csv', index_col='time')[REAN_START_YEAR: REAN_END_YEAR]\n",
    "merra2_npac_day_dict['BarnesPolvani2013_NorthPacific'] = pd.read_csv('/home/thomaskeel/Documents/PhD/JASMIN experiments/NPAC_only_MERRA2_daily_outputs/Barnes & Polvani 2013 North Pacific.csv', index_col='time')[REAN_START_YEAR: REAN_END_YEAR]\n",
    "merra2_npac_day_dict['GrisePolvani2014_NorthPacific'] = pd.read_csv('/home/thomaskeel/Documents/PhD/JASMIN experiments/NPAC_only_MERRA2_daily_outputs/Grise & Polvani 2017 North Pacific.csv', index_col='time')[REAN_START_YEAR: REAN_END_YEAR]\n",
    "# merra2_npac_day_dict['BarnesPolvani2015_NorthPacific'] = pd.read_csv('/home/thomaskeel/Documents/PhD/JASMIN experiments/NPAC_only_MERRA2_daily_outputs/Barnes & Polvani 2015 North Pacific.csv', index_col='time')[REAN_START_YEAR: REAN_END_YEAR]\n",
    "merra2_npac_day_dict['BarnesSimpson2017_NorthPacific'] = pd.read_csv('/home/thomaskeel/Documents/PhD/JASMIN experiments/NPAC_only_MERRA2_daily_outputs/Barnes & Simpson 2017 North Pacific.csv', index_col='time')[REAN_START_YEAR: REAN_END_YEAR]\n",
    "merra2_npac_day_dict['Bracegirdle2018_NorthPacific'] = pd.read_csv('/home/thomaskeel/Documents/PhD/JASMIN experiments/NPAC_only_MERRA2_daily_outputs/Bracegirdle et al. 2018 North Pacific.csv', index_col='year')\n",
    "merra2_npac_day_dict['Zappa2018_NorthPacific'] = pd.read_csv('/home/thomaskeel/Documents/PhD/JASMIN experiments/NPAC_only_MERRA2_daily_outputs/Zappa et al. 2018 North Pacific.csv', index_col='time')[REAN_START_YEAR: REAN_END_YEAR]\n",
    "merra2_npac_day_dict['Kerr2020_NorthPacific'] = pd.read_csv('/home/thomaskeel/Documents/PhD/JASMIN experiments/NPAC_only_MERRA2_daily_outputs/Kerr et al. 2020 North Pacific.csv', index_col='time')[REAN_START_YEAR: REAN_END_YEAR]\n"
   ]
  },
  {
   "cell_type": "code",
   "execution_count": 42,
   "id": "b17927a9-9705-4d2f-9f22-db17c4d7bd12",
   "metadata": {},
   "outputs": [],
   "source": [
    "ncepdoe2_npac_day_dict = {}\n",
    "\n",
    "ncepdoe2_npac_day_dict['Woollings2010_NorthPacific'] = pd.read_csv('/home/thomaskeel/Documents/PhD/JASMIN experiments/NPAC_only_NCEPDOE2_daily_outputs/Woollings et al. 2010 North Pacific.csv', index_col='time')[REAN_START_YEAR: REAN_END_YEAR]\n",
    "ncepdoe2_npac_day_dict['BarnesPolvani2013_NorthPacific'] = pd.read_csv('/home/thomaskeel/Documents/PhD/JASMIN experiments/NPAC_only_NCEPDOE2_daily_outputs/Barnes & Polvani 2013 North Pacific.csv', index_col='time')[REAN_START_YEAR: REAN_END_YEAR]\n",
    "ncepdoe2_npac_day_dict['GrisePolvani2014_NorthPacific'] = pd.read_csv('/home/thomaskeel/Documents/PhD/JASMIN experiments/NPAC_only_NCEPDOE2_daily_outputs/Grise & Polvani 2017 North Pacific.csv', index_col='time')[REAN_START_YEAR: REAN_END_YEAR]\n",
    "# ncepdoe2_npac_day_dict['BarnesPolvani2015_NorthPacific'] = pd.read_csv('/home/thomaskeel/Documents/PhD/JASMIN experiments/NPAC_only_NCEPDOE2_daily_outputs/Barnes & Polvani 2015 North Pacific.csv', index_col='time')[REAN_START_YEAR: REAN_END_YEAR]\n",
    "ncepdoe2_npac_day_dict['BarnesSimpson2017_NorthPacific'] = pd.read_csv('/home/thomaskeel/Documents/PhD/JASMIN experiments/NPAC_only_NCEPDOE2_daily_outputs/Barnes & Simpson 2017 North Pacific.csv', index_col='time')[REAN_START_YEAR: REAN_END_YEAR]\n",
    "ncepdoe2_npac_day_dict['Bracegirdle2018_NorthPacific'] = pd.read_csv('/home/thomaskeel/Documents/PhD/JASMIN experiments/NPAC_only_NCEPDOE2_daily_outputs/Bracegirdle et al. 2018 North Pacific.csv', index_col='year')\n",
    "ncepdoe2_npac_day_dict['Zappa2018_NorthPacific'] = pd.read_csv('/home/thomaskeel/Documents/PhD/JASMIN experiments/NPAC_only_NCEPDOE2_daily_outputs/Zappa et al. 2018 North Pacific.csv', index_col='time')[REAN_START_YEAR: REAN_END_YEAR]\n",
    "ncepdoe2_npac_day_dict['Kerr2020_NorthPacific'] = pd.read_csv('/home/thomaskeel/Documents/PhD/JASMIN experiments/NPAC_only_NCEPDOE2_daily_outputs/Kerr et al. 2020 North Pacific.csv', index_col='time')[REAN_START_YEAR: REAN_END_YEAR]\n"
   ]
  },
  {
   "cell_type": "code",
   "execution_count": 43,
   "id": "aee6b36b-2ecc-497b-badd-f2951ee1ec23",
   "metadata": {},
   "outputs": [
    {
     "data": {
      "text/plain": [
       "(40, 43, 43, 43)"
      ]
     },
     "execution_count": 43,
     "metadata": {},
     "output_type": "execute_result"
    }
   ],
   "source": [
    "## Check length of Bracegirlde data\n",
    "len(era_npac_day_dict['Bracegirdle2018_NorthPacific']), len(jra55_npac_day_dict['Bracegirdle2018_NorthPacific']), len(merra2_npac_day_dict['Bracegirdle2018_NorthPacific']), len(ncepdoe2_npac_day_dict['Bracegirdle2018_NorthPacific'])"
   ]
  },
  {
   "cell_type": "markdown",
   "id": "c358c82d-9840-4137-b7ef-cc6c8b984b09",
   "metadata": {},
   "source": [
    "# Calculate Jet latitude mean and trends..."
   ]
  },
  {
   "cell_type": "code",
   "execution_count": 44,
   "id": "90cf7053-ab66-43ed-b16f-48ec4c8e3752",
   "metadata": {},
   "outputs": [],
   "source": [
    "### required functions for calculating gradient/trend and formatting data\n",
    "def get_linear_reg_slope(data, col_name):\n",
    "    lin_reg_data = prepare_data_for_linear_reg(data, col_name)\n",
    "    return linear_reg_slope(lin_reg_data)\n",
    "\n",
    "\n",
    "def prepare_data_for_linear_reg(data, col_name):\n",
    "    values = data[col_name].values.astype(float)\n",
    "    ordinal_dates = get_ordinal_dates(data)\n",
    "    lin_reg_data = pd.DataFrame([values, ordinal_dates]).T\n",
    "    lin_reg_data = lin_reg_data.dropna()\n",
    "    return lin_reg_data\n",
    "\n",
    "\n",
    "def get_ordinal_dates(data, index_col_name='time'):\n",
    "    return pd.to_datetime(data.reset_index()[index_col_name]).apply(lambda date: date.toordinal())\n",
    "\n",
    "\n",
    "def linear_reg_slope(data):\n",
    "    \"\"\"\n",
    "        data[0] should be values, data[1] should be ordinal dates\n",
    "    \"\"\"\n",
    "    slope, intercept = np.polyfit(data[1], data[0], 1)\n",
    "    lr1d = np.poly1d([slope, intercept])(data[1])\n",
    "    return pd.DataFrame(lr1d, index=data[1].apply(lambda row: pd.to_datetime(datetime.date.fromordinal(int(row)))), columns=['reg_line'])\n",
    "\n",
    "def get_year_gradient_of_trend(data, jet_lat_name='jet_lat', proportion_threshold_for_missing_data=4):\n",
    "    \"\"\"\n",
    "        TODO: fix ValueError: You must specify a period or x must be a pandas object with a PeriodIndex or a DatetimeIndex with a freq not set to None\n",
    "    \"\"\"\n",
    "    try:\n",
    "        cdata = data.dropna()\n",
    "        lin_reg_line = get_linear_reg_slope(data, jet_lat_name)\n",
    "        year_gradient = (lin_reg_line['reg_line'][-1] - lin_reg_line['reg_line'][0]) / (lin_reg_line.index.year[-1]  - lin_reg_line.index.year[0])\n",
    "        return year_gradient\n",
    "    except ValueError as ve:\n",
    "        print(ve)\n",
    "        pass\n",
    "    try:\n",
    "        assert float(data.isnull().sum(axis=0)) < (len(data)/proportion_threshold_for_missing_data)\n",
    "        data = data.fillna(data.mean())\n",
    "        lin_reg_line = get_linear_reg_slope(data, jet_lat_name)\n",
    "        year_gradient = (lin_reg_line['reg_line'][-1] - lin_reg_line['reg_line'][0]) / (lin_reg_line.index.year[-1]  - lin_reg_line.index.year[0])\n",
    "        return year_gradient\n",
    "    except AssertionError as ae:\n",
    "        print(f\"{data.name}failed. {int(data.isnull().sum(axis=0))} out of {len(data)} data points missing\")\n",
    "        return np.nan\n",
    "    \n",
    "def format_dict_to_dataframe(jet_lat_dict, unique_col_name):\n",
    "    jet_lat_df = pd.DataFrame(jet_lat_dict)\n",
    "    jet_lat_df = jet_lat_df.stack().reset_index()\n",
    "    jet_lat_df.columns = [\"Metric\", \"Dataset\", unique_col_name]\n",
    "    ## rename metric name to formatted version\n",
    "    jet_lat_df['Metric'] = jet_lat_df.Metric.apply(lambda row: METRIC_LABEL_RENAMER[row])\n",
    "    ## include decade trend \n",
    "    if 'trend' in unique_col_name.lower():\n",
    "        jet_lat_df[unique_col_name+'_decade'] = jet_lat_df[unique_col_name]*10\n",
    "    return jet_lat_df"
   ]
  },
  {
   "cell_type": "markdown",
   "id": "bf463f17-16c9-46b1-9444-3a69b95f86af",
   "metadata": {},
   "source": [
    "## ... for reanalysis"
   ]
  },
  {
   "cell_type": "code",
   "execution_count": 45,
   "id": "ab69266d-1b8a-4b62-aba8-d82f7979285b",
   "metadata": {
    "scrolled": true
   },
   "outputs": [
    {
     "name": "stdout",
     "output_type": "stream",
     "text": [
      "ERA-5\n",
      "JRA-55\n",
      "MERRA-2\n",
      "NCEP/DOE II\n",
      "CPU times: user 27.2 s, sys: 4.1 ms, total: 27.2 s\n",
      "Wall time: 27.2 s\n"
     ]
    }
   ],
   "source": [
    "%%time\n",
    "## takes ~28 seconds on Intel i7-10750 \n",
    "reanalysis_data = [era_npac_day_dict, jra55_npac_day_dict, merra2_npac_day_dict, ncepdoe2_npac_day_dict]\n",
    "reanalysis_names = [\"ERA-5\", \"JRA-55\", \"MERRA-2\", \"NCEP/DOE II\"]\n",
    "djf_jet_lat_mean_dict = {}\n",
    "mam_jet_lat_mean_dict = {}\n",
    "jja_jet_lat_mean_dict = {}\n",
    "son_jet_lat_mean_dict = {}\n",
    "djf_jet_lat_trend_dict = {}\n",
    "mam_jet_lat_trend_dict = {}\n",
    "jja_jet_lat_trend_dict = {}\n",
    "son_jet_lat_trend_dict = {}\n",
    "for ind, reanalysis_set in enumerate(reanalysis_data):\n",
    "    reanalysis_name = reanalysis_names[ind]\n",
    "    djf_jet_lat_mean_dict[reanalysis_name] = {}\n",
    "    mam_jet_lat_mean_dict[reanalysis_name] = {}\n",
    "    jja_jet_lat_mean_dict[reanalysis_name] = {}\n",
    "    son_jet_lat_mean_dict[reanalysis_name] = {}\n",
    "    djf_jet_lat_trend_dict[reanalysis_name] = {}\n",
    "    mam_jet_lat_trend_dict[reanalysis_name] = {}\n",
    "    jja_jet_lat_trend_dict[reanalysis_name] = {}\n",
    "    son_jet_lat_trend_dict[reanalysis_name] = {}\n",
    "    print(reanalysis_name)\n",
    "    for metric in METRIC_DATA_NAMES:\n",
    "        if metric == \"Bracegirdle2018_NorthPacific\":\n",
    "            ## ignore because only calculated by annual scale\n",
    "            continue\n",
    "        else:\n",
    "            reanalysis_set[metric].index = pd.to_datetime(reanalysis_set[metric].index)\n",
    "            djf_jet_lat_mean_dict[reanalysis_name][metric] = float(reanalysis_set[metric][reanalysis_set[metric].index.month.isin([12, 1, 2])]['jet_lat'].mean())\n",
    "            mam_jet_lat_mean_dict[reanalysis_name][metric] = float(reanalysis_set[metric][reanalysis_set[metric].index.month.isin([3, 4, 5])]['jet_lat'].mean())\n",
    "            jja_jet_lat_mean_dict[reanalysis_name][metric] = float(reanalysis_set[metric][reanalysis_set[metric].index.month.isin([6, 7, 8])]['jet_lat'].mean())\n",
    "            son_jet_lat_mean_dict[reanalysis_name][metric] = float(reanalysis_set[metric][reanalysis_set[metric].index.month.isin([9, 10, 11])]['jet_lat'].mean())\n",
    "   \n",
    "            djf_jet_lat_trend_dict[reanalysis_name][metric] = get_year_gradient_of_trend(reanalysis_set[metric][reanalysis_set[metric].index.month.isin([12, 1, 2])])\n",
    "            mam_jet_lat_trend_dict[reanalysis_name][metric] = get_year_gradient_of_trend(reanalysis_set[metric][reanalysis_set[metric].index.month.isin([3, 4, 5])])\n",
    "            jja_jet_lat_trend_dict[reanalysis_name][metric] = get_year_gradient_of_trend(reanalysis_set[metric][reanalysis_set[metric].index.month.isin([6, 7, 8])])\n",
    "            son_jet_lat_trend_dict[reanalysis_name][metric] = get_year_gradient_of_trend(reanalysis_set[metric][reanalysis_set[metric].index.month.isin([9, 10, 11])])"
   ]
  },
  {
   "cell_type": "code",
   "execution_count": 46,
   "id": "3b2fad19-df03-4cd6-9332-f6203a12c9cc",
   "metadata": {},
   "outputs": [],
   "source": [
    "djf_jet_lat_mean_df = format_dict_to_dataframe(djf_jet_lat_mean_dict, \"DJF mean\")\n",
    "djf_jet_lat_trend_df = format_dict_to_dataframe(djf_jet_lat_trend_dict, \"DJF Trend\")\n",
    "\n",
    "mam_jet_lat_mean_df = format_dict_to_dataframe(mam_jet_lat_mean_dict, \"MAM mean\")\n",
    "mam_jet_lat_trend_df = format_dict_to_dataframe(mam_jet_lat_trend_dict, \"MAM Trend\")\n",
    "\n",
    "jja_jet_lat_mean_df = format_dict_to_dataframe(jja_jet_lat_mean_dict, \"JJA mean\")\n",
    "jja_jet_lat_trend_df = format_dict_to_dataframe(jja_jet_lat_trend_dict, \"JJA Trend\")\n",
    "\n",
    "son_jet_lat_mean_df = format_dict_to_dataframe(son_jet_lat_mean_dict, \"SON mean\")\n",
    "son_jet_lat_trend_df = format_dict_to_dataframe(son_jet_lat_trend_dict, \"SON Trend\")"
   ]
  },
  {
   "cell_type": "code",
   "execution_count": 47,
   "id": "453953af-9165-4fe6-838f-38a7b20f50c0",
   "metadata": {},
   "outputs": [],
   "source": [
    "## merge all\n",
    "allseasons_jet_lat_mean_df = djf_jet_lat_mean_df.merge(mam_jet_lat_mean_df)\n",
    "allseasons_jet_lat_mean_df = allseasons_jet_lat_mean_df.merge(jja_jet_lat_mean_df)\n",
    "allseasons_jet_lat_mean_df = allseasons_jet_lat_mean_df.merge(son_jet_lat_mean_df)\n",
    "\n",
    "allseasons_jet_lat_trend_df = djf_jet_lat_trend_df.merge(mam_jet_lat_trend_df)\n",
    "allseasons_jet_lat_trend_df = allseasons_jet_lat_trend_df.merge(jja_jet_lat_trend_df)\n",
    "allseasons_jet_lat_trend_df = allseasons_jet_lat_trend_df.merge(son_jet_lat_trend_df)\n",
    "\n",
    "all_seasons_rean_jet_lat_mean_and_trend_df = allseasons_jet_lat_mean_df.merge(allseasons_jet_lat_trend_df)"
   ]
  },
  {
   "cell_type": "code",
   "execution_count": 48,
   "id": "78e0bf64-ba21-43b2-91ec-4666fefdf317",
   "metadata": {},
   "outputs": [
    {
     "data": {
      "text/html": [
       "<div>\n",
       "<style scoped>\n",
       "    .dataframe tbody tr th:only-of-type {\n",
       "        vertical-align: middle;\n",
       "    }\n",
       "\n",
       "    .dataframe tbody tr th {\n",
       "        vertical-align: top;\n",
       "    }\n",
       "\n",
       "    .dataframe thead th {\n",
       "        text-align: right;\n",
       "    }\n",
       "</style>\n",
       "<table border=\"1\" class=\"dataframe\">\n",
       "  <thead>\n",
       "    <tr style=\"text-align: right;\">\n",
       "      <th></th>\n",
       "      <th>Metric</th>\n",
       "      <th>Dataset</th>\n",
       "      <th>DJF mean</th>\n",
       "      <th>MAM mean</th>\n",
       "      <th>JJA mean</th>\n",
       "      <th>SON mean</th>\n",
       "      <th>DJF Trend</th>\n",
       "      <th>DJF Trend_decade</th>\n",
       "      <th>MAM Trend</th>\n",
       "      <th>MAM Trend_decade</th>\n",
       "      <th>JJA Trend</th>\n",
       "      <th>JJA Trend_decade</th>\n",
       "      <th>SON Trend</th>\n",
       "      <th>SON Trend_decade</th>\n",
       "    </tr>\n",
       "  </thead>\n",
       "  <tbody>\n",
       "    <tr>\n",
       "      <th>0</th>\n",
       "      <td>Woollings et al. 2010</td>\n",
       "      <td>ERA-5</td>\n",
       "      <td>38.416556</td>\n",
       "      <td>41.383023</td>\n",
       "      <td>46.510934</td>\n",
       "      <td>45.741104</td>\n",
       "      <td>0.084118</td>\n",
       "      <td>0.841182</td>\n",
       "      <td>0.027162</td>\n",
       "      <td>0.271624</td>\n",
       "      <td>0.042990</td>\n",
       "      <td>0.429904</td>\n",
       "      <td>-0.012295</td>\n",
       "      <td>-0.122950</td>\n",
       "    </tr>\n",
       "    <tr>\n",
       "      <th>1</th>\n",
       "      <td>Woollings et al. 2010</td>\n",
       "      <td>JRA-55</td>\n",
       "      <td>38.411569</td>\n",
       "      <td>41.420807</td>\n",
       "      <td>46.809330</td>\n",
       "      <td>45.812075</td>\n",
       "      <td>0.076927</td>\n",
       "      <td>0.769266</td>\n",
       "      <td>0.025799</td>\n",
       "      <td>0.257988</td>\n",
       "      <td>0.063805</td>\n",
       "      <td>0.638047</td>\n",
       "      <td>0.001078</td>\n",
       "      <td>0.010777</td>\n",
       "    </tr>\n",
       "    <tr>\n",
       "      <th>2</th>\n",
       "      <td>Woollings et al. 2010</td>\n",
       "      <td>MERRA-2</td>\n",
       "      <td>38.401064</td>\n",
       "      <td>41.398680</td>\n",
       "      <td>46.062699</td>\n",
       "      <td>45.692318</td>\n",
       "      <td>0.068468</td>\n",
       "      <td>0.684678</td>\n",
       "      <td>0.007373</td>\n",
       "      <td>0.073727</td>\n",
       "      <td>0.036818</td>\n",
       "      <td>0.368179</td>\n",
       "      <td>0.000604</td>\n",
       "      <td>0.006043</td>\n",
       "    </tr>\n",
       "    <tr>\n",
       "      <th>3</th>\n",
       "      <td>Woollings et al. 2010</td>\n",
       "      <td>NCEP/DOE II</td>\n",
       "      <td>38.296543</td>\n",
       "      <td>41.183359</td>\n",
       "      <td>46.412396</td>\n",
       "      <td>45.794741</td>\n",
       "      <td>0.072824</td>\n",
       "      <td>0.728244</td>\n",
       "      <td>0.010188</td>\n",
       "      <td>0.101878</td>\n",
       "      <td>0.022320</td>\n",
       "      <td>0.223199</td>\n",
       "      <td>-0.007454</td>\n",
       "      <td>-0.074542</td>\n",
       "    </tr>\n",
       "    <tr>\n",
       "      <th>4</th>\n",
       "      <td>Barnes &amp; Polvani 2013</td>\n",
       "      <td>ERA-5</td>\n",
       "      <td>38.548350</td>\n",
       "      <td>41.464314</td>\n",
       "      <td>46.260380</td>\n",
       "      <td>45.786321</td>\n",
       "      <td>0.088743</td>\n",
       "      <td>0.887431</td>\n",
       "      <td>0.026058</td>\n",
       "      <td>0.260579</td>\n",
       "      <td>0.039101</td>\n",
       "      <td>0.391015</td>\n",
       "      <td>-0.013391</td>\n",
       "      <td>-0.133915</td>\n",
       "    </tr>\n",
       "  </tbody>\n",
       "</table>\n",
       "</div>"
      ],
      "text/plain": [
       "                  Metric      Dataset   DJF mean   MAM mean   JJA mean  \\\n",
       "0  Woollings et al. 2010        ERA-5  38.416556  41.383023  46.510934   \n",
       "1  Woollings et al. 2010       JRA-55  38.411569  41.420807  46.809330   \n",
       "2  Woollings et al. 2010      MERRA-2  38.401064  41.398680  46.062699   \n",
       "3  Woollings et al. 2010  NCEP/DOE II  38.296543  41.183359  46.412396   \n",
       "4  Barnes & Polvani 2013        ERA-5  38.548350  41.464314  46.260380   \n",
       "\n",
       "    SON mean  DJF Trend  DJF Trend_decade  MAM Trend  MAM Trend_decade  \\\n",
       "0  45.741104   0.084118          0.841182   0.027162          0.271624   \n",
       "1  45.812075   0.076927          0.769266   0.025799          0.257988   \n",
       "2  45.692318   0.068468          0.684678   0.007373          0.073727   \n",
       "3  45.794741   0.072824          0.728244   0.010188          0.101878   \n",
       "4  45.786321   0.088743          0.887431   0.026058          0.260579   \n",
       "\n",
       "   JJA Trend  JJA Trend_decade  SON Trend  SON Trend_decade  \n",
       "0   0.042990          0.429904  -0.012295         -0.122950  \n",
       "1   0.063805          0.638047   0.001078          0.010777  \n",
       "2   0.036818          0.368179   0.000604          0.006043  \n",
       "3   0.022320          0.223199  -0.007454         -0.074542  \n",
       "4   0.039101          0.391015  -0.013391         -0.133915  "
      ]
     },
     "execution_count": 48,
     "metadata": {},
     "output_type": "execute_result"
    }
   ],
   "source": [
    "all_seasons_rean_jet_lat_mean_and_trend_df.head()"
   ]
  },
  {
   "cell_type": "markdown",
   "id": "3ed4fa4f-8067-46c1-ac00-02a5de4a31e3",
   "metadata": {},
   "source": [
    "## .. for CMIP6 Historical"
   ]
  },
  {
   "cell_type": "code",
   "execution_count": 49,
   "id": "dbdb85bc-5e75-4320-8c43-ab5afd63e80c",
   "metadata": {
    "scrolled": true
   },
   "outputs": [
    {
     "name": "stdout",
     "output_type": "stream",
     "text": [
      "Woollings et al. 2010\n",
      "Barnes & Polvani 2013\n",
      "Barnes & Simpson 2017\n",
      "Grise & Polvani 2017\n",
      "Bracegirdle et al. 2018\n",
      "Zappa et al. 2018\n",
      "Kerr et al. 2020\n",
      "CPU times: user 13min 13s, sys: 95.9 ms, total: 13min 13s\n",
      "Wall time: 13min 13s\n"
     ]
    }
   ],
   "source": [
    "%%time\n",
    "## takes ~16 minutes on Intel i7-10750 \n",
    "\n",
    "hist_djf_jet_lat_mean_dict = {}\n",
    "hist_mam_jet_lat_mean_dict = {}\n",
    "hist_jja_jet_lat_mean_dict = {}\n",
    "hist_son_jet_lat_mean_dict = {}\n",
    "\n",
    "hist_djf_jet_lat_trend_dict = {}\n",
    "hist_mam_jet_lat_trend_dict = {}\n",
    "hist_jja_jet_lat_trend_dict = {}\n",
    "hist_son_jet_lat_trend_dict = {}\n",
    "\n",
    "for metric in metric_names:\n",
    "    print(metric)\n",
    "    if metric == \"Bracegirdle et al. 2018\":\n",
    "        ## ignore because only calculated by annual scale\n",
    "        continue\n",
    "    hist_djf_jet_lat_mean_dict[metric] = all_df_npac_hist_dataset[metric][all_df_npac_hist_dataset[metric].index.month.isin([12, 1, 2])].mean()\n",
    "    hist_mam_jet_lat_mean_dict[metric] = all_df_npac_hist_dataset[metric][all_df_npac_hist_dataset[metric].index.month.isin([3, 4, 5])].mean()\n",
    "    hist_jja_jet_lat_mean_dict[metric] = all_df_npac_hist_dataset[metric][all_df_npac_hist_dataset[metric].index.month.isin([6, 7, 8])].mean()\n",
    "    hist_son_jet_lat_mean_dict[metric] = all_df_npac_hist_dataset[metric][all_df_npac_hist_dataset[metric].index.month.isin([9, 10, 11])].mean()\n",
    "    \n",
    "    hist_djf_jet_lat_trend_dict[metric] = all_df_npac_hist_dataset[metric][all_df_npac_hist_dataset[metric].index.month.isin([12, 1, 2])].apply(lambda col: get_year_gradient_of_trend(pd.DataFrame(col), col.name), axis=0)\n",
    "    hist_mam_jet_lat_trend_dict[metric] = all_df_npac_hist_dataset[metric][all_df_npac_hist_dataset[metric].index.month.isin([3, 4, 5])].apply(lambda col: get_year_gradient_of_trend(pd.DataFrame(col), col.name), axis=0)\n",
    "    hist_jja_jet_lat_trend_dict[metric] = all_df_npac_hist_dataset[metric][all_df_npac_hist_dataset[metric].index.month.isin([6, 7, 8])].apply(lambda col: get_year_gradient_of_trend(pd.DataFrame(col), col.name), axis=0)\n",
    "    hist_son_jet_lat_trend_dict[metric] = all_df_npac_hist_dataset[metric][all_df_npac_hist_dataset[metric].index.month.isin([9, 10, 11])].apply(lambda col: get_year_gradient_of_trend(pd.DataFrame(col), col.name), axis=0)"
   ]
  },
  {
   "cell_type": "code",
   "execution_count": 50,
   "id": "c21a41a4-015e-44ae-afc1-ef4853d0e63d",
   "metadata": {},
   "outputs": [
    {
     "data": {
      "text/plain": [
       "ACCESS-CM2_r1i1p1f1       -0.022090\n",
       "ACCESS-ESM1-5_r32i1p1f1    0.041596\n",
       "IPSL-CM6A-LR_r2i1p1f1     -0.064092\n",
       "MIROC-ES2L_r5i1p1f2        0.012702\n",
       "CNRM-CM6-1_r8i1p1f2       -0.002326\n",
       "                             ...   \n",
       "ACCESS-ESM1-5_r17i1p1f1   -0.106107\n",
       "IPSL-CM6A-LR_r5i1p1f1      0.015359\n",
       "INM-CM4-8_r1i1p1f1        -0.011284\n",
       "IPSL-CM6A-LR_r6i1p1f1      0.003912\n",
       "UKESM1-0-LL_r15i1p1f2      0.120264\n",
       "Length: 164, dtype: float64"
      ]
     },
     "execution_count": 50,
     "metadata": {},
     "output_type": "execute_result"
    }
   ],
   "source": [
    "hist_djf_jet_lat_trend_dict['Woollings et al. 2010']"
   ]
  },
  {
   "cell_type": "code",
   "execution_count": 51,
   "id": "fcad092f-ce52-4010-8de2-ec305d937526",
   "metadata": {},
   "outputs": [],
   "source": [
    "hist_djf_jet_lat_mean_df = pd.concat(hist_djf_jet_lat_mean_dict, axis=1)\n",
    "hist_mam_jet_lat_mean_df = pd.concat(hist_mam_jet_lat_mean_dict, axis=1)\n",
    "hist_jja_jet_lat_mean_df = pd.concat(hist_jja_jet_lat_mean_dict, axis=1)\n",
    "hist_son_jet_lat_mean_df = pd.concat(hist_son_jet_lat_mean_dict, axis=1)\n",
    "\n",
    "hist_djf_jet_lat_trend_df = pd.concat(hist_djf_jet_lat_trend_dict, axis=1)\n",
    "hist_mam_jet_lat_trend_df = pd.concat(hist_mam_jet_lat_trend_dict, axis=1)\n",
    "hist_jja_jet_lat_trend_df = pd.concat(hist_jja_jet_lat_trend_dict, axis=1)\n",
    "hist_son_jet_lat_trend_df = pd.concat(hist_son_jet_lat_trend_dict, axis=1)"
   ]
  },
  {
   "cell_type": "code",
   "execution_count": 52,
   "id": "08912c6f-77f7-4b85-8ddb-6e2a2566ae7a",
   "metadata": {},
   "outputs": [
    {
     "data": {
      "text/html": [
       "<div>\n",
       "<style scoped>\n",
       "    .dataframe tbody tr th:only-of-type {\n",
       "        vertical-align: middle;\n",
       "    }\n",
       "\n",
       "    .dataframe tbody tr th {\n",
       "        vertical-align: top;\n",
       "    }\n",
       "\n",
       "    .dataframe thead th {\n",
       "        text-align: right;\n",
       "    }\n",
       "</style>\n",
       "<table border=\"1\" class=\"dataframe\">\n",
       "  <thead>\n",
       "    <tr style=\"text-align: right;\">\n",
       "      <th></th>\n",
       "      <th>Woollings et al. 2010</th>\n",
       "      <th>Barnes &amp; Polvani 2013</th>\n",
       "      <th>Barnes &amp; Simpson 2017</th>\n",
       "      <th>Grise &amp; Polvani 2017</th>\n",
       "      <th>Zappa et al. 2018</th>\n",
       "      <th>Kerr et al. 2020</th>\n",
       "    </tr>\n",
       "  </thead>\n",
       "  <tbody>\n",
       "    <tr>\n",
       "      <th>ACCESS-CM2_r1i1p1f1</th>\n",
       "      <td>-0.022090</td>\n",
       "      <td>-0.023670</td>\n",
       "      <td>0.002520</td>\n",
       "      <td>0.000358</td>\n",
       "      <td>-0.018019</td>\n",
       "      <td>-0.009733</td>\n",
       "    </tr>\n",
       "    <tr>\n",
       "      <th>ACCESS-ESM1-5_r32i1p1f1</th>\n",
       "      <td>0.041596</td>\n",
       "      <td>0.042469</td>\n",
       "      <td>0.063992</td>\n",
       "      <td>0.020491</td>\n",
       "      <td>0.014102</td>\n",
       "      <td>0.008166</td>\n",
       "    </tr>\n",
       "    <tr>\n",
       "      <th>IPSL-CM6A-LR_r2i1p1f1</th>\n",
       "      <td>-0.064092</td>\n",
       "      <td>-0.062280</td>\n",
       "      <td>-0.055824</td>\n",
       "      <td>-0.074649</td>\n",
       "      <td>-0.045927</td>\n",
       "      <td>-0.046527</td>\n",
       "    </tr>\n",
       "    <tr>\n",
       "      <th>MIROC-ES2L_r5i1p1f2</th>\n",
       "      <td>0.012702</td>\n",
       "      <td>0.010964</td>\n",
       "      <td>0.004960</td>\n",
       "      <td>-0.022321</td>\n",
       "      <td>-0.010354</td>\n",
       "      <td>0.018263</td>\n",
       "    </tr>\n",
       "    <tr>\n",
       "      <th>CNRM-CM6-1_r8i1p1f2</th>\n",
       "      <td>-0.002326</td>\n",
       "      <td>-0.009497</td>\n",
       "      <td>0.002487</td>\n",
       "      <td>-0.002897</td>\n",
       "      <td>-0.008174</td>\n",
       "      <td>-0.000337</td>\n",
       "    </tr>\n",
       "  </tbody>\n",
       "</table>\n",
       "</div>"
      ],
      "text/plain": [
       "                         Woollings et al. 2010  Barnes & Polvani 2013  \\\n",
       "ACCESS-CM2_r1i1p1f1                  -0.022090              -0.023670   \n",
       "ACCESS-ESM1-5_r32i1p1f1               0.041596               0.042469   \n",
       "IPSL-CM6A-LR_r2i1p1f1                -0.064092              -0.062280   \n",
       "MIROC-ES2L_r5i1p1f2                   0.012702               0.010964   \n",
       "CNRM-CM6-1_r8i1p1f2                  -0.002326              -0.009497   \n",
       "\n",
       "                         Barnes & Simpson 2017  Grise & Polvani 2017  \\\n",
       "ACCESS-CM2_r1i1p1f1                   0.002520              0.000358   \n",
       "ACCESS-ESM1-5_r32i1p1f1               0.063992              0.020491   \n",
       "IPSL-CM6A-LR_r2i1p1f1                -0.055824             -0.074649   \n",
       "MIROC-ES2L_r5i1p1f2                   0.004960             -0.022321   \n",
       "CNRM-CM6-1_r8i1p1f2                   0.002487             -0.002897   \n",
       "\n",
       "                         Zappa et al. 2018  Kerr et al. 2020  \n",
       "ACCESS-CM2_r1i1p1f1              -0.018019         -0.009733  \n",
       "ACCESS-ESM1-5_r32i1p1f1           0.014102          0.008166  \n",
       "IPSL-CM6A-LR_r2i1p1f1            -0.045927         -0.046527  \n",
       "MIROC-ES2L_r5i1p1f2              -0.010354          0.018263  \n",
       "CNRM-CM6-1_r8i1p1f2              -0.008174         -0.000337  "
      ]
     },
     "execution_count": 52,
     "metadata": {},
     "output_type": "execute_result"
    }
   ],
   "source": [
    "hist_djf_jet_lat_trend_df.head()"
   ]
  },
  {
   "cell_type": "markdown",
   "id": "aed0dd09-a0da-41ed-8014-22fd64c92a6e",
   "metadata": {},
   "source": [
    "## .. for CMIP6 SSP5-8.5"
   ]
  },
  {
   "cell_type": "code",
   "execution_count": 53,
   "id": "7d321487-27fc-4b37-9da7-69792c1fae7f",
   "metadata": {
    "scrolled": true
   },
   "outputs": [
    {
     "name": "stdout",
     "output_type": "stream",
     "text": [
      "Woollings et al. 2010\n"
     ]
    },
    {
     "name": "stderr",
     "output_type": "stream",
     "text": [
      "/tmp/ipykernel_29558/3422997013.py:34: RuntimeWarning: divide by zero encountered in scalar divide\n",
      "  year_gradient = (lin_reg_line['reg_line'][-1] - lin_reg_line['reg_line'][0]) / (lin_reg_line.index.year[-1]  - lin_reg_line.index.year[0])\n",
      "/tmp/ipykernel_29558/3422997013.py:34: RuntimeWarning: divide by zero encountered in scalar divide\n",
      "  year_gradient = (lin_reg_line['reg_line'][-1] - lin_reg_line['reg_line'][0]) / (lin_reg_line.index.year[-1]  - lin_reg_line.index.year[0])\n",
      "/tmp/ipykernel_29558/3422997013.py:34: RuntimeWarning: divide by zero encountered in scalar divide\n",
      "  year_gradient = (lin_reg_line['reg_line'][-1] - lin_reg_line['reg_line'][0]) / (lin_reg_line.index.year[-1]  - lin_reg_line.index.year[0])\n",
      "/tmp/ipykernel_29558/3422997013.py:34: RuntimeWarning: divide by zero encountered in scalar divide\n",
      "  year_gradient = (lin_reg_line['reg_line'][-1] - lin_reg_line['reg_line'][0]) / (lin_reg_line.index.year[-1]  - lin_reg_line.index.year[0])\n"
     ]
    },
    {
     "name": "stdout",
     "output_type": "stream",
     "text": [
      "Barnes & Polvani 2013\n"
     ]
    },
    {
     "name": "stderr",
     "output_type": "stream",
     "text": [
      "/tmp/ipykernel_29558/3422997013.py:34: RuntimeWarning: divide by zero encountered in scalar divide\n",
      "  year_gradient = (lin_reg_line['reg_line'][-1] - lin_reg_line['reg_line'][0]) / (lin_reg_line.index.year[-1]  - lin_reg_line.index.year[0])\n",
      "/tmp/ipykernel_29558/3422997013.py:34: RuntimeWarning: divide by zero encountered in scalar divide\n",
      "  year_gradient = (lin_reg_line['reg_line'][-1] - lin_reg_line['reg_line'][0]) / (lin_reg_line.index.year[-1]  - lin_reg_line.index.year[0])\n",
      "/tmp/ipykernel_29558/3422997013.py:34: RuntimeWarning: divide by zero encountered in scalar divide\n",
      "  year_gradient = (lin_reg_line['reg_line'][-1] - lin_reg_line['reg_line'][0]) / (lin_reg_line.index.year[-1]  - lin_reg_line.index.year[0])\n",
      "/tmp/ipykernel_29558/3422997013.py:34: RuntimeWarning: divide by zero encountered in scalar divide\n",
      "  year_gradient = (lin_reg_line['reg_line'][-1] - lin_reg_line['reg_line'][0]) / (lin_reg_line.index.year[-1]  - lin_reg_line.index.year[0])\n"
     ]
    },
    {
     "name": "stdout",
     "output_type": "stream",
     "text": [
      "Barnes & Simpson 2017\n"
     ]
    },
    {
     "name": "stderr",
     "output_type": "stream",
     "text": [
      "/tmp/ipykernel_29558/3422997013.py:34: RuntimeWarning: divide by zero encountered in scalar divide\n",
      "  year_gradient = (lin_reg_line['reg_line'][-1] - lin_reg_line['reg_line'][0]) / (lin_reg_line.index.year[-1]  - lin_reg_line.index.year[0])\n",
      "/tmp/ipykernel_29558/3422997013.py:34: RuntimeWarning: divide by zero encountered in scalar divide\n",
      "  year_gradient = (lin_reg_line['reg_line'][-1] - lin_reg_line['reg_line'][0]) / (lin_reg_line.index.year[-1]  - lin_reg_line.index.year[0])\n",
      "/tmp/ipykernel_29558/3422997013.py:34: RuntimeWarning: divide by zero encountered in scalar divide\n",
      "  year_gradient = (lin_reg_line['reg_line'][-1] - lin_reg_line['reg_line'][0]) / (lin_reg_line.index.year[-1]  - lin_reg_line.index.year[0])\n",
      "/tmp/ipykernel_29558/3422997013.py:34: RuntimeWarning: divide by zero encountered in scalar divide\n",
      "  year_gradient = (lin_reg_line['reg_line'][-1] - lin_reg_line['reg_line'][0]) / (lin_reg_line.index.year[-1]  - lin_reg_line.index.year[0])\n"
     ]
    },
    {
     "name": "stdout",
     "output_type": "stream",
     "text": [
      "Grise & Polvani 2017\n"
     ]
    },
    {
     "name": "stderr",
     "output_type": "stream",
     "text": [
      "/tmp/ipykernel_29558/3422997013.py:34: RuntimeWarning: divide by zero encountered in scalar divide\n",
      "  year_gradient = (lin_reg_line['reg_line'][-1] - lin_reg_line['reg_line'][0]) / (lin_reg_line.index.year[-1]  - lin_reg_line.index.year[0])\n",
      "/tmp/ipykernel_29558/3422997013.py:34: RuntimeWarning: divide by zero encountered in scalar divide\n",
      "  year_gradient = (lin_reg_line['reg_line'][-1] - lin_reg_line['reg_line'][0]) / (lin_reg_line.index.year[-1]  - lin_reg_line.index.year[0])\n",
      "/tmp/ipykernel_29558/3422997013.py:34: RuntimeWarning: divide by zero encountered in scalar divide\n",
      "  year_gradient = (lin_reg_line['reg_line'][-1] - lin_reg_line['reg_line'][0]) / (lin_reg_line.index.year[-1]  - lin_reg_line.index.year[0])\n",
      "/tmp/ipykernel_29558/3422997013.py:34: RuntimeWarning: divide by zero encountered in scalar divide\n",
      "  year_gradient = (lin_reg_line['reg_line'][-1] - lin_reg_line['reg_line'][0]) / (lin_reg_line.index.year[-1]  - lin_reg_line.index.year[0])\n"
     ]
    },
    {
     "name": "stdout",
     "output_type": "stream",
     "text": [
      "Bracegirdle et al. 2018\n",
      "Zappa et al. 2018\n"
     ]
    },
    {
     "name": "stderr",
     "output_type": "stream",
     "text": [
      "/tmp/ipykernel_29558/3422997013.py:34: RuntimeWarning: divide by zero encountered in scalar divide\n",
      "  year_gradient = (lin_reg_line['reg_line'][-1] - lin_reg_line['reg_line'][0]) / (lin_reg_line.index.year[-1]  - lin_reg_line.index.year[0])\n",
      "/tmp/ipykernel_29558/3422997013.py:34: RuntimeWarning: divide by zero encountered in scalar divide\n",
      "  year_gradient = (lin_reg_line['reg_line'][-1] - lin_reg_line['reg_line'][0]) / (lin_reg_line.index.year[-1]  - lin_reg_line.index.year[0])\n",
      "/tmp/ipykernel_29558/3422997013.py:34: RuntimeWarning: divide by zero encountered in scalar divide\n",
      "  year_gradient = (lin_reg_line['reg_line'][-1] - lin_reg_line['reg_line'][0]) / (lin_reg_line.index.year[-1]  - lin_reg_line.index.year[0])\n",
      "/tmp/ipykernel_29558/3422997013.py:34: RuntimeWarning: divide by zero encountered in scalar divide\n",
      "  year_gradient = (lin_reg_line['reg_line'][-1] - lin_reg_line['reg_line'][0]) / (lin_reg_line.index.year[-1]  - lin_reg_line.index.year[0])\n"
     ]
    },
    {
     "name": "stdout",
     "output_type": "stream",
     "text": [
      "Kerr et al. 2020\n"
     ]
    },
    {
     "name": "stderr",
     "output_type": "stream",
     "text": [
      "/tmp/ipykernel_29558/3422997013.py:34: RuntimeWarning: divide by zero encountered in scalar divide\n",
      "  year_gradient = (lin_reg_line['reg_line'][-1] - lin_reg_line['reg_line'][0]) / (lin_reg_line.index.year[-1]  - lin_reg_line.index.year[0])\n",
      "/tmp/ipykernel_29558/3422997013.py:34: RuntimeWarning: divide by zero encountered in scalar divide\n",
      "  year_gradient = (lin_reg_line['reg_line'][-1] - lin_reg_line['reg_line'][0]) / (lin_reg_line.index.year[-1]  - lin_reg_line.index.year[0])\n",
      "/tmp/ipykernel_29558/3422997013.py:34: RuntimeWarning: divide by zero encountered in scalar divide\n",
      "  year_gradient = (lin_reg_line['reg_line'][-1] - lin_reg_line['reg_line'][0]) / (lin_reg_line.index.year[-1]  - lin_reg_line.index.year[0])\n",
      "/tmp/ipykernel_29558/3422997013.py:34: RuntimeWarning: divide by zero encountered in scalar divide\n",
      "  year_gradient = (lin_reg_line['reg_line'][-1] - lin_reg_line['reg_line'][0]) / (lin_reg_line.index.year[-1]  - lin_reg_line.index.year[0])\n"
     ]
    },
    {
     "name": "stdout",
     "output_type": "stream",
     "text": [
      "CPU times: user 6min 51s, sys: 15.3 ms, total: 6min 51s\n",
      "Wall time: 6min 51s\n"
     ]
    }
   ],
   "source": [
    "%%time\n",
    "## takes ~4 minutes on Intel i7-10750 \n",
    "ssp585_djf_jet_lat_mean_dict = {}\n",
    "ssp585_mam_jet_lat_mean_dict = {}\n",
    "ssp585_jja_jet_lat_mean_dict = {}\n",
    "ssp585_son_jet_lat_mean_dict = {}\n",
    "\n",
    "ssp585_djf_jet_lat_trend_dict = {}\n",
    "ssp585_mam_jet_lat_trend_dict = {}\n",
    "ssp585_jja_jet_lat_trend_dict = {}\n",
    "ssp585_son_jet_lat_trend_dict = {}\n",
    "\n",
    "for metric in metric_names:\n",
    "    print(metric)\n",
    "    if metric == \"Bracegirdle et al. 2018\":\n",
    "        ## ignore because only calculated by annual scale\n",
    "        continue\n",
    "    ssp585_djf_jet_lat_mean_dict[metric] = all_df_npac_future_dataset[metric][all_df_npac_future_dataset[metric].index.month.isin([12, 1, 2])].mean()\n",
    "    ssp585_mam_jet_lat_mean_dict[metric] = all_df_npac_future_dataset[metric][all_df_npac_future_dataset[metric].index.month.isin([3, 4, 5])].mean()\n",
    "    ssp585_jja_jet_lat_mean_dict[metric] = all_df_npac_future_dataset[metric][all_df_npac_future_dataset[metric].index.month.isin([6, 7, 8])].mean()\n",
    "    ssp585_son_jet_lat_mean_dict[metric] = all_df_npac_future_dataset[metric][all_df_npac_future_dataset[metric].index.month.isin([9, 10, 11])].mean()\n",
    "    \n",
    "    ssp585_djf_jet_lat_trend_dict[metric] = all_df_npac_future_dataset[metric][all_df_npac_future_dataset[metric].index.month.isin([12, 1, 2])].apply(lambda col: get_year_gradient_of_trend(pd.DataFrame(col), col.name), axis=0)\n",
    "    ssp585_mam_jet_lat_trend_dict[metric] = all_df_npac_future_dataset[metric][all_df_npac_future_dataset[metric].index.month.isin([3, 4, 5])].apply(lambda col: get_year_gradient_of_trend(pd.DataFrame(col), col.name), axis=0)\n",
    "    ssp585_jja_jet_lat_trend_dict[metric] = all_df_npac_future_dataset[metric][all_df_npac_future_dataset[metric].index.month.isin([6, 7, 8])].apply(lambda col: get_year_gradient_of_trend(pd.DataFrame(col), col.name), axis=0)\n",
    "    ssp585_son_jet_lat_trend_dict[metric] = all_df_npac_future_dataset[metric][all_df_npac_future_dataset[metric].index.month.isin([9, 10, 11])].apply(lambda col: get_year_gradient_of_trend(pd.DataFrame(col), col.name), axis=0)"
   ]
  },
  {
   "cell_type": "code",
   "execution_count": 54,
   "id": "012517d4-ca41-4f4f-8c16-c6c228033c95",
   "metadata": {},
   "outputs": [],
   "source": [
    "ssp585_djf_jet_lat_mean_df = pd.concat(ssp585_djf_jet_lat_mean_dict, axis=1)\n",
    "ssp585_mam_jet_lat_mean_df = pd.concat(ssp585_mam_jet_lat_mean_dict, axis=1)\n",
    "ssp585_jja_jet_lat_mean_df = pd.concat(ssp585_jja_jet_lat_mean_dict, axis=1)\n",
    "ssp585_son_jet_lat_mean_df = pd.concat(ssp585_son_jet_lat_mean_dict, axis=1)\n",
    "\n",
    "ssp585_djf_jet_lat_trend_df = pd.concat(ssp585_djf_jet_lat_trend_dict, axis=1)\n",
    "ssp585_mam_jet_lat_trend_df = pd.concat(ssp585_mam_jet_lat_trend_dict, axis=1)\n",
    "ssp585_jja_jet_lat_trend_df = pd.concat(ssp585_jja_jet_lat_trend_dict, axis=1)\n",
    "ssp585_son_jet_lat_trend_df = pd.concat(ssp585_son_jet_lat_trend_dict, axis=1)"
   ]
  },
  {
   "cell_type": "code",
   "execution_count": 55,
   "id": "a1c1bd39-9a0a-495a-8235-07f082dfa5d9",
   "metadata": {},
   "outputs": [
    {
     "data": {
      "text/html": [
       "<div>\n",
       "<style scoped>\n",
       "    .dataframe tbody tr th:only-of-type {\n",
       "        vertical-align: middle;\n",
       "    }\n",
       "\n",
       "    .dataframe tbody tr th {\n",
       "        vertical-align: top;\n",
       "    }\n",
       "\n",
       "    .dataframe thead th {\n",
       "        text-align: right;\n",
       "    }\n",
       "</style>\n",
       "<table border=\"1\" class=\"dataframe\">\n",
       "  <thead>\n",
       "    <tr style=\"text-align: right;\">\n",
       "      <th></th>\n",
       "      <th>Woollings et al. 2010</th>\n",
       "      <th>Barnes &amp; Polvani 2013</th>\n",
       "      <th>Barnes &amp; Simpson 2017</th>\n",
       "      <th>Grise &amp; Polvani 2017</th>\n",
       "      <th>Zappa et al. 2018</th>\n",
       "      <th>Kerr et al. 2020</th>\n",
       "    </tr>\n",
       "  </thead>\n",
       "  <tbody>\n",
       "    <tr>\n",
       "      <th>CanESM5_r3i1p1f1</th>\n",
       "      <td>-0.004942</td>\n",
       "      <td>-0.006274</td>\n",
       "      <td>0.011759</td>\n",
       "      <td>0.006236</td>\n",
       "      <td>-0.001753</td>\n",
       "      <td>0.016096</td>\n",
       "    </tr>\n",
       "    <tr>\n",
       "      <th>CMCC-ESM2_r1i1p1f1</th>\n",
       "      <td>0.101355</td>\n",
       "      <td>0.110416</td>\n",
       "      <td>0.119541</td>\n",
       "      <td>0.096225</td>\n",
       "      <td>0.067462</td>\n",
       "      <td>0.078099</td>\n",
       "    </tr>\n",
       "    <tr>\n",
       "      <th>CanESM5_r10i1p2f1</th>\n",
       "      <td>0.082631</td>\n",
       "      <td>0.084627</td>\n",
       "      <td>0.144880</td>\n",
       "      <td>0.038451</td>\n",
       "      <td>0.052307</td>\n",
       "      <td>0.035471</td>\n",
       "    </tr>\n",
       "    <tr>\n",
       "      <th>UKESM1-0-LL_r14i1p1f2</th>\n",
       "      <td>-0.033018</td>\n",
       "      <td>-0.030140</td>\n",
       "      <td>-0.043708</td>\n",
       "      <td>-0.017527</td>\n",
       "      <td>-0.006941</td>\n",
       "      <td>-0.006313</td>\n",
       "    </tr>\n",
       "    <tr>\n",
       "      <th>CanESM5_r5i1p2f1</th>\n",
       "      <td>0.107703</td>\n",
       "      <td>0.096728</td>\n",
       "      <td>0.136140</td>\n",
       "      <td>0.110759</td>\n",
       "      <td>0.086455</td>\n",
       "      <td>0.071234</td>\n",
       "    </tr>\n",
       "  </tbody>\n",
       "</table>\n",
       "</div>"
      ],
      "text/plain": [
       "                       Woollings et al. 2010  Barnes & Polvani 2013  \\\n",
       "CanESM5_r3i1p1f1                   -0.004942              -0.006274   \n",
       "CMCC-ESM2_r1i1p1f1                  0.101355               0.110416   \n",
       "CanESM5_r10i1p2f1                   0.082631               0.084627   \n",
       "UKESM1-0-LL_r14i1p1f2              -0.033018              -0.030140   \n",
       "CanESM5_r5i1p2f1                    0.107703               0.096728   \n",
       "\n",
       "                       Barnes & Simpson 2017  Grise & Polvani 2017  \\\n",
       "CanESM5_r3i1p1f1                    0.011759              0.006236   \n",
       "CMCC-ESM2_r1i1p1f1                  0.119541              0.096225   \n",
       "CanESM5_r10i1p2f1                   0.144880              0.038451   \n",
       "UKESM1-0-LL_r14i1p1f2              -0.043708             -0.017527   \n",
       "CanESM5_r5i1p2f1                    0.136140              0.110759   \n",
       "\n",
       "                       Zappa et al. 2018  Kerr et al. 2020  \n",
       "CanESM5_r3i1p1f1               -0.001753          0.016096  \n",
       "CMCC-ESM2_r1i1p1f1              0.067462          0.078099  \n",
       "CanESM5_r10i1p2f1               0.052307          0.035471  \n",
       "UKESM1-0-LL_r14i1p1f2          -0.006941         -0.006313  \n",
       "CanESM5_r5i1p2f1                0.086455          0.071234  "
      ]
     },
     "execution_count": 55,
     "metadata": {},
     "output_type": "execute_result"
    }
   ],
   "source": [
    "ssp585_djf_jet_lat_trend_df.head()"
   ]
  },
  {
   "cell_type": "markdown",
   "id": "47d0b7bb-46c6-49d7-abaf-d309c1dfa563",
   "metadata": {},
   "source": [
    "### Rename Grise Polvani 2017 to 2014"
   ]
  },
  {
   "cell_type": "code",
   "execution_count": 56,
   "id": "a4156fe7-c8c1-41e3-a83f-3b39591fb48d",
   "metadata": {},
   "outputs": [],
   "source": [
    "hist_djf_jet_lat_mean_df['Grise & Polvani 2014'] = hist_djf_jet_lat_mean_df['Grise & Polvani 2017']\n",
    "hist_djf_jet_lat_mean_df.drop('Grise & Polvani 2017', axis=1, inplace=True)\n",
    "\n",
    "hist_djf_jet_lat_trend_df['Grise & Polvani 2014'] = hist_djf_jet_lat_trend_df['Grise & Polvani 2017']\n",
    "hist_djf_jet_lat_trend_df.drop('Grise & Polvani 2017', axis=1, inplace=True)\n",
    "\n",
    "hist_mam_jet_lat_mean_df['Grise & Polvani 2014'] = hist_mam_jet_lat_mean_df['Grise & Polvani 2017']\n",
    "hist_mam_jet_lat_mean_df.drop('Grise & Polvani 2017', axis=1, inplace=True)\n",
    "\n",
    "hist_mam_jet_lat_trend_df['Grise & Polvani 2014'] = hist_mam_jet_lat_trend_df['Grise & Polvani 2017']\n",
    "hist_mam_jet_lat_trend_df.drop('Grise & Polvani 2017', axis=1, inplace=True)\n",
    "\n",
    "hist_jja_jet_lat_mean_df['Grise & Polvani 2014'] = hist_jja_jet_lat_mean_df['Grise & Polvani 2017']\n",
    "hist_jja_jet_lat_mean_df.drop('Grise & Polvani 2017', axis=1, inplace=True)\n",
    "\n",
    "hist_jja_jet_lat_trend_df['Grise & Polvani 2014'] = hist_jja_jet_lat_trend_df['Grise & Polvani 2017']\n",
    "hist_jja_jet_lat_trend_df.drop('Grise & Polvani 2017', axis=1, inplace=True)\n",
    "\n",
    "hist_son_jet_lat_mean_df['Grise & Polvani 2014'] = hist_son_jet_lat_mean_df['Grise & Polvani 2017']\n",
    "hist_son_jet_lat_mean_df.drop('Grise & Polvani 2017', axis=1, inplace=True)\n",
    "\n",
    "hist_son_jet_lat_trend_df['Grise & Polvani 2014'] = hist_son_jet_lat_trend_df['Grise & Polvani 2017']\n",
    "hist_son_jet_lat_trend_df.drop('Grise & Polvani 2017', axis=1, inplace=True)"
   ]
  },
  {
   "cell_type": "code",
   "execution_count": 57,
   "id": "c878567a-e287-46d8-bce9-53eb0d4fa654",
   "metadata": {},
   "outputs": [],
   "source": [
    "ssp585_djf_jet_lat_mean_df['Grise & Polvani 2014'] = ssp585_djf_jet_lat_mean_df['Grise & Polvani 2017']\n",
    "ssp585_djf_jet_lat_mean_df.drop('Grise & Polvani 2017', axis=1, inplace=True)\n",
    "\n",
    "ssp585_djf_jet_lat_trend_df['Grise & Polvani 2014'] = ssp585_djf_jet_lat_trend_df['Grise & Polvani 2017']\n",
    "ssp585_djf_jet_lat_trend_df.drop('Grise & Polvani 2017', axis=1, inplace=True)\n",
    "\n",
    "ssp585_mam_jet_lat_mean_df['Grise & Polvani 2014'] = ssp585_mam_jet_lat_mean_df['Grise & Polvani 2017']\n",
    "ssp585_mam_jet_lat_mean_df.drop('Grise & Polvani 2017', axis=1, inplace=True)\n",
    "\n",
    "ssp585_mam_jet_lat_trend_df['Grise & Polvani 2014'] = ssp585_mam_jet_lat_trend_df['Grise & Polvani 2017']\n",
    "ssp585_mam_jet_lat_trend_df.drop('Grise & Polvani 2017', axis=1, inplace=True)\n",
    "\n",
    "ssp585_jja_jet_lat_mean_df['Grise & Polvani 2014'] = ssp585_jja_jet_lat_mean_df['Grise & Polvani 2017']\n",
    "ssp585_jja_jet_lat_mean_df.drop('Grise & Polvani 2017', axis=1, inplace=True)\n",
    "\n",
    "ssp585_jja_jet_lat_trend_df['Grise & Polvani 2014'] = ssp585_jja_jet_lat_trend_df['Grise & Polvani 2017']\n",
    "ssp585_jja_jet_lat_trend_df.drop('Grise & Polvani 2017', axis=1, inplace=True)\n",
    "\n",
    "ssp585_son_jet_lat_mean_df['Grise & Polvani 2014'] = ssp585_son_jet_lat_mean_df['Grise & Polvani 2017']\n",
    "ssp585_son_jet_lat_mean_df.drop('Grise & Polvani 2017', axis=1, inplace=True)\n",
    "\n",
    "ssp585_son_jet_lat_trend_df['Grise & Polvani 2014'] = ssp585_son_jet_lat_trend_df['Grise & Polvani 2017']\n",
    "ssp585_son_jet_lat_trend_df.drop('Grise & Polvani 2017', axis=1, inplace=True)\n"
   ]
  },
  {
   "cell_type": "markdown",
   "id": "ae4859cb-d275-4f08-8635-6d38743274d3",
   "metadata": {},
   "source": [
    "# Calculate Mann Whitney U shift"
   ]
  },
  {
   "cell_type": "code",
   "execution_count": 58,
   "id": "0a2f5d2b-3f9a-45b3-aad0-ebc9b93dafd0",
   "metadata": {
    "scrolled": true
   },
   "outputs": [],
   "source": [
    "model_names_for_mwu_shift = set(hist_djf_jet_lat_mean_df.index).intersection(set(ssp585_djf_jet_lat_mean_df.index))"
   ]
  },
  {
   "cell_type": "code",
   "execution_count": 59,
   "id": "09cff9e1-6090-41b6-90f9-7ade9ab0472e",
   "metadata": {},
   "outputs": [],
   "source": [
    "# workaround due to \n",
    "metric_names = [\"Woollings et al. 2010\", \"Barnes & Polvani 2013\", \"Barnes & Simpson 2017\",\\\n",
    "                \"Grise & Polvani 2017\", \"Zappa et al. 2018\", \"Kerr et al. 2020\"]"
   ]
  },
  {
   "cell_type": "code",
   "execution_count": 60,
   "id": "d2fa0311-f609-48b5-a065-88fe80a449df",
   "metadata": {},
   "outputs": [
    {
     "data": {
      "text/plain": [
       "<Axes: xlabel='HadGEM3-GC31-MM_r3i1p1f3', ylabel='Density'>"
      ]
     },
     "execution_count": 60,
     "metadata": {},
     "output_type": "execute_result"
    },
    {
     "data": {
      "image/png": "[encoded data removed]",
      "text/plain": [
       "<Figure size 640x480 with 1 Axes>"
      ]
     },
     "metadata": {},
     "output_type": "display_data"
    }
   ],
   "source": [
    "cmip_model_to_look_at = 'HadGEM3-GC31-MM_r3i1p1f3'# 'CNRM-ESM2-1_r4i1p1f2'#' 'MPI-ESM1-2-LR_r1i1p1f1'\n",
    "sns.kdeplot(all_df_npac_hist_dataset['Woollings et al. 2010'][cmip_model_to_look_at][all_df_npac_hist_dataset['Woollings et al. 2010'][cmip_model_to_look_at].index.month.isin([12, 1, 2])])\n",
    "sns.kdeplot(all_df_npac_future_dataset['Woollings et al. 2010'][cmip_model_to_look_at][all_df_npac_future_dataset['Woollings et al. 2010'][cmip_model_to_look_at].index.month.isin([12, 1, 2])])"
   ]
  },
  {
   "cell_type": "code",
   "execution_count": 61,
   "id": "5fbccb45-a9f2-4495-bdf4-bd19a1b9dcf8",
   "metadata": {},
   "outputs": [
    {
     "name": "stdout",
     "output_type": "stream",
     "text": [
      "CPU times: user 11.4 s, sys: 0 ns, total: 11.4 s\n",
      "Wall time: 11.4 s\n"
     ]
    }
   ],
   "source": [
    "%%time\n",
    "# Takes 7 seconds\n",
    "cmip6_djf_jet_lat_shift_sig = {}\n",
    "cmip6_mam_jet_lat_shift_sig = {}\n",
    "cmip6_jja_jet_lat_shift_sig = {}\n",
    "cmip6_son_jet_lat_shift_sig = {}\n",
    "for metric in metric_names:\n",
    "    model_mannwhitney_pvals_djf = {}\n",
    "    model_mannwhitney_pvals_mam = {}\n",
    "    model_mannwhitney_pvals_jja = {}\n",
    "    model_mannwhitney_pvals_son = {}\n",
    "    for model_name in model_names_for_mwu_shift:\n",
    "        mannwhit_djf = scipy.stats.mannwhitneyu(all_df_npac_hist_dataset[metric][model_name][all_df_npac_hist_dataset[metric][model_name].index.month.isin([12, 1, 2])].dropna(), all_df_npac_future_dataset[metric][model_name][all_df_npac_future_dataset[metric][model_name].index.month.isin([12, 1, 2])].dropna()).pvalue\n",
    "        mannwhit_mam = scipy.stats.mannwhitneyu(all_df_npac_hist_dataset[metric][model_name][all_df_npac_hist_dataset[metric][model_name].index.month.isin([3, 4, 5])].dropna(), all_df_npac_future_dataset[metric][model_name][all_df_npac_future_dataset[metric][model_name].index.month.isin([3, 4, 5])].dropna()).pvalue\n",
    "        mannwhit_jja = scipy.stats.mannwhitneyu(all_df_npac_hist_dataset[metric][model_name][all_df_npac_hist_dataset[metric][model_name].index.month.isin([6, 7, 8])].dropna(), all_df_npac_future_dataset[metric][model_name][all_df_npac_future_dataset[metric][model_name].index.month.isin([6, 7, 8])].dropna()).pvalue\n",
    "        mannwhit_son = scipy.stats.mannwhitneyu(all_df_npac_hist_dataset[metric][model_name][all_df_npac_hist_dataset[metric][model_name].index.month.isin([9, 10, 11])].dropna(), all_df_npac_future_dataset[metric][model_name][all_df_npac_future_dataset[metric][model_name].index.month.isin([9, 10, 11])].dropna()).pvalue\n",
    "        model_mannwhitney_pvals_djf[model_name] = mannwhit_djf\n",
    "        model_mannwhitney_pvals_mam[model_name] = mannwhit_mam\n",
    "        model_mannwhitney_pvals_jja[model_name] = mannwhit_jja\n",
    "        model_mannwhitney_pvals_son[model_name] = mannwhit_son\n",
    "    cmip6_djf_jet_lat_shift_sig[metric] = pd.Series(model_mannwhitney_pvals_djf)\n",
    "    cmip6_mam_jet_lat_shift_sig[metric] = pd.Series(model_mannwhitney_pvals_mam)\n",
    "    cmip6_jja_jet_lat_shift_sig[metric] = pd.Series(model_mannwhitney_pvals_jja)\n",
    "    cmip6_son_jet_lat_shift_sig[metric] = pd.Series(model_mannwhitney_pvals_son)"
   ]
  },
  {
   "cell_type": "code",
   "execution_count": 62,
   "id": "6bb66a43-0390-4795-a7af-cb1da32c8d5f",
   "metadata": {},
   "outputs": [],
   "source": [
    "cmip6_djf_jet_lat_shift_sig_df = pd.concat(cmip6_djf_jet_lat_shift_sig, axis=1)\n",
    "cmip6_mam_jet_lat_shift_sig_df = pd.concat(cmip6_mam_jet_lat_shift_sig, axis=1)\n",
    "cmip6_jja_jet_lat_shift_sig_df = pd.concat(cmip6_jja_jet_lat_shift_sig, axis=1)\n",
    "cmip6_son_jet_lat_shift_sig_df = pd.concat(cmip6_son_jet_lat_shift_sig, axis=1)"
   ]
  },
  {
   "cell_type": "code",
   "execution_count": 63,
   "id": "df0ca4b3-89fb-4ae5-a99f-a4c048cfa5a0",
   "metadata": {},
   "outputs": [
    {
     "data": {
      "text/plain": [
       "Woollings et al. 2010    68\n",
       "Barnes & Polvani 2013    68\n",
       "Barnes & Simpson 2017    50\n",
       "Grise & Polvani 2017     64\n",
       "Zappa et al. 2018        68\n",
       "Kerr et al. 2020         63\n",
       "dtype: int64"
      ]
     },
     "execution_count": 63,
     "metadata": {},
     "output_type": "execute_result"
    }
   ],
   "source": [
    "(cmip6_djf_jet_lat_shift_sig_df < 0.05).sum() # out of 75"
   ]
  },
  {
   "cell_type": "code",
   "execution_count": 64,
   "id": "15159527-2ec2-4ea0-91d6-fd28ab62bb0b",
   "metadata": {},
   "outputs": [
    {
     "data": {
      "text/plain": [
       "Woollings et al. 2010    69\n",
       "Barnes & Polvani 2013    69\n",
       "Barnes & Simpson 2017    64\n",
       "Grise & Polvani 2017     70\n",
       "Zappa et al. 2018        70\n",
       "Kerr et al. 2020         64\n",
       "dtype: int64"
      ]
     },
     "execution_count": 64,
     "metadata": {},
     "output_type": "execute_result"
    }
   ],
   "source": [
    "(cmip6_son_jet_lat_shift_sig_df < 0.05).sum() # out of 75"
   ]
  },
  {
   "cell_type": "markdown",
   "id": "d1cb1c61-25e8-4dc5-893e-acdf4a9e5463",
   "metadata": {},
   "source": [
    "# Combine data"
   ]
  },
  {
   "cell_type": "markdown",
   "id": "dde1f46e-bbd2-4d6a-8736-b42e42fb1f86",
   "metadata": {},
   "source": [
    "#### sort cols"
   ]
  },
  {
   "cell_type": "code",
   "execution_count": 65,
   "id": "f9cc0db0-f670-43bc-88a2-6f16861200dc",
   "metadata": {},
   "outputs": [],
   "source": [
    "hist_djf_jet_lat_mean_df = hist_djf_jet_lat_mean_df[sorted(hist_djf_jet_lat_mean_df.columns, key=lambda col: col[-4:])]\n",
    "hist_mam_jet_lat_mean_df = hist_mam_jet_lat_mean_df[sorted(hist_mam_jet_lat_mean_df.columns, key=lambda col: col[-4:])]\n",
    "hist_jja_jet_lat_mean_df = hist_jja_jet_lat_mean_df[sorted(hist_jja_jet_lat_mean_df.columns, key=lambda col: col[-4:])]\n",
    "hist_son_jet_lat_mean_df = hist_son_jet_lat_mean_df[sorted(hist_son_jet_lat_mean_df.columns, key=lambda col: col[-4:])]\n",
    "\n",
    "hist_djf_jet_lat_trend_df = hist_djf_jet_lat_trend_df[sorted(hist_djf_jet_lat_trend_df.columns, key=lambda col: col[-4:])]\n",
    "hist_mam_jet_lat_trend_df = hist_mam_jet_lat_trend_df[sorted(hist_mam_jet_lat_trend_df.columns, key=lambda col: col[-4:])]\n",
    "hist_jja_jet_lat_trend_df = hist_jja_jet_lat_trend_df[sorted(hist_jja_jet_lat_trend_df.columns, key=lambda col: col[-4:])]\n",
    "hist_son_jet_lat_trend_df = hist_son_jet_lat_trend_df[sorted(hist_son_jet_lat_trend_df.columns, key=lambda col: col[-4:])]\n",
    "\n",
    "ssp585_djf_jet_lat_mean_df = ssp585_djf_jet_lat_mean_df[sorted(ssp585_djf_jet_lat_mean_df.columns, key=lambda col: col[-4:])]\n",
    "ssp585_mam_jet_lat_mean_df = ssp585_mam_jet_lat_mean_df[sorted(ssp585_mam_jet_lat_mean_df.columns, key=lambda col: col[-4:])]\n",
    "ssp585_jja_jet_lat_mean_df = ssp585_jja_jet_lat_mean_df[sorted(ssp585_jja_jet_lat_mean_df.columns, key=lambda col: col[-4:])]\n",
    "ssp585_son_jet_lat_mean_df = ssp585_son_jet_lat_mean_df[sorted(ssp585_son_jet_lat_mean_df.columns, key=lambda col: col[-4:])]\n",
    "\n",
    "ssp585_djf_jet_lat_trend_df = ssp585_djf_jet_lat_trend_df[sorted(ssp585_djf_jet_lat_trend_df.columns, key=lambda col: col[-4:])]\n",
    "ssp585_mam_jet_lat_trend_df = ssp585_mam_jet_lat_trend_df[sorted(ssp585_mam_jet_lat_trend_df.columns, key=lambda col: col[-4:])]\n",
    "ssp585_jja_jet_lat_trend_df = ssp585_jja_jet_lat_trend_df[sorted(ssp585_jja_jet_lat_trend_df.columns, key=lambda col: col[-4:])]\n",
    "ssp585_son_jet_lat_trend_df = ssp585_son_jet_lat_trend_df[sorted(ssp585_son_jet_lat_trend_df.columns, key=lambda col: col[-4:])]\n"
   ]
  },
  {
   "cell_type": "code",
   "execution_count": 66,
   "id": "513450f9-b7c3-4bf4-80e9-e80fa16b0a16",
   "metadata": {},
   "outputs": [],
   "source": [
    "all_seasons_rean_jet_lat_mean_and_trend_df = all_seasons_rean_jet_lat_mean_and_trend_df.loc[~(all_seasons_rean_jet_lat_mean_and_trend_df.Metric == \"Bracegirdle et al. 2018\")]"
   ]
  },
  {
   "cell_type": "code",
   "execution_count": 67,
   "id": "13a8461f-4cb2-4702-a66b-edc04f3bd96e",
   "metadata": {},
   "outputs": [],
   "source": [
    "djf_all_rean_mean = all_seasons_rean_jet_lat_mean_and_trend_df.pivot(index='Dataset', columns='Metric', values='DJF mean')\n",
    "djf_all_rean_trend = all_seasons_rean_jet_lat_mean_and_trend_df.pivot(index='Dataset', columns='Metric', values='DJF Trend_decade')\n",
    "\n",
    "# mam_all_rean_mean = all_seasons_rean_jet_lat_mean_and_trend_df.pivot(index='Dataset', columns='Metric', values='MAM mean')\n",
    "# mam_all_rean_trend = all_seasons_rean_jet_lat_mean_and_trend_df.pivot(index='Dataset', columns='Metric', values='MAM Trend_decade')\n",
    "\n",
    "# jja_all_rean_mean = all_seasons_rean_jet_lat_mean_and_trend_df.pivot(index='Dataset', columns='Metric', values='JJA mean')\n",
    "# jja_all_rean_trend = all_seasons_rean_jet_lat_mean_and_trend_df.pivot(index='Dataset', columns='Metric', values='JJA Trend_decade')\n",
    "\n",
    "son_all_rean_mean = all_seasons_rean_jet_lat_mean_and_trend_df.pivot(index='Dataset', columns='Metric', values='SON mean')\n",
    "son_all_rean_trend = all_seasons_rean_jet_lat_mean_and_trend_df.pivot(index='Dataset', columns='Metric', values='SON Trend_decade')"
   ]
  },
  {
   "cell_type": "code",
   "execution_count": 68,
   "id": "e73c8326-73ab-493a-b50c-1a4b9e630ca3",
   "metadata": {},
   "outputs": [
    {
     "data": {
      "text/html": [
       "<div>\n",
       "<style scoped>\n",
       "    .dataframe tbody tr th:only-of-type {\n",
       "        vertical-align: middle;\n",
       "    }\n",
       "\n",
       "    .dataframe tbody tr th {\n",
       "        vertical-align: top;\n",
       "    }\n",
       "\n",
       "    .dataframe thead th {\n",
       "        text-align: right;\n",
       "    }\n",
       "</style>\n",
       "<table border=\"1\" class=\"dataframe\">\n",
       "  <thead>\n",
       "    <tr style=\"text-align: right;\">\n",
       "      <th>Metric</th>\n",
       "      <th>Barnes &amp; Polvani 2013</th>\n",
       "      <th>Barnes &amp; Simpson 2017</th>\n",
       "      <th>Grise &amp; Polvani 2014</th>\n",
       "      <th>Kerr et al. 2020</th>\n",
       "      <th>Woollings et al. 2010</th>\n",
       "      <th>Zappa et al. 2018</th>\n",
       "    </tr>\n",
       "    <tr>\n",
       "      <th>Dataset</th>\n",
       "      <th></th>\n",
       "      <th></th>\n",
       "      <th></th>\n",
       "      <th></th>\n",
       "      <th></th>\n",
       "      <th></th>\n",
       "    </tr>\n",
       "  </thead>\n",
       "  <tbody>\n",
       "    <tr>\n",
       "      <th>ERA-5</th>\n",
       "      <td>38.548350</td>\n",
       "      <td>37.569737</td>\n",
       "      <td>39.275320</td>\n",
       "      <td>40.890976</td>\n",
       "      <td>38.416556</td>\n",
       "      <td>38.155137</td>\n",
       "    </tr>\n",
       "    <tr>\n",
       "      <th>JRA-55</th>\n",
       "      <td>38.483448</td>\n",
       "      <td>37.378289</td>\n",
       "      <td>39.184255</td>\n",
       "      <td>40.868328</td>\n",
       "      <td>38.411569</td>\n",
       "      <td>38.294532</td>\n",
       "    </tr>\n",
       "    <tr>\n",
       "      <th>MERRA-2</th>\n",
       "      <td>38.545687</td>\n",
       "      <td>37.627632</td>\n",
       "      <td>39.341559</td>\n",
       "      <td>41.368274</td>\n",
       "      <td>38.401064</td>\n",
       "      <td>38.332956</td>\n",
       "    </tr>\n",
       "    <tr>\n",
       "      <th>NCEP/DOE II</th>\n",
       "      <td>38.356249</td>\n",
       "      <td>37.348684</td>\n",
       "      <td>38.901179</td>\n",
       "      <td>40.398150</td>\n",
       "      <td>38.296543</td>\n",
       "      <td>38.201884</td>\n",
       "    </tr>\n",
       "  </tbody>\n",
       "</table>\n",
       "</div>"
      ],
      "text/plain": [
       "Metric       Barnes & Polvani 2013  Barnes & Simpson 2017  \\\n",
       "Dataset                                                     \n",
       "ERA-5                    38.548350              37.569737   \n",
       "JRA-55                   38.483448              37.378289   \n",
       "MERRA-2                  38.545687              37.627632   \n",
       "NCEP/DOE II              38.356249              37.348684   \n",
       "\n",
       "Metric       Grise & Polvani 2014  Kerr et al. 2020  Woollings et al. 2010  \\\n",
       "Dataset                                                                      \n",
       "ERA-5                   39.275320         40.890976              38.416556   \n",
       "JRA-55                  39.184255         40.868328              38.411569   \n",
       "MERRA-2                 39.341559         41.368274              38.401064   \n",
       "NCEP/DOE II             38.901179         40.398150              38.296543   \n",
       "\n",
       "Metric       Zappa et al. 2018  \n",
       "Dataset                         \n",
       "ERA-5                38.155137  \n",
       "JRA-55               38.294532  \n",
       "MERRA-2              38.332956  \n",
       "NCEP/DOE II          38.201884  "
      ]
     },
     "execution_count": 68,
     "metadata": {},
     "output_type": "execute_result"
    }
   ],
   "source": [
    "djf_all_rean_mean"
   ]
  },
  {
   "cell_type": "code",
   "execution_count": 69,
   "id": "9f991c0f-c58a-4f65-a62b-35570f5d3853",
   "metadata": {},
   "outputs": [],
   "source": [
    "djf_all_rean_mean = djf_all_rean_mean[sorted(djf_all_rean_mean.columns, key=lambda x: x[-4:])]\n",
    "djf_all_rean_trend = djf_all_rean_trend[sorted(djf_all_rean_trend.columns, key=lambda x: x[-4:])]\n",
    "\n",
    "# mam_all_rean_mean = mam_all_rean_mean[sorted(mam_all_rean_mean.columns, key=lambda x: x[-4:])]\n",
    "# mam_all_rean_trend = mam_all_rean_trend[sorted(mam_all_rean_trend.columns, key=lambda x: x[-4:])]\n",
    "\n",
    "# jja_all_rean_mean = jja_all_rean_mean[sorted(jja_all_rean_mean.columns, key=lambda x: x[-4:])]\n",
    "# jja_all_rean_trend = jja_all_rean_trend[sorted(jja_all_rean_trend.columns, key=lambda x: x[-4:])]\n",
    "\n",
    "son_all_rean_mean = son_all_rean_mean[sorted(son_all_rean_mean.columns, key=lambda x: x[-4:])]\n",
    "son_all_rean_trend = son_all_rean_trend[sorted(son_all_rean_trend.columns, key=lambda x: x[-4:])]"
   ]
  },
  {
   "cell_type": "markdown",
   "id": "d4ed7f02-9f86-4e6b-ad7c-d8602f1771ed",
   "metadata": {},
   "source": [
    "#### sort index by minimum difference from reanalysis mean across all metrics"
   ]
  },
  {
   "cell_type": "code",
   "execution_count": 70,
   "id": "240df91e-8da6-46c9-934f-1c520199d9d4",
   "metadata": {},
   "outputs": [],
   "source": [
    "sorted_index_by_minimum_error_from_reanalysis_mean_djf = abs(hist_djf_jet_lat_mean_df -  djf_all_rean_mean.mean())\\\n",
    "                                                    .sum(axis=1).sort_values().index\n",
    "sorted_index_by_minimum_error_from_reanalysis_trends_djf = abs(hist_djf_jet_lat_trend_df -  djf_all_rean_trend.mean())\\\n",
    "                                                    .sum(axis=1).sort_values().index\n",
    "\n",
    "# sorted_index_by_minimum_error_from_reanalysis_mean_mam = abs(hist_mam_jet_lat_mean_df -  mam_all_rean_mean.mean())\\\n",
    "#                                                     .sum(axis=1).sort_values().index\n",
    "# sorted_index_by_minimum_error_from_reanalysis_trends_mam = abs(hist_mam_jet_lat_trend_df -  mam_all_rean_trend.mean())\\\n",
    "#                                                     .sum(axis=1).sort_values().index\n",
    "\n",
    "# sorted_index_by_minimum_error_from_reanalysis_mean_jja = abs(hist_jja_jet_lat_mean_df -  jja_all_rean_mean.mean())\\\n",
    "#                                                     .sum(axis=1).sort_values().index\n",
    "# sorted_index_by_minimum_error_from_reanalysis_trends_jja = abs(hist_jja_jet_lat_trend_df -  jja_all_rean_trend.mean())\\\n",
    "#                                                     .sum(axis=1).sort_values().index\n",
    "\n",
    "sorted_index_by_minimum_error_from_reanalysis_mean_son = abs(hist_son_jet_lat_mean_df -  son_all_rean_mean.mean())\\\n",
    "                                                    .sum(axis=1).sort_values().index\n",
    "sorted_index_by_minimum_error_from_reanalysis_trends_son = abs(hist_son_jet_lat_trend_df -  son_all_rean_trend.mean())\\\n",
    "                                                    .sum(axis=1).sort_values().index"
   ]
  },
  {
   "cell_type": "code",
   "execution_count": 71,
   "id": "b1842664-aa9f-4820-a359-ada4a8415152",
   "metadata": {},
   "outputs": [],
   "source": [
    "hist_djf_jet_lat_mean_df = hist_djf_jet_lat_mean_df.loc[sorted_index_by_minimum_error_from_reanalysis_mean_djf]\n",
    "hist_djf_jet_lat_trend_df = hist_djf_jet_lat_trend_df.loc[sorted_index_by_minimum_error_from_reanalysis_trends_djf]\n",
    "\n",
    "# hist_mam_jet_lat_mean_df = hist_mam_jet_lat_mean_df.loc[sorted_index_by_minimum_error_from_reanalysis_mean_mam]\n",
    "# hist_mam_jet_lat_trend_df = hist_mam_jet_lat_trend_df.loc[sorted_index_by_minimum_error_from_reanalysis_trends_mam]\n",
    "\n",
    "# hist_jja_jet_lat_mean_df = hist_jja_jet_lat_mean_df.loc[sorted_index_by_minimum_error_from_reanalysis_mean_jja]\n",
    "# hist_jja_jet_lat_trend_df = hist_jja_jet_lat_trend_df.loc[sorted_index_by_minimum_error_from_reanalysis_trends_jja]\n",
    "\n",
    "hist_son_jet_lat_mean_df = hist_son_jet_lat_mean_df.loc[sorted_index_by_minimum_error_from_reanalysis_mean_son]\n",
    "hist_son_jet_lat_trend_df = hist_son_jet_lat_trend_df.loc[sorted_index_by_minimum_error_from_reanalysis_trends_son]"
   ]
  },
  {
   "cell_type": "markdown",
   "id": "aac47a41-a5e3-4c9a-aaa5-90494abb3058",
   "metadata": {},
   "source": [
    "#### join to reanalysis"
   ]
  },
  {
   "cell_type": "code",
   "execution_count": 72,
   "id": "bf6ba98b-756e-42b5-9252-d5c7a7bcdccd",
   "metadata": {},
   "outputs": [],
   "source": [
    "djf_hist_and_rean_mean = pd.concat([djf_all_rean_mean, hist_djf_jet_lat_mean_df])\n",
    "djf_hist_and_rean_trend = pd.concat([djf_all_rean_trend, hist_djf_jet_lat_trend_df])\n",
    "\n",
    "# mam_hist_and_rean_mean = pd.concat([mam_all_rean_mean, hist_mam_jet_lat_mean_df])\n",
    "# mam_hist_and_rean_trend = pd.concat([mam_all_rean_trend, hist_mam_jet_lat_trend_df])\n",
    "\n",
    "# jja_hist_and_rean_mean = pd.concat([jja_all_rean_mean, hist_jja_jet_lat_mean_df])\n",
    "# jja_hist_and_rean_trend = pd.concat([jja_all_rean_trend, hist_jja_jet_lat_trend_df])\n",
    "\n",
    "son_hist_and_rean_mean = pd.concat([son_all_rean_mean, hist_son_jet_lat_mean_df])\n",
    "son_hist_and_rean_trend = pd.concat([son_all_rean_trend, hist_son_jet_lat_trend_df])\n"
   ]
  },
  {
   "cell_type": "markdown",
   "id": "ab77d05d-86c9-4ce7-9443-8d7594591819",
   "metadata": {},
   "source": [
    "### join to ssp585"
   ]
  },
  {
   "cell_type": "code",
   "execution_count": 73,
   "id": "5f1cb977-d67c-4e8b-89d0-3d819c25424c",
   "metadata": {},
   "outputs": [],
   "source": [
    "djf_hist_rean_and_future_mean = pd.concat([djf_hist_and_rean_mean, ssp585_djf_jet_lat_mean_df], axis=1)\n",
    "djf_hist_rean_and_future_trend = pd.concat([djf_hist_and_rean_trend, ssp585_djf_jet_lat_trend_df], axis=1)\n",
    "\n",
    "# mam_hist_rean_and_future_mean = pd.concat([mam_hist_and_rean_mean, ssp585_mam_jet_lat_mean_df], axis=1)\n",
    "# mam_hist_rean_and_future_trend = pd.concat([mam_hist_and_rean_trend, ssp585_mam_jet_lat_trend_df], axis=1)\n",
    "\n",
    "# jja_hist_rean_and_future_mean = pd.concat([jja_hist_and_rean_mean, ssp585_jja_jet_lat_mean_df], axis=1)\n",
    "# jja_hist_rean_and_future_trend = pd.concat([jja_hist_and_rean_trend, ssp585_jja_jet_lat_trend_df], axis=1)\n",
    "\n",
    "son_hist_rean_and_future_mean = pd.concat([son_hist_and_rean_mean, ssp585_son_jet_lat_mean_df], axis=1)\n",
    "son_hist_rean_and_future_trend = pd.concat([son_hist_and_rean_trend, ssp585_son_jet_lat_trend_df], axis=1)"
   ]
  },
  {
   "cell_type": "code",
   "execution_count": 74,
   "id": "e0474f7d-85f2-4453-bf49-79790805ce93",
   "metadata": {},
   "outputs": [
    {
     "data": {
      "text/plain": [
       "Index(['ERA-5', 'JRA-55', 'MERRA-2', 'NCEP/DOE II', 'TaiESM1_r1i1p1f1',\n",
       "       'CanESM5_r9i1p1f1', 'NorESM2-LM_r1i1p1f1', 'HadGEM3-GC31-LL_r5i1p1f3',\n",
       "       'CESM2_r7i1p1f1', 'CESM2-WACCM_r2i1p1f1',\n",
       "       ...\n",
       "       'MRI-ESM2-0_r3i1p1f1', 'MRI-ESM2-0_r1i1p1f1', 'MIROC-ES2L_r3i1p1f2',\n",
       "       'GISS-E2-1-G_r1i1p1f2', 'MIROC-ES2L_r6i1p1f2', 'MIROC-ES2L_r5i1p1f2',\n",
       "       'MIROC-ES2L_r8i1p1f2', 'MIROC-ES2L_r1i1p1f2', 'MIROC-ES2L_r2i1p1f2',\n",
       "       'INM-CM4-8_r1i1p1f1'],\n",
       "      dtype='object', length=168)"
      ]
     },
     "execution_count": 74,
     "metadata": {},
     "output_type": "execute_result"
    }
   ],
   "source": [
    "djf_hist_and_rean_mean.index"
   ]
  },
  {
   "cell_type": "code",
   "execution_count": 75,
   "id": "5ed732dd-5e74-4063-ae04-57900a724590",
   "metadata": {},
   "outputs": [
    {
     "data": {
      "text/plain": [
       "<Axes: >"
      ]
     },
     "execution_count": 75,
     "metadata": {},
     "output_type": "execute_result"
    },
    {
     "data": {
      "image/png": "[encoded data removed]",
      "text/plain": [
       "<Figure size 640x480 with 2 Axes>"
      ]
     },
     "metadata": {},
     "output_type": "display_data"
    }
   ],
   "source": [
    "sns.heatmap(djf_hist_rean_and_future_trend)"
   ]
  },
  {
   "cell_type": "markdown",
   "id": "c3e3096b-b1d0-43e2-88fd-5ee159c2e407",
   "metadata": {
    "tags": []
   },
   "source": [
    "## CMIP6 Future Difference instead of absolute "
   ]
  },
  {
   "cell_type": "code",
   "execution_count": 76,
   "id": "41dec4d0-a035-49ff-b154-2c1aed3dd2d0",
   "metadata": {},
   "outputs": [],
   "source": [
    "for metric in METRIC_NAMES:\n",
    "    if metric == \"Bracegirdle et al. 2018\":\n",
    "        continue\n",
    "    if metric == \"Woollings et al. 2010\":\n",
    "        ## i.e. if first value init the overall dataframe\n",
    "        metric_future_mean_diff_djf = pd.DataFrame(djf_hist_rean_and_future_mean[metric].diff(axis=1).values[::,1],\\\n",
    "                                          djf_hist_rean_and_future_mean[metric].index, columns=[metric+\"_diff\"])\n",
    "        \n",
    "        metric_future_trend_diff_djf = pd.DataFrame(djf_hist_rean_and_future_trend[metric].diff(axis=1).values[::,1],\\\n",
    "                                          djf_hist_rean_and_future_trend[metric].index, columns=[metric+\"_diff\"])\n",
    "        \n",
    "#         metric_future_mean_diff_mam = pd.DataFrame(mam_hist_rean_and_future_mean[metric].diff(axis=1).values[::,1],\\\n",
    "#                                           mam_hist_rean_and_future_mean[metric].index, columns=[metric+\"_diff\"])\n",
    "        \n",
    "#         metric_future_mean_diff_jja = pd.DataFrame(jja_hist_rean_and_future_mean[metric].diff(axis=1).values[::,1],\\\n",
    "                                          # jja_hist_rean_and_future_mean[metric].index, columns=[metric+\"_diff\"])\n",
    "        \n",
    "        metric_future_mean_diff_son = pd.DataFrame(son_hist_rean_and_future_mean[metric].diff(axis=1).values[::,1],\\\n",
    "                                          son_hist_rean_and_future_mean[metric].index, columns=[metric+\"_diff\"])\n",
    "        \n",
    "        continue\n",
    "    current_data_mean_djf = pd.DataFrame(djf_hist_rean_and_future_mean[metric].diff(axis=1).values[::,1],\\\n",
    "                                          djf_hist_rean_and_future_mean[metric].index, columns=[metric+\"_diff\"])\n",
    "    \n",
    "    current_data_trends_djf = pd.DataFrame(djf_hist_rean_and_future_trend[metric].diff(axis=1).values[::,1],\\\n",
    "                                          djf_hist_rean_and_future_trend[metric].index, columns=[metric+\"_diff\"])\n",
    "    \n",
    "    metric_future_mean_diff_djf = pd.concat([metric_future_mean_diff_djf, current_data_mean_djf], axis=1)\n",
    "    metric_future_trend_diff_djf = pd.concat([metric_future_trend_diff_djf, current_data_trends_djf], axis=1)\n",
    "    \n",
    "#     current_data_mean_mam = pd.DataFrame(mam_hist_rean_and_future_mean[metric].diff(axis=1).values[::,1],\\\n",
    "#                                           mam_hist_rean_and_future_mean[metric].index, columns=[metric+\"_diff\"])\n",
    "#     metric_future_mean_diff_mam = pd.concat([metric_future_mean_diff_mam, current_data_mean_mam], axis=1)\n",
    "\n",
    "#     current_data_mean_jja = pd.DataFrame(jja_hist_rean_and_future_mean[metric].diff(axis=1).values[::,1],\\\n",
    "#                                           jja_hist_rean_and_future_mean[metric].index, columns=[metric+\"_diff\"])\n",
    "#     metric_future_mean_diff_jja = pd.concat([metric_future_mean_diff_jja, current_data_mean_jja], axis=1)\n",
    "\n",
    "    \n",
    "    current_data_mean_son = pd.DataFrame(son_hist_rean_and_future_mean[metric].diff(axis=1).values[::,1],\\\n",
    "                                          son_hist_rean_and_future_mean[metric].index, columns=[metric+\"_diff\"])\n",
    "    metric_future_mean_diff_son = pd.concat([metric_future_mean_diff_son, current_data_mean_son], axis=1)\n"
   ]
  },
  {
   "cell_type": "code",
   "execution_count": 77,
   "id": "e63d4837-ad4b-4853-b99a-f856199c4f14",
   "metadata": {},
   "outputs": [],
   "source": [
    "mean_diff_data_djf = metric_future_mean_diff_djf.dropna(how='all')\n",
    "# mean_diff_data_mam = metric_future_mean_diff_mam.dropna(how='all')\n",
    "# mean_diff_data_jja = metric_future_mean_diff_jja.dropna(how='all')\n",
    "mean_diff_data_son = metric_future_mean_diff_son.dropna(how='all')"
   ]
  },
  {
   "cell_type": "code",
   "execution_count": 78,
   "id": "b5ebecd4-10b8-47f3-b18d-1a833197f2f5",
   "metadata": {},
   "outputs": [
    {
     "data": {
      "text/plain": [
       "<Axes: >"
      ]
     },
     "execution_count": 78,
     "metadata": {},
     "output_type": "execute_result"
    },
    {
     "data": {
      "image/png": "[encoded data removed]",
      "text/plain": [
       "<Figure size 640x480 with 2 Axes>"
      ]
     },
     "metadata": {},
     "output_type": "display_data"
    }
   ],
   "source": [
    "sns.heatmap(mean_diff_data_djf, center=0, cmap='RdBu_r')"
   ]
  },
  {
   "cell_type": "code",
   "execution_count": 79,
   "id": "f82e0752-4b03-44b0-b0f7-1f8837eb10b0",
   "metadata": {},
   "outputs": [],
   "source": [
    "# djf_hist_rean_and_future_mean.to_csv('outputs/djf_hist_rean_future_mean.csv')\n",
    "# djf_hist_rean_and_future_trend.to_csv('outputs/djf_hist_rean_future_trend.csv')\n",
    "\n",
    "# mam_hist_rean_and_future_mean.to_csv('outputs/mam_hist_rean_future_mean.csv')\n",
    "# mam_hist_rean_and_future_trend.to_csv('outputs/mam_hist_rean_future_trend.csv')\n",
    "\n",
    "# jja_hist_rean_and_future_mean.to_csv('outputs/jja_hist_rean_future_mean.csv')\n",
    "# jja_hist_rean_and_future_trend.to_csv('outputs/jja_hist_rean_future_trend.csv')\n",
    "\n",
    "# son_hist_rean_and_future_mean.to_csv('outputs/son_hist_rean_future_mean.csv')\n",
    "# son_hist_rean_and_future_trend.to_csv('outputs/son_hist_rean_future_trend.csv')"
   ]
  },
  {
   "cell_type": "code",
   "execution_count": 80,
   "id": "e995405a-26d6-4d55-a53b-1be17ac31914",
   "metadata": {},
   "outputs": [],
   "source": [
    "# pd.read_csv('outputs/djf_hist_rean_future_mean.csv')"
   ]
  },
  {
   "cell_type": "markdown",
   "id": "bcc9f745-60e5-4084-9e4f-3685bf487c5b",
   "metadata": {},
   "source": [
    "# Make Figure 4"
   ]
  },
  {
   "cell_type": "code",
   "execution_count": 81,
   "id": "2bed811a-e620-427b-808c-ac045f348ca6",
   "metadata": {},
   "outputs": [],
   "source": [
    "djf_hist_and_future_mean_diffs = metric_future_mean_diff_djf[metric_future_mean_diff_djf.columns[-6:]].iloc[4:]\n",
    "djf_hist_and_future_mean_diffs_w_mean = pd.concat([djf_hist_and_future_mean_diffs.mean(axis=1), djf_hist_and_future_mean_diffs], axis=1)\n",
    "djf_hist_and_future_mean_diffs_w_mean.columns = [\"mean\", \"Woollings et al. 2010\", \"Barnes & Polvani 2013\",\\\n",
    "                                                    \"Grise & Polvani 2014\", \"Barnes & Simpson 2017\",\\\n",
    "                                                   \"Zappa et al. 2018\", \"Kerr et al. 2020\"] # \"Barnes & Polvani 2015\",\n",
    "djf_hist_and_future_mean_diffs_w_mean = djf_hist_and_future_mean_diffs_w_mean.dropna() \n",
    "\n",
    "\n",
    "# mam_hist_and_future_mean_diffs = metric_future_mean_diff_mam[metric_future_mean_diff_mam.columns[-6:]].iloc[4:]\n",
    "# mam_hist_and_future_mean_diffs_w_mean = pd.concat([mam_hist_and_future_mean_diffs.mean(axis=1), mam_hist_and_future_mean_diffs], axis=1)\n",
    "# mam_hist_and_future_mean_diffs_w_mean.columns = [\"mean\", \"Woollings et al. 2010\", \"Barnes & Polvani 2013\",\\\n",
    "#                                                     \"Barnes & Simpson 2017\", \"Grise & Polvani 2017\",\\\n",
    "#                                                    \"Zappa et al. 2018\", \"Kerr et al. 2020\"] # \"Barnes & Polvani 2015\",\n",
    "# mam_hist_and_future_mean_diffs_w_mean = mam_hist_and_future_mean_diffs_w_mean.dropna() \n",
    "\n",
    "\n",
    "\n",
    "# jja_hist_and_future_mean_diffs = metric_future_mean_diff_jja[metric_future_mean_diff_jja.columns[-6:]].iloc[4:]\n",
    "# jja_hist_and_future_mean_diffs_w_mean = pd.concat([jja_hist_and_future_mean_diffs.mean(axis=1), jja_hist_and_future_mean_diffs], axis=1)\n",
    "# jja_hist_and_future_mean_diffs_w_mean.columns = [\"mean\", \"Woollings et al. 2010\", \"Barnes & Polvani 2013\",\\\n",
    "#                                                     \"Barnes & Simpson 2017\", \"Grise & Polvani 2017\",\\\n",
    "#                                                    \"Zappa et al. 2018\", \"Kerr et al. 2020\"] # \"Barnes & Polvani 2015\",\n",
    "# jja_hist_and_future_mean_diffs_w_mean = jja_hist_and_future_mean_diffs_w_mean.dropna() \n",
    "\n",
    "\n",
    "\n",
    "son_hist_and_future_mean_diffs = metric_future_mean_diff_son[metric_future_mean_diff_son.columns[-6:]].iloc[4:]\n",
    "son_hist_and_future_mean_diffs_w_mean = pd.concat([son_hist_and_future_mean_diffs.mean(axis=1), son_hist_and_future_mean_diffs], axis=1)\n",
    "son_hist_and_future_mean_diffs_w_mean.columns = [\"mean\", \"Woollings et al. 2010\", \"Barnes & Polvani 2013\",\n",
    "                                                 \"Grise & Polvani 2014\", \"Barnes & Simpson 2017\",\\\n",
    "                                                   \"Zappa et al. 2018\", \"Kerr et al. 2020\"] # \"Barnes & Polvani 2015\",\n",
    "son_hist_and_future_mean_diffs_w_mean = son_hist_and_future_mean_diffs_w_mean.dropna() \n",
    "\n",
    "\n"
   ]
  },
  {
   "cell_type": "code",
   "execution_count": 82,
   "id": "fb90fe09-eb1d-4fa4-8849-32b8b1f0b4c8",
   "metadata": {},
   "outputs": [
    {
     "data": {
      "text/html": [
       "<div>\n",
       "<style scoped>\n",
       "    .dataframe tbody tr th:only-of-type {\n",
       "        vertical-align: middle;\n",
       "    }\n",
       "\n",
       "    .dataframe tbody tr th {\n",
       "        vertical-align: top;\n",
       "    }\n",
       "\n",
       "    .dataframe thead th {\n",
       "        text-align: right;\n",
       "    }\n",
       "</style>\n",
       "<table border=\"1\" class=\"dataframe\">\n",
       "  <thead>\n",
       "    <tr style=\"text-align: right;\">\n",
       "      <th></th>\n",
       "      <th>mean</th>\n",
       "      <th>Woollings et al. 2010</th>\n",
       "      <th>Barnes &amp; Polvani 2013</th>\n",
       "      <th>Grise &amp; Polvani 2014</th>\n",
       "      <th>Barnes &amp; Simpson 2017</th>\n",
       "      <th>Zappa et al. 2018</th>\n",
       "      <th>Kerr et al. 2020</th>\n",
       "    </tr>\n",
       "  </thead>\n",
       "  <tbody>\n",
       "    <tr>\n",
       "      <th>TaiESM1_r1i1p1f1</th>\n",
       "      <td>0.030186</td>\n",
       "      <td>0.167013</td>\n",
       "      <td>0.238674</td>\n",
       "      <td>-0.058241</td>\n",
       "      <td>0.541022</td>\n",
       "      <td>-0.286828</td>\n",
       "      <td>-0.420526</td>\n",
       "    </tr>\n",
       "    <tr>\n",
       "      <th>CanESM5_r9i1p1f1</th>\n",
       "      <td>1.619355</td>\n",
       "      <td>1.777854</td>\n",
       "      <td>1.752677</td>\n",
       "      <td>1.694493</td>\n",
       "      <td>2.139407</td>\n",
       "      <td>1.278761</td>\n",
       "      <td>1.072939</td>\n",
       "    </tr>\n",
       "    <tr>\n",
       "      <th>NorESM2-LM_r1i1p1f1</th>\n",
       "      <td>2.661092</td>\n",
       "      <td>2.874520</td>\n",
       "      <td>2.878904</td>\n",
       "      <td>2.908811</td>\n",
       "      <td>2.603481</td>\n",
       "      <td>2.377864</td>\n",
       "      <td>2.322970</td>\n",
       "    </tr>\n",
       "    <tr>\n",
       "      <th>CESM2-WACCM_r2i1p1f1</th>\n",
       "      <td>1.431093</td>\n",
       "      <td>1.705213</td>\n",
       "      <td>1.669646</td>\n",
       "      <td>1.507207</td>\n",
       "      <td>1.588222</td>\n",
       "      <td>1.200596</td>\n",
       "      <td>0.915673</td>\n",
       "    </tr>\n",
       "    <tr>\n",
       "      <th>CanESM5_r4i1p2f1</th>\n",
       "      <td>2.183704</td>\n",
       "      <td>2.402060</td>\n",
       "      <td>2.377774</td>\n",
       "      <td>2.306144</td>\n",
       "      <td>2.935233</td>\n",
       "      <td>1.706394</td>\n",
       "      <td>1.374619</td>\n",
       "    </tr>\n",
       "  </tbody>\n",
       "</table>\n",
       "</div>"
      ],
      "text/plain": [
       "                          mean  Woollings et al. 2010  Barnes & Polvani 2013  \\\n",
       "TaiESM1_r1i1p1f1      0.030186               0.167013               0.238674   \n",
       "CanESM5_r9i1p1f1      1.619355               1.777854               1.752677   \n",
       "NorESM2-LM_r1i1p1f1   2.661092               2.874520               2.878904   \n",
       "CESM2-WACCM_r2i1p1f1  1.431093               1.705213               1.669646   \n",
       "CanESM5_r4i1p2f1      2.183704               2.402060               2.377774   \n",
       "\n",
       "                      Grise & Polvani 2014  Barnes & Simpson 2017  \\\n",
       "TaiESM1_r1i1p1f1                 -0.058241               0.541022   \n",
       "CanESM5_r9i1p1f1                  1.694493               2.139407   \n",
       "NorESM2-LM_r1i1p1f1               2.908811               2.603481   \n",
       "CESM2-WACCM_r2i1p1f1              1.507207               1.588222   \n",
       "CanESM5_r4i1p2f1                  2.306144               2.935233   \n",
       "\n",
       "                      Zappa et al. 2018  Kerr et al. 2020  \n",
       "TaiESM1_r1i1p1f1              -0.286828         -0.420526  \n",
       "CanESM5_r9i1p1f1               1.278761          1.072939  \n",
       "NorESM2-LM_r1i1p1f1            2.377864          2.322970  \n",
       "CESM2-WACCM_r2i1p1f1           1.200596          0.915673  \n",
       "CanESM5_r4i1p2f1               1.706394          1.374619  "
      ]
     },
     "execution_count": 82,
     "metadata": {},
     "output_type": "execute_result"
    }
   ],
   "source": [
    "djf_hist_and_future_mean_diffs_w_mean.head()"
   ]
  },
  {
   "cell_type": "code",
   "execution_count": 83,
   "id": "8f559117-baa7-4f01-8ec3-6cb276c946cc",
   "metadata": {},
   "outputs": [
    {
     "data": {
      "text/html": [
       "<div>\n",
       "<style scoped>\n",
       "    .dataframe tbody tr th:only-of-type {\n",
       "        vertical-align: middle;\n",
       "    }\n",
       "\n",
       "    .dataframe tbody tr th {\n",
       "        vertical-align: top;\n",
       "    }\n",
       "\n",
       "    .dataframe thead th {\n",
       "        text-align: right;\n",
       "    }\n",
       "</style>\n",
       "<table border=\"1\" class=\"dataframe\">\n",
       "  <thead>\n",
       "    <tr style=\"text-align: right;\">\n",
       "      <th></th>\n",
       "      <th>mean</th>\n",
       "      <th>Woollings et al. 2010</th>\n",
       "      <th>Barnes &amp; Polvani 2013</th>\n",
       "      <th>Grise &amp; Polvani 2014</th>\n",
       "      <th>Barnes &amp; Simpson 2017</th>\n",
       "      <th>Zappa et al. 2018</th>\n",
       "      <th>Kerr et al. 2020</th>\n",
       "    </tr>\n",
       "  </thead>\n",
       "  <tbody>\n",
       "    <tr>\n",
       "      <th>CanESM5_r2i1p2f1</th>\n",
       "      <td>-0.101070</td>\n",
       "      <td>-0.134661</td>\n",
       "      <td>-0.141421</td>\n",
       "      <td>-0.096540</td>\n",
       "      <td>-0.139467</td>\n",
       "      <td>-0.056528</td>\n",
       "      <td>-0.037801</td>\n",
       "    </tr>\n",
       "    <tr>\n",
       "      <th>UKESM1-0-LL_r15i1p1f2</th>\n",
       "      <td>-0.045602</td>\n",
       "      <td>-0.035039</td>\n",
       "      <td>-0.033649</td>\n",
       "      <td>-0.063718</td>\n",
       "      <td>-0.073248</td>\n",
       "      <td>-0.042226</td>\n",
       "      <td>-0.025734</td>\n",
       "    </tr>\n",
       "    <tr>\n",
       "      <th>CanESM5_r6i1p1f1</th>\n",
       "      <td>-0.163894</td>\n",
       "      <td>-0.191963</td>\n",
       "      <td>-0.191547</td>\n",
       "      <td>-0.168742</td>\n",
       "      <td>-0.205103</td>\n",
       "      <td>-0.132539</td>\n",
       "      <td>-0.093472</td>\n",
       "    </tr>\n",
       "    <tr>\n",
       "      <th>CNRM-CM6-1_r4i1p1f2</th>\n",
       "      <td>-0.112480</td>\n",
       "      <td>-0.129464</td>\n",
       "      <td>-0.128232</td>\n",
       "      <td>-0.112788</td>\n",
       "      <td>-0.134529</td>\n",
       "      <td>-0.087218</td>\n",
       "      <td>-0.082650</td>\n",
       "    </tr>\n",
       "    <tr>\n",
       "      <th>MIROC-ES2L_r6i1p1f2</th>\n",
       "      <td>-0.051690</td>\n",
       "      <td>-0.068846</td>\n",
       "      <td>-0.078402</td>\n",
       "      <td>-0.061975</td>\n",
       "      <td>-0.022401</td>\n",
       "      <td>-0.030812</td>\n",
       "      <td>-0.047705</td>\n",
       "    </tr>\n",
       "  </tbody>\n",
       "</table>\n",
       "</div>"
      ],
      "text/plain": [
       "                           mean  Woollings et al. 2010  Barnes & Polvani 2013  \\\n",
       "CanESM5_r2i1p2f1      -0.101070              -0.134661              -0.141421   \n",
       "UKESM1-0-LL_r15i1p1f2 -0.045602              -0.035039              -0.033649   \n",
       "CanESM5_r6i1p1f1      -0.163894              -0.191963              -0.191547   \n",
       "CNRM-CM6-1_r4i1p1f2   -0.112480              -0.129464              -0.128232   \n",
       "MIROC-ES2L_r6i1p1f2   -0.051690              -0.068846              -0.078402   \n",
       "\n",
       "                       Grise & Polvani 2014  Barnes & Simpson 2017  \\\n",
       "CanESM5_r2i1p2f1                  -0.096540              -0.139467   \n",
       "UKESM1-0-LL_r15i1p1f2             -0.063718              -0.073248   \n",
       "CanESM5_r6i1p1f1                  -0.168742              -0.205103   \n",
       "CNRM-CM6-1_r4i1p1f2               -0.112788              -0.134529   \n",
       "MIROC-ES2L_r6i1p1f2               -0.061975              -0.022401   \n",
       "\n",
       "                       Zappa et al. 2018  Kerr et al. 2020  \n",
       "CanESM5_r2i1p2f1               -0.056528         -0.037801  \n",
       "UKESM1-0-LL_r15i1p1f2          -0.042226         -0.025734  \n",
       "CanESM5_r6i1p1f1               -0.132539         -0.093472  \n",
       "CNRM-CM6-1_r4i1p1f2            -0.087218         -0.082650  \n",
       "MIROC-ES2L_r6i1p1f2            -0.030812         -0.047705  "
      ]
     },
     "execution_count": 83,
     "metadata": {},
     "output_type": "execute_result"
    }
   ],
   "source": [
    "djf_hist_and_future_trend_diffs = metric_future_trend_diff_djf[metric_future_trend_diff_djf.columns[-6:]].iloc[4:]\n",
    "djf_hist_and_future_trend_diffs_w_mean = pd.concat([djf_hist_and_future_trend_diffs.mean(axis=1), djf_hist_and_future_trend_diffs], axis=1)\n",
    "djf_hist_and_future_trend_diffs_w_mean.columns = [\"mean\", \"Woollings et al. 2010\", \"Barnes & Polvani 2013\",\\\n",
    "                                                    \"Grise & Polvani 2014\", \"Barnes & Simpson 2017\",\\\n",
    "                                                   \"Zappa et al. 2018\", \"Kerr et al. 2020\"] # \"Barnes & Polvani 2015\",\n",
    "djf_hist_and_future_trend_diffs_w_mean = djf_hist_and_future_trend_diffs_w_mean.dropna()\n",
    "djf_hist_and_future_trend_diffs_w_mean.head()"
   ]
  },
  {
   "cell_type": "code",
   "execution_count": 84,
   "id": "a2233541-7cd1-41be-bd89-46c6de864cb4",
   "metadata": {},
   "outputs": [],
   "source": [
    "djf_hist_and_future_mean_diffs_w_mean_ensemble_means = djf_hist_and_future_mean_diffs_w_mean.groupby(lambda row: row.split('_')[0]).mean()\n",
    "djf_hist_and_future_trend_diffs_w_mean_ensemble_means = djf_hist_and_future_trend_diffs_w_mean.groupby(lambda row: row.split('_')[0]).mean()\n",
    "\n",
    "# mam_hist_and_future_mean_diffs_w_mean_ensemble_means = mam_hist_and_future_mean_diffs_w_mean.groupby(lambda row: row.split('_')[0]).mean()\n",
    "\n",
    "# jja_hist_and_future_mean_diffs_w_mean_ensemble_means = jja_hist_and_future_mean_diffs_w_mean.groupby(lambda row: row.split('_')[0]).mean()\n",
    "\n",
    "son_hist_and_future_mean_diffs_w_mean_ensemble_means = son_hist_and_future_mean_diffs_w_mean.groupby(lambda row: row.split('_')[0]).mean()\n"
   ]
  },
  {
   "cell_type": "code",
   "execution_count": 85,
   "id": "eca28014-60c7-4d06-9b13-6813deb83b91",
   "metadata": {},
   "outputs": [],
   "source": [
    "## find closest to reanalysis ensemble mean\n",
    "djf_index_only_projs_for_sorting = djf_hist_rean_and_future_mean.dropna(how='any', axis=0).index\n",
    "djf_hist_where_proj_also_vals = hist_djf_jet_lat_mean_df.loc[djf_index_only_projs_for_sorting]\n",
    "\n",
    "# mam_index_only_projs_for_sorting = mam_hist_rean_and_future_mean.dropna(how='any', axis=0).index\n",
    "# mam_hist_where_proj_also_vals = hist_mam_jet_lat_mean_df.loc[mam_index_only_projs_for_sorting]\n",
    "\n",
    "# jja_index_only_projs_for_sorting = jja_hist_rean_and_future_mean.dropna(how='any', axis=0).index\n",
    "# jja_hist_where_proj_also_vals = hist_jja_jet_lat_mean_df.loc[jja_index_only_projs_for_sorting]\n",
    "\n",
    "son_index_only_projs_for_sorting = son_hist_rean_and_future_mean.dropna(how='any', axis=0).index\n",
    "son_hist_where_proj_also_vals = hist_son_jet_lat_mean_df.loc[son_index_only_projs_for_sorting]"
   ]
  },
  {
   "cell_type": "code",
   "execution_count": 86,
   "id": "25efc3da-5c00-41a1-b005-4b50fef28429",
   "metadata": {
    "tags": []
   },
   "outputs": [],
   "source": [
    "djf_hist_where_proj_also_vals_ens_means = djf_hist_where_proj_also_vals.groupby(lambda row: row.split('_')[0]).mean()\n",
    "\n",
    "# mam_hist_where_proj_also_vals_ens_means = mam_hist_where_proj_also_vals.groupby(lambda row: row.split('_')[0]).mean()\n",
    "\n",
    "# jja_hist_where_proj_also_vals_ens_means = jja_hist_where_proj_also_vals.groupby(lambda row: row.split('_')[0]).mean()\n",
    "\n",
    "son_hist_where_proj_also_vals_ens_means = son_hist_where_proj_also_vals.groupby(lambda row: row.split('_')[0]).mean()"
   ]
  },
  {
   "cell_type": "code",
   "execution_count": 87,
   "id": "a043f84e-4434-469e-9a23-978fef1f432c",
   "metadata": {},
   "outputs": [
    {
     "data": {
      "text/plain": [
       "TaiESM1              0.773436\n",
       "NorESM2-LM           0.934146\n",
       "CanESM5              1.170936\n",
       "KACE-1-0-G           1.233906\n",
       "EC-Earth3            1.237638\n",
       "CESM2-WACCM          1.451229\n",
       "CNRM-ESM2-1          1.712629\n",
       "ACCESS-ESM1-5        2.424970\n",
       "HadGEM3-GC31-LL      2.595312\n",
       "NorESM2-MM           2.923737\n",
       "MPI-ESM1-2-LR        2.948547\n",
       "EC-Earth3-Veg-LR     3.120446\n",
       "UKESM1-0-LL          3.846189\n",
       "CNRM-CM6-1           4.387397\n",
       "MPI-ESM1-2-HR        6.134802\n",
       "CMCC-ESM2            6.432671\n",
       "ACCESS-CM2           7.355311\n",
       "INM-CM5-0            7.835479\n",
       "EC-Earth3-CC         7.913053\n",
       "CMCC-CM2-SR5         8.073260\n",
       "NESM3                8.714284\n",
       "HadGEM3-GC31-MM      9.700863\n",
       "IPSL-CM6A-LR        10.349551\n",
       "FGOALS-g3           10.722260\n",
       "GFDL-CM4            11.259924\n",
       "MIROC6              15.314903\n",
       "MRI-ESM2-0          19.436329\n",
       "MIROC-ES2L          21.061281\n",
       "INM-CM4-8           24.969493\n",
       "dtype: float64"
      ]
     },
     "execution_count": 87,
     "metadata": {},
     "output_type": "execute_result"
    }
   ],
   "source": [
    "abs(djf_hist_where_proj_also_vals_ens_means -  djf_all_rean_mean.mean())\\\n",
    "                                                    .sum(axis=1).sort_values()"
   ]
  },
  {
   "cell_type": "code",
   "execution_count": 88,
   "id": "aa21ad75-aefb-4170-991e-80720ad052b8",
   "metadata": {},
   "outputs": [],
   "source": [
    "sorted_index_by_minimum_error_from_reanalysis_mean_ens_mean_djf = abs(djf_hist_where_proj_also_vals_ens_means -  djf_all_rean_mean.mean())\\\n",
    "                                                    .sum(axis=1).sort_values().index\n",
    "\n",
    "# sorted_index_by_minimum_error_from_reanalysis_mean_ens_mean_mam = abs(mam_hist_where_proj_also_vals_ens_means -  mam_all_rean_mean.mean())\\\n",
    "#                                                     .sum(axis=1).sort_values().index\n",
    "\n",
    "# sorted_index_by_minimum_error_from_reanalysis_mean_ens_mean_jja = abs(jja_hist_where_proj_also_vals_ens_means -  jja_all_rean_mean.mean())\\\n",
    "#                                                     .sum(axis=1).sort_values().index\n",
    "\n",
    "sorted_index_by_minimum_error_from_reanalysis_mean_ens_mean_son = abs(son_hist_where_proj_also_vals_ens_means -  son_all_rean_mean.mean())\\\n",
    "                                                    .sum(axis=1).sort_values().index"
   ]
  },
  {
   "cell_type": "code",
   "execution_count": 89,
   "id": "16cba230-0d60-413c-a57d-18547fb3fa60",
   "metadata": {},
   "outputs": [
    {
     "data": {
      "text/plain": [
       "Index(['TaiESM1', 'NorESM2-LM', 'CanESM5', 'KACE-1-0-G', 'EC-Earth3',\n",
       "       'CESM2-WACCM', 'CNRM-ESM2-1', 'ACCESS-ESM1-5', 'HadGEM3-GC31-LL',\n",
       "       'NorESM2-MM', 'MPI-ESM1-2-LR', 'EC-Earth3-Veg-LR', 'UKESM1-0-LL',\n",
       "       'CNRM-CM6-1', 'MPI-ESM1-2-HR', 'CMCC-ESM2', 'ACCESS-CM2', 'INM-CM5-0',\n",
       "       'EC-Earth3-CC', 'CMCC-CM2-SR5', 'NESM3', 'HadGEM3-GC31-MM',\n",
       "       'IPSL-CM6A-LR', 'FGOALS-g3', 'GFDL-CM4', 'MIROC6', 'MRI-ESM2-0',\n",
       "       'MIROC-ES2L', 'INM-CM4-8'],\n",
       "      dtype='object')"
      ]
     },
     "execution_count": 89,
     "metadata": {},
     "output_type": "execute_result"
    }
   ],
   "source": [
    "sorted_index_by_minimum_error_from_reanalysis_mean_ens_mean_djf"
   ]
  },
  {
   "cell_type": "code",
   "execution_count": 90,
   "id": "598667b3-0ac0-4c7d-8f94-8239c4980399",
   "metadata": {},
   "outputs": [],
   "source": [
    "df_hist_season_by_cmip6_model_cmip6data = pd.concat([hist_djf_jet_lat_mean_df.mean(axis=1), hist_mam_jet_lat_mean_df.mean(axis=1),\\\n",
    "           hist_jja_jet_lat_mean_df.mean(axis=1), hist_son_jet_lat_mean_df.mean(axis=1)], axis=1)\n",
    "\n",
    "df_hist_season_by_metric_cmip6data = pd.concat([hist_djf_jet_lat_mean_df.mean(axis=0), hist_mam_jet_lat_mean_df.mean(axis=0),\\\n",
    "           hist_jja_jet_lat_mean_df.mean(axis=0), hist_son_jet_lat_mean_df.mean(axis=0)], axis=1)\n",
    "\n",
    "\n",
    "df_future_season_by_cmip6_model_cmip6data = pd.concat([ssp585_djf_jet_lat_mean_df.mean(axis=1), ssp585_mam_jet_lat_mean_df.mean(axis=1),\\\n",
    "           ssp585_jja_jet_lat_mean_df.mean(axis=1), ssp585_son_jet_lat_mean_df.mean(axis=1)], axis=1)\n",
    "\n",
    "df_future_season_by_metric_cmip6data = pd.concat([ssp585_djf_jet_lat_mean_df.mean(axis=0), ssp585_mam_jet_lat_mean_df.mean(axis=0),\\\n",
    "           ssp585_jja_jet_lat_mean_df.mean(axis=0), ssp585_son_jet_lat_mean_df.mean(axis=0)], axis=1)\n",
    "\n",
    "\n",
    "df_future_hist_diff_season_by_model = df_future_season_by_cmip6_model_cmip6data - df_hist_season_by_cmip6_model_cmip6data\n",
    "df_future_hist_diff_season_by_metric = df_future_season_by_metric_cmip6data - df_hist_season_by_metric_cmip6data\n",
    "\n",
    "\n",
    "# df_future_hist_diff_season_by_model = pd.concat([df_future_hist_diff_season_by_model.mean(axis=1), df_future_hist_diff_season_by_model], axis=1)\n",
    "# df_future_hist_diff_season_by_metric = pd.concat([df_future_hist_diff_season_by_metric.mean(axis=1), df_future_hist_diff_season_by_metric], axis=1)\n",
    "\n",
    "df_future_hist_diff_season_by_model.columns = ['DJF', 'MAM', 'JJA', 'SON']\n",
    "df_future_hist_diff_season_by_metric.columns = ['DJF', 'MAM', 'JJA', 'SON']\n"
   ]
  },
  {
   "cell_type": "code",
   "execution_count": 91,
   "id": "0f1c07cb-178d-474d-b278-8aeb6ae3aec0",
   "metadata": {},
   "outputs": [],
   "source": [
    "df_diff_djf = ssp585_djf_jet_lat_mean_df - hist_djf_jet_lat_mean_df \n",
    "# df_diff_mam = ssp585_mam_jet_lat_mean_df - hist_mam_jet_lat_mean_df\n",
    "# df_diff_jja = ssp585_jja_jet_lat_mean_df - hist_jja_jet_lat_mean_df\n",
    "df_diff_son = ssp585_son_jet_lat_mean_df - hist_son_jet_lat_mean_df"
   ]
  },
  {
   "cell_type": "code",
   "execution_count": 92,
   "id": "8db96031-4f59-42a9-900b-fd0e936a288e",
   "metadata": {},
   "outputs": [],
   "source": [
    "df_future_hist_diff_season_by_model['Annual mean'] = df_future_hist_diff_season_by_model.mean(axis=1)\n",
    "df_future_hist_diff_season_by_metric['Annual mean'] = df_future_hist_diff_season_by_metric.mean(axis=1)"
   ]
  },
  {
   "cell_type": "code",
   "execution_count": 93,
   "id": "98fa2c58-9d86-4501-864c-025b2e4cc134",
   "metadata": {},
   "outputs": [
    {
     "data": {
      "text/plain": [
       "Index(['CNRM-ESM2-1_r1i1p1f2', 'CNRM-ESM2-1_r2i1p1f2', 'CNRM-ESM2-1_r3i1p1f2',\n",
       "       'CNRM-ESM2-1_r4i1p1f2', 'CNRM-ESM2-1_r5i1p1f2'],\n",
       "      dtype='object')"
      ]
     },
     "execution_count": 93,
     "metadata": {},
     "output_type": "execute_result"
    }
   ],
   "source": [
    "df_diff_djf[df_diff_djf.index.str.contains('CNRM-ESM2-1')].index"
   ]
  },
  {
   "cell_type": "code",
   "execution_count": 94,
   "id": "4d2fc3cb-731e-4c95-8875-f70984e4b68e",
   "metadata": {},
   "outputs": [],
   "source": [
    "df_diff_djf_ens_mean = df_diff_djf.groupby(lambda row: row.split('_')[0]).mean()\n",
    "# df_diff_mam_ens_mean = df_diff_mam.groupby(lambda row: row.split('_')[0]).mean()\n",
    "# df_diff_jja_ens_mean = df_diff_jja.groupby(lambda row: row.split('_')[0]).mean()\n",
    "df_diff_son_ens_mean = df_diff_son.groupby(lambda row: row.split('_')[0]).mean()\n",
    "\n",
    "df_diff_djf_ens_first = df_diff_djf.dropna(how='all')[~df_diff_djf.dropna(how='all').index.str.contains('r10')].groupby(lambda row: row.split('_')[0]).first()\n",
    "# df_diff_mam_ens_first = df_diff_mam.dropna(how='all')[~df_diff_mam.dropna(how='all').index.str.contains('r10')].groupby(lambda row: row.split('_')[0]).first()\n",
    "# df_diff_jja_ens_first = df_diff_jja.dropna(how='all')[~df_diff_jja.dropna(how='all').index.str.contains('r10')].groupby(lambda row: row.split('_')[0]).first()\n",
    "df_diff_son_ens_first = df_diff_son.dropna(how='all')[~df_diff_son.dropna(how='all').index.str.contains('r10')].groupby(lambda row: row.split('_')[0]).first()\n",
    "\n",
    "df_diff_djf_ens_median = df_diff_djf.groupby(lambda row: row.split('_')[0]).median()\n",
    "# df_diff_mam_ens_median = df_diff_mam.groupby(lambda row: row.split('_')[0]).median()\n",
    "# df_diff_jja_ens_median = df_diff_jja.groupby(lambda row: row.split('_')[0]).median()\n",
    "df_diff_son_ens_median = df_diff_son.groupby(lambda row: row.split('_')[0]).median()"
   ]
  },
  {
   "cell_type": "code",
   "execution_count": 95,
   "id": "5f55f070-55e7-4426-8286-ca25ca6e441c",
   "metadata": {},
   "outputs": [],
   "source": [
    "models_in_groups_in_future_djf = [model for model in df_diff_djf.dropna().index if model.split('_')[0] in sorted_index_by_minimum_error_from_reanalysis_mean_ens_mean_djf]\n",
    "model_realisation_counts_djf = collections.Counter([model_name.split('_')[0] for model_name in models_in_groups_in_future_djf])\n",
    "\n",
    "# models_in_groups_in_future_mam = [model for model in df_diff_mam.dropna().index if model.split('_')[0] in sorted_index_by_minimum_error_from_reanalysis_mean_ens_mean_mam]\n",
    "# model_realisation_counts_mam = collections.Counter([model_name.split('_')[0] for model_name in models_in_groups_in_future_mam])\n",
    "\n",
    "# models_in_groups_in_future_jja = [model for model in df_diff_jja.dropna().index if model.split('_')[0] in sorted_index_by_minimum_error_from_reanalysis_mean_ens_mean_jja]\n",
    "# model_realisation_counts_jja = collections.Counter([model_name.split('_')[0] for model_name in models_in_groups_in_future_jja])\n",
    "\n",
    "models_in_groups_in_future_son = [model for model in df_diff_son.dropna().index if model.split('_')[0] in sorted_index_by_minimum_error_from_reanalysis_mean_ens_mean_son]\n",
    "model_realisation_counts_son = collections.Counter([model_name.split('_')[0] for model_name in models_in_groups_in_future_son])"
   ]
  },
  {
   "cell_type": "code",
   "execution_count": 96,
   "id": "24aa8fe1-763f-4bc1-a7e6-ea6f071c15f7",
   "metadata": {},
   "outputs": [],
   "source": [
    "multi_r_models_pval_djf = pd.DataFrame()\n",
    "multi_r_models_pval_son = pd.DataFrame()\n",
    "\n",
    "counter = 0\n",
    "for model_name in model_realisation_counts_djf.keys():\n",
    "    if model_realisation_counts_djf[model_name] > 1 and model_name in sorted_index_by_minimum_error_from_reanalysis_mean_ens_mean_djf:\n",
    "        # print(model_name,  model_realisation_counts[model_name])\n",
    "        all_models_in_group_djf = cmip6_djf_jet_lat_shift_sig_df.loc[cmip6_djf_jet_lat_shift_sig_df.index.str.startswith(model_name)].dropna()\n",
    "        all_models_in_group_son = cmip6_son_jet_lat_shift_sig_df.loc[cmip6_son_jet_lat_shift_sig_df.index.str.startswith(model_name)].dropna()\n",
    "\n",
    "        if counter == 0:\n",
    "            multi_r_models_pval_djf[model_name] = all_models_in_group_djf.values.flatten() # old: .values.flatten()\n",
    "            multi_r_models_pval_son[model_name] = all_models_in_group_son.values.flatten() #.mean(axis=1).values\n",
    "        else:\n",
    "            current_mgroup_djf = pd.Series(all_models_in_group_djf.values.flatten() , name=model_name)\n",
    "            multi_r_models_pval_djf = pd.concat([multi_r_models_pval_djf, current_mgroup_djf], axis=1)\n",
    "            current_mgroup_son = pd.Series(all_models_in_group_son.values.flatten(), name=model_name)\n",
    "            multi_r_models_pval_son = pd.concat([multi_r_models_pval_son, current_mgroup_son], axis=1)\n",
    "        counter+=1\n",
    "    "
   ]
  },
  {
   "cell_type": "code",
   "execution_count": 97,
   "id": "e17b5041-da65-49eb-9aba-4e6b51d02e81",
   "metadata": {},
   "outputs": [
    {
     "data": {
      "text/html": [
       "<div>\n",
       "<style scoped>\n",
       "    .dataframe tbody tr th:only-of-type {\n",
       "        vertical-align: middle;\n",
       "    }\n",
       "\n",
       "    .dataframe tbody tr th {\n",
       "        vertical-align: top;\n",
       "    }\n",
       "\n",
       "    .dataframe thead th {\n",
       "        text-align: right;\n",
       "    }\n",
       "</style>\n",
       "<table border=\"1\" class=\"dataframe\">\n",
       "  <thead>\n",
       "    <tr style=\"text-align: right;\">\n",
       "      <th></th>\n",
       "      <th>ACCESS-ESM1-5</th>\n",
       "      <th>CESM2-WACCM</th>\n",
       "      <th>CNRM-CM6-1</th>\n",
       "      <th>CNRM-ESM2-1</th>\n",
       "      <th>CanESM5</th>\n",
       "      <th>HadGEM3-GC31-LL</th>\n",
       "      <th>HadGEM3-GC31-MM</th>\n",
       "      <th>IPSL-CM6A-LR</th>\n",
       "      <th>MIROC-ES2L</th>\n",
       "      <th>UKESM1-0-LL</th>\n",
       "    </tr>\n",
       "  </thead>\n",
       "  <tbody>\n",
       "    <tr>\n",
       "      <th>0</th>\n",
       "      <td>1.325191e-23</td>\n",
       "      <td>0.070164</td>\n",
       "      <td>2.537169e-49</td>\n",
       "      <td>1.089026e-42</td>\n",
       "      <td>1.824258e-41</td>\n",
       "      <td>8.642707e-53</td>\n",
       "      <td>7.279443e-21</td>\n",
       "      <td>4.870801e-25</td>\n",
       "      <td>0.322844</td>\n",
       "      <td>1.265445e-57</td>\n",
       "    </tr>\n",
       "    <tr>\n",
       "      <th>1</th>\n",
       "      <td>2.377515e-23</td>\n",
       "      <td>0.036089</td>\n",
       "      <td>5.091542e-50</td>\n",
       "      <td>1.832575e-43</td>\n",
       "      <td>2.473078e-44</td>\n",
       "      <td>4.702493e-55</td>\n",
       "      <td>3.636038e-21</td>\n",
       "      <td>1.764947e-25</td>\n",
       "      <td>0.145943</td>\n",
       "      <td>1.986283e-57</td>\n",
       "    </tr>\n",
       "    <tr>\n",
       "      <th>2</th>\n",
       "      <td>1.597461e-04</td>\n",
       "      <td>0.816079</td>\n",
       "      <td>2.109490e-09</td>\n",
       "      <td>3.412937e-08</td>\n",
       "      <td>2.035601e-07</td>\n",
       "      <td>5.701671e-08</td>\n",
       "      <td>5.265331e-04</td>\n",
       "      <td>1.259828e-04</td>\n",
       "      <td>0.279747</td>\n",
       "      <td>6.922686e-09</td>\n",
       "    </tr>\n",
       "    <tr>\n",
       "      <th>3</th>\n",
       "      <td>6.060843e-23</td>\n",
       "      <td>0.086341</td>\n",
       "      <td>2.710373e-39</td>\n",
       "      <td>2.698800e-30</td>\n",
       "      <td>1.155364e-35</td>\n",
       "      <td>4.088958e-43</td>\n",
       "      <td>1.885169e-15</td>\n",
       "      <td>5.080986e-17</td>\n",
       "      <td>0.967565</td>\n",
       "      <td>1.047586e-42</td>\n",
       "    </tr>\n",
       "    <tr>\n",
       "      <th>4</th>\n",
       "      <td>3.550846e-26</td>\n",
       "      <td>0.604385</td>\n",
       "      <td>1.856628e-81</td>\n",
       "      <td>6.619560e-55</td>\n",
       "      <td>9.903890e-49</td>\n",
       "      <td>1.448121e-45</td>\n",
       "      <td>7.970022e-18</td>\n",
       "      <td>4.970193e-26</td>\n",
       "      <td>0.341396</td>\n",
       "      <td>6.966721e-48</td>\n",
       "    </tr>\n",
       "    <tr>\n",
       "      <th>...</th>\n",
       "      <td>...</td>\n",
       "      <td>...</td>\n",
       "      <td>...</td>\n",
       "      <td>...</td>\n",
       "      <td>...</td>\n",
       "      <td>...</td>\n",
       "      <td>...</td>\n",
       "      <td>...</td>\n",
       "      <td>...</td>\n",
       "      <td>...</td>\n",
       "    </tr>\n",
       "    <tr>\n",
       "      <th>109</th>\n",
       "      <td>NaN</td>\n",
       "      <td>NaN</td>\n",
       "      <td>NaN</td>\n",
       "      <td>NaN</td>\n",
       "      <td>2.145404e-56</td>\n",
       "      <td>NaN</td>\n",
       "      <td>NaN</td>\n",
       "      <td>NaN</td>\n",
       "      <td>NaN</td>\n",
       "      <td>NaN</td>\n",
       "    </tr>\n",
       "    <tr>\n",
       "      <th>110</th>\n",
       "      <td>NaN</td>\n",
       "      <td>NaN</td>\n",
       "      <td>NaN</td>\n",
       "      <td>NaN</td>\n",
       "      <td>2.576935e-09</td>\n",
       "      <td>NaN</td>\n",
       "      <td>NaN</td>\n",
       "      <td>NaN</td>\n",
       "      <td>NaN</td>\n",
       "      <td>NaN</td>\n",
       "    </tr>\n",
       "    <tr>\n",
       "      <th>111</th>\n",
       "      <td>NaN</td>\n",
       "      <td>NaN</td>\n",
       "      <td>NaN</td>\n",
       "      <td>NaN</td>\n",
       "      <td>1.756575e-44</td>\n",
       "      <td>NaN</td>\n",
       "      <td>NaN</td>\n",
       "      <td>NaN</td>\n",
       "      <td>NaN</td>\n",
       "      <td>NaN</td>\n",
       "    </tr>\n",
       "    <tr>\n",
       "      <th>112</th>\n",
       "      <td>NaN</td>\n",
       "      <td>NaN</td>\n",
       "      <td>NaN</td>\n",
       "      <td>NaN</td>\n",
       "      <td>1.830409e-54</td>\n",
       "      <td>NaN</td>\n",
       "      <td>NaN</td>\n",
       "      <td>NaN</td>\n",
       "      <td>NaN</td>\n",
       "      <td>NaN</td>\n",
       "    </tr>\n",
       "    <tr>\n",
       "      <th>113</th>\n",
       "      <td>NaN</td>\n",
       "      <td>NaN</td>\n",
       "      <td>NaN</td>\n",
       "      <td>NaN</td>\n",
       "      <td>7.616905e-53</td>\n",
       "      <td>NaN</td>\n",
       "      <td>NaN</td>\n",
       "      <td>NaN</td>\n",
       "      <td>NaN</td>\n",
       "      <td>NaN</td>\n",
       "    </tr>\n",
       "  </tbody>\n",
       "</table>\n",
       "<p>114 rows × 10 columns</p>\n",
       "</div>"
      ],
      "text/plain": [
       "     ACCESS-ESM1-5  CESM2-WACCM    CNRM-CM6-1   CNRM-ESM2-1       CanESM5  \\\n",
       "0     1.325191e-23     0.070164  2.537169e-49  1.089026e-42  1.824258e-41   \n",
       "1     2.377515e-23     0.036089  5.091542e-50  1.832575e-43  2.473078e-44   \n",
       "2     1.597461e-04     0.816079  2.109490e-09  3.412937e-08  2.035601e-07   \n",
       "3     6.060843e-23     0.086341  2.710373e-39  2.698800e-30  1.155364e-35   \n",
       "4     3.550846e-26     0.604385  1.856628e-81  6.619560e-55  9.903890e-49   \n",
       "..             ...          ...           ...           ...           ...   \n",
       "109            NaN          NaN           NaN           NaN  2.145404e-56   \n",
       "110            NaN          NaN           NaN           NaN  2.576935e-09   \n",
       "111            NaN          NaN           NaN           NaN  1.756575e-44   \n",
       "112            NaN          NaN           NaN           NaN  1.830409e-54   \n",
       "113            NaN          NaN           NaN           NaN  7.616905e-53   \n",
       "\n",
       "     HadGEM3-GC31-LL  HadGEM3-GC31-MM  IPSL-CM6A-LR  MIROC-ES2L   UKESM1-0-LL  \n",
       "0       8.642707e-53     7.279443e-21  4.870801e-25    0.322844  1.265445e-57  \n",
       "1       4.702493e-55     3.636038e-21  1.764947e-25    0.145943  1.986283e-57  \n",
       "2       5.701671e-08     5.265331e-04  1.259828e-04    0.279747  6.922686e-09  \n",
       "3       4.088958e-43     1.885169e-15  5.080986e-17    0.967565  1.047586e-42  \n",
       "4       1.448121e-45     7.970022e-18  4.970193e-26    0.341396  6.966721e-48  \n",
       "..               ...              ...           ...         ...           ...  \n",
       "109              NaN              NaN           NaN         NaN           NaN  \n",
       "110              NaN              NaN           NaN         NaN           NaN  \n",
       "111              NaN              NaN           NaN         NaN           NaN  \n",
       "112              NaN              NaN           NaN         NaN           NaN  \n",
       "113              NaN              NaN           NaN         NaN           NaN  \n",
       "\n",
       "[114 rows x 10 columns]"
      ]
     },
     "execution_count": 97,
     "metadata": {},
     "output_type": "execute_result"
    }
   ],
   "source": [
    "multi_r_models_pval_son"
   ]
  },
  {
   "cell_type": "code",
   "execution_count": 98,
   "id": "28e86f7f-f5ab-47c6-b0bd-91b46ab9a6d4",
   "metadata": {},
   "outputs": [],
   "source": [
    "# multi_r_models_pval_djf.to_csv('outputs/djf_hist_future_shift_pval.csv', index=False)\n",
    "# multi_r_models_pval_son.to_csv('outputs/son_hist_future_shift_pval.csv', index=False)"
   ]
  },
  {
   "cell_type": "code",
   "execution_count": 99,
   "id": "107ad557-d395-415f-8687-9edc1b8c52ed",
   "metadata": {},
   "outputs": [
    {
     "data": {
      "text/plain": [
       "Counter({'CanESM5': 19,\n",
       "         'MIROC-ES2L': 7,\n",
       "         'CNRM-CM6-1': 6,\n",
       "         'UKESM1-0-LL': 6,\n",
       "         'HadGEM3-GC31-LL': 4,\n",
       "         'HadGEM3-GC31-MM': 4,\n",
       "         'CESM2-WACCM': 3,\n",
       "         'IPSL-CM6A-LR': 3,\n",
       "         'ACCESS-ESM1-5': 2,\n",
       "         'CNRM-ESM2-1': 2,\n",
       "         'ACCESS-CM2': 1,\n",
       "         'CMCC-CM2-SR5': 1,\n",
       "         'CMCC-ESM2': 1,\n",
       "         'EC-Earth3-CC': 1,\n",
       "         'EC-Earth3-Veg-LR': 1,\n",
       "         'EC-Earth3': 1,\n",
       "         'FGOALS-g3': 1,\n",
       "         'GFDL-CM4': 1,\n",
       "         'INM-CM4-8': 1,\n",
       "         'INM-CM5-0': 1,\n",
       "         'KACE-1-0-G': 1,\n",
       "         'MIROC6': 1,\n",
       "         'MPI-ESM1-2-HR': 1,\n",
       "         'MPI-ESM1-2-LR': 1,\n",
       "         'MRI-ESM2-0': 1,\n",
       "         'NESM3': 1,\n",
       "         'NorESM2-LM': 1,\n",
       "         'NorESM2-MM': 1,\n",
       "         'TaiESM1': 1})"
      ]
     },
     "execution_count": 99,
     "metadata": {},
     "output_type": "execute_result"
    }
   ],
   "source": [
    "model_realisation_counts_djf"
   ]
  },
  {
   "cell_type": "code",
   "execution_count": 100,
   "id": "5a2a5d9c-9516-4fbe-b12d-f1001314d0b3",
   "metadata": {},
   "outputs": [
    {
     "data": {
      "text/plain": [
       "['ACCESS-CM2_r1i1p1f1',\n",
       " 'ACCESS-ESM1-5_r2i1p1f1',\n",
       " 'ACCESS-ESM1-5_r3i1p1f1',\n",
       " 'CESM2-WACCM_r1i1p1f1',\n",
       " 'CESM2-WACCM_r2i1p1f1']"
      ]
     },
     "execution_count": 100,
     "metadata": {},
     "output_type": "execute_result"
    }
   ],
   "source": [
    "models_in_groups_in_future_djf[:5]"
   ]
  },
  {
   "cell_type": "code",
   "execution_count": 101,
   "id": "95020956-bd9c-4d16-a7e6-aa91fb0ba04b",
   "metadata": {},
   "outputs": [],
   "source": [
    "multi_r_models_djf = pd.DataFrame()\n",
    "# multi_r_models_mam = pd.DataFrame()\n",
    "# multi_r_models_jja = pd.DataFrame()\n",
    "multi_r_models_son = pd.DataFrame()\n",
    "\n",
    "counter = 0\n",
    "for model_name in model_realisation_counts_djf.keys():\n",
    "    if model_realisation_counts_djf[model_name] > 1 and model_name in sorted_index_by_minimum_error_from_reanalysis_mean_ens_mean_djf:\n",
    "        # print(model_name,  model_realisation_counts[model_name])\n",
    "        all_models_in_group_djf = df_diff_djf.loc[df_diff_djf.index.str.startswith(model_name)].dropna()\n",
    "        # all_models_in_group_mam = df_diff_mam.loc[df_diff_mam.index.str.startswith(model_name)].dropna()\n",
    "        # all_models_in_group_jja = df_diff_jja.loc[df_diff_jja.index.str.startswith(model_name)].dropna()\n",
    "        all_models_in_group_son = df_diff_son.loc[df_diff_son.index.str.startswith(model_name)].dropna()\n",
    "\n",
    "        if counter == 0:\n",
    "            multi_r_models_djf[model_name] = all_models_in_group_djf.values.flatten() # old: .values.flatten()\n",
    "            # multi_r_models_mam[model_name] = all_models_in_group_mam.values.flatten()\n",
    "            # multi_r_models_jja[model_name] = all_models_in_group_jja.values.flatten()\n",
    "            multi_r_models_son[model_name] = all_models_in_group_son.values.flatten() #.mean(axis=1).values\n",
    "        else:\n",
    "            current_mgroup_djf = pd.Series(all_models_in_group_djf.values.flatten() , name=model_name)\n",
    "            multi_r_models_djf = pd.concat([multi_r_models_djf, current_mgroup_djf], axis=1)\n",
    "            \n",
    "#             current_mgroup_mam = pd.Series(all_models_in_group_mam.values.flatten(), name=model_name)\n",
    "#             multi_r_models_mam = pd.concat([multi_r_models_mam, current_mgroup_mam], axis=1)\n",
    "            \n",
    "#             current_mgroup_jja = pd.Series(all_models_in_group_jja.values.flatten(), name=model_name)\n",
    "#             multi_r_models_jja = pd.concat([multi_r_models_jja, current_mgroup_jja], axis=1)\n",
    "            \n",
    "            current_mgroup_son = pd.Series(all_models_in_group_son.values.flatten(), name=model_name)\n",
    "            multi_r_models_son = pd.concat([multi_r_models_son, current_mgroup_son], axis=1)\n",
    "        counter+=1\n",
    "    "
   ]
  },
  {
   "cell_type": "code",
   "execution_count": 102,
   "id": "2fcf8c31-35f0-45aa-89ea-79a21a70b785",
   "metadata": {},
   "outputs": [
    {
     "data": {
      "text/html": [
       "<div>\n",
       "<style scoped>\n",
       "    .dataframe tbody tr th:only-of-type {\n",
       "        vertical-align: middle;\n",
       "    }\n",
       "\n",
       "    .dataframe tbody tr th {\n",
       "        vertical-align: top;\n",
       "    }\n",
       "\n",
       "    .dataframe thead th {\n",
       "        text-align: right;\n",
       "    }\n",
       "</style>\n",
       "<table border=\"1\" class=\"dataframe\">\n",
       "  <thead>\n",
       "    <tr style=\"text-align: right;\">\n",
       "      <th></th>\n",
       "      <th>ACCESS-ESM1-5</th>\n",
       "      <th>CESM2-WACCM</th>\n",
       "      <th>CNRM-CM6-1</th>\n",
       "      <th>CNRM-ESM2-1</th>\n",
       "      <th>CanESM5</th>\n",
       "      <th>HadGEM3-GC31-LL</th>\n",
       "      <th>HadGEM3-GC31-MM</th>\n",
       "      <th>IPSL-CM6A-LR</th>\n",
       "      <th>MIROC-ES2L</th>\n",
       "      <th>UKESM1-0-LL</th>\n",
       "    </tr>\n",
       "  </thead>\n",
       "  <tbody>\n",
       "    <tr>\n",
       "      <th>0</th>\n",
       "      <td>-0.602643</td>\n",
       "      <td>0.869725</td>\n",
       "      <td>1.995679</td>\n",
       "      <td>0.064595</td>\n",
       "      <td>2.634396</td>\n",
       "      <td>-0.020214</td>\n",
       "      <td>1.341278</td>\n",
       "      <td>0.265404</td>\n",
       "      <td>1.470211</td>\n",
       "      <td>-0.037256</td>\n",
       "    </tr>\n",
       "    <tr>\n",
       "      <th>1</th>\n",
       "      <td>-0.536366</td>\n",
       "      <td>0.914458</td>\n",
       "      <td>1.922337</td>\n",
       "      <td>0.092876</td>\n",
       "      <td>2.786439</td>\n",
       "      <td>-0.004519</td>\n",
       "      <td>1.336470</td>\n",
       "      <td>0.290777</td>\n",
       "      <td>1.354102</td>\n",
       "      <td>-0.037488</td>\n",
       "    </tr>\n",
       "    <tr>\n",
       "      <th>2</th>\n",
       "      <td>-0.633901</td>\n",
       "      <td>0.684482</td>\n",
       "      <td>1.747739</td>\n",
       "      <td>-0.272675</td>\n",
       "      <td>2.728611</td>\n",
       "      <td>-0.191545</td>\n",
       "      <td>0.990926</td>\n",
       "      <td>0.151297</td>\n",
       "      <td>1.307204</td>\n",
       "      <td>-0.377858</td>\n",
       "    </tr>\n",
       "    <tr>\n",
       "      <th>3</th>\n",
       "      <td>-0.667853</td>\n",
       "      <td>0.513141</td>\n",
       "      <td>1.389691</td>\n",
       "      <td>0.116126</td>\n",
       "      <td>2.759530</td>\n",
       "      <td>0.009259</td>\n",
       "      <td>1.641956</td>\n",
       "      <td>0.191074</td>\n",
       "      <td>1.786480</td>\n",
       "      <td>-0.111111</td>\n",
       "    </tr>\n",
       "    <tr>\n",
       "      <th>4</th>\n",
       "      <td>-0.708718</td>\n",
       "      <td>0.193365</td>\n",
       "      <td>1.245178</td>\n",
       "      <td>-0.230701</td>\n",
       "      <td>1.874469</td>\n",
       "      <td>-0.404885</td>\n",
       "      <td>0.829989</td>\n",
       "      <td>0.555034</td>\n",
       "      <td>1.197538</td>\n",
       "      <td>-0.320943</td>\n",
       "    </tr>\n",
       "  </tbody>\n",
       "</table>\n",
       "</div>"
      ],
      "text/plain": [
       "   ACCESS-ESM1-5  CESM2-WACCM  CNRM-CM6-1  CNRM-ESM2-1   CanESM5  \\\n",
       "0      -0.602643     0.869725    1.995679     0.064595  2.634396   \n",
       "1      -0.536366     0.914458    1.922337     0.092876  2.786439   \n",
       "2      -0.633901     0.684482    1.747739    -0.272675  2.728611   \n",
       "3      -0.667853     0.513141    1.389691     0.116126  2.759530   \n",
       "4      -0.708718     0.193365    1.245178    -0.230701  1.874469   \n",
       "\n",
       "   HadGEM3-GC31-LL  HadGEM3-GC31-MM  IPSL-CM6A-LR  MIROC-ES2L  UKESM1-0-LL  \n",
       "0        -0.020214         1.341278      0.265404    1.470211    -0.037256  \n",
       "1        -0.004519         1.336470      0.290777    1.354102    -0.037488  \n",
       "2        -0.191545         0.990926      0.151297    1.307204    -0.377858  \n",
       "3         0.009259         1.641956      0.191074    1.786480    -0.111111  \n",
       "4        -0.404885         0.829989      0.555034    1.197538    -0.320943  "
      ]
     },
     "execution_count": 102,
     "metadata": {},
     "output_type": "execute_result"
    }
   ],
   "source": [
    "multi_r_models_djf.head()"
   ]
  },
  {
   "cell_type": "code",
   "execution_count": 103,
   "id": "1a4b281f-6244-4941-8b33-cbe218aa7c1e",
   "metadata": {},
   "outputs": [],
   "source": [
    "## make dataset correct size for plotting\n",
    "model_name_df_djf = pd.DataFrame(df_diff_djf_ens_mean.loc[sorted_index_by_minimum_error_from_reanalysis_mean_ens_mean_djf].T.columns)\n",
    "model_name_df_djf.index= model_name_df_djf[0]\n",
    "model_name_df_djf[0] = np.nan\n",
    "model_name_df_djf = model_name_df_djf.rename(columns={0:'remove_col'})\n",
    "multi_r_models_w_all_models_djf = pd.concat([model_name_df_djf.T, multi_r_models_djf])\n",
    "multi_r_models_w_all_models_djf = multi_r_models_w_all_models_djf.drop('remove_col')\n",
    "\n",
    "# model_name_df_mam = pd.DataFrame(df_diff_mam_ens_mean.loc[sorted_index_by_minimum_error_from_reanalysis_mean_ens_mean_mam].T.columns)\n",
    "# model_name_df_mam.index= model_name_df_mam[0]\n",
    "# model_name_df_mam[0] = np.nan\n",
    "# model_name_df_mam = model_name_df_mam.rename(columns={0:'remove_col'})\n",
    "# multi_r_models_w_all_models_mam = pd.concat([model_name_df_mam.T, multi_r_models_mam])\n",
    "# multi_r_models_w_all_models_mam = multi_r_models_w_all_models_mam.drop('remove_col')\n",
    "\n",
    "# model_name_df_jja = pd.DataFrame(df_diff_jja_ens_mean.loc[sorted_index_by_minimum_error_from_reanalysis_mean_ens_mean_jja].T.columns)\n",
    "# model_name_df_jja.index= model_name_df_jja[0]\n",
    "# model_name_df_jja[0] = np.nan\n",
    "# model_name_df_jja = model_name_df_jja.rename(columns={0:'remove_col'})\n",
    "# multi_r_models_w_all_models_jja = pd.concat([model_name_df_jja.T, multi_r_models_jja])\n",
    "# multi_r_models_w_all_models_jja = multi_r_models_w_all_models_jja.drop('remove_col')\n",
    "\n",
    "model_name_df_son = pd.DataFrame(df_diff_son_ens_mean.loc[sorted_index_by_minimum_error_from_reanalysis_mean_ens_mean_son].T.columns)\n",
    "model_name_df_son.index= model_name_df_son[0]\n",
    "model_name_df_son[0] = np.nan\n",
    "model_name_df_son = model_name_df_son.rename(columns={0:'remove_col'})\n",
    "multi_r_models_w_all_models_son = pd.concat([model_name_df_son.T, multi_r_models_son])\n",
    "multi_r_models_w_all_models_son = multi_r_models_w_all_models_son.drop('remove_col')\n"
   ]
  },
  {
   "cell_type": "code",
   "execution_count": 104,
   "id": "b91d5ec0-964e-4f8c-aa11-aff726f438df",
   "metadata": {},
   "outputs": [
    {
     "data": {
      "text/html": [
       "<div>\n",
       "<style scoped>\n",
       "    .dataframe tbody tr th:only-of-type {\n",
       "        vertical-align: middle;\n",
       "    }\n",
       "\n",
       "    .dataframe tbody tr th {\n",
       "        vertical-align: top;\n",
       "    }\n",
       "\n",
       "    .dataframe thead th {\n",
       "        text-align: right;\n",
       "    }\n",
       "</style>\n",
       "<table border=\"1\" class=\"dataframe\">\n",
       "  <thead>\n",
       "    <tr style=\"text-align: right;\">\n",
       "      <th></th>\n",
       "      <th>HadGEM3-GC31-MM</th>\n",
       "      <th>CESM2-WACCM</th>\n",
       "      <th>CNRM-CM6-1</th>\n",
       "      <th>CNRM-ESM2-1</th>\n",
       "      <th>CMCC-ESM2</th>\n",
       "      <th>INM-CM5-0</th>\n",
       "      <th>EC-Earth3-Veg-LR</th>\n",
       "      <th>UKESM1-0-LL</th>\n",
       "      <th>EC-Earth3-CC</th>\n",
       "      <th>CanESM5</th>\n",
       "      <th>...</th>\n",
       "      <th>TaiESM1</th>\n",
       "      <th>MRI-ESM2-0</th>\n",
       "      <th>KACE-1-0-G</th>\n",
       "      <th>ACCESS-ESM1-5</th>\n",
       "      <th>MIROC6</th>\n",
       "      <th>NorESM2-LM</th>\n",
       "      <th>MIROC-ES2L</th>\n",
       "      <th>FGOALS-g3</th>\n",
       "      <th>ACCESS-CM2</th>\n",
       "      <th>NESM3</th>\n",
       "    </tr>\n",
       "  </thead>\n",
       "  <tbody>\n",
       "    <tr>\n",
       "      <th>0</th>\n",
       "      <td>1.399378</td>\n",
       "      <td>1.263443</td>\n",
       "      <td>2.592142</td>\n",
       "      <td>1.657305</td>\n",
       "      <td>NaN</td>\n",
       "      <td>NaN</td>\n",
       "      <td>NaN</td>\n",
       "      <td>2.256019</td>\n",
       "      <td>NaN</td>\n",
       "      <td>2.074966</td>\n",
       "      <td>...</td>\n",
       "      <td>NaN</td>\n",
       "      <td>NaN</td>\n",
       "      <td>NaN</td>\n",
       "      <td>2.072344</td>\n",
       "      <td>NaN</td>\n",
       "      <td>NaN</td>\n",
       "      <td>-0.213630</td>\n",
       "      <td>NaN</td>\n",
       "      <td>NaN</td>\n",
       "      <td>NaN</td>\n",
       "    </tr>\n",
       "    <tr>\n",
       "      <th>1</th>\n",
       "      <td>1.407281</td>\n",
       "      <td>1.266386</td>\n",
       "      <td>2.665600</td>\n",
       "      <td>1.703410</td>\n",
       "      <td>NaN</td>\n",
       "      <td>NaN</td>\n",
       "      <td>NaN</td>\n",
       "      <td>2.173133</td>\n",
       "      <td>NaN</td>\n",
       "      <td>2.019993</td>\n",
       "      <td>...</td>\n",
       "      <td>NaN</td>\n",
       "      <td>NaN</td>\n",
       "      <td>NaN</td>\n",
       "      <td>2.045568</td>\n",
       "      <td>NaN</td>\n",
       "      <td>NaN</td>\n",
       "      <td>-0.353866</td>\n",
       "      <td>NaN</td>\n",
       "      <td>NaN</td>\n",
       "      <td>NaN</td>\n",
       "    </tr>\n",
       "    <tr>\n",
       "      <th>2</th>\n",
       "      <td>1.396670</td>\n",
       "      <td>1.260469</td>\n",
       "      <td>2.517286</td>\n",
       "      <td>1.821205</td>\n",
       "      <td>NaN</td>\n",
       "      <td>NaN</td>\n",
       "      <td>NaN</td>\n",
       "      <td>2.308926</td>\n",
       "      <td>NaN</td>\n",
       "      <td>2.098670</td>\n",
       "      <td>...</td>\n",
       "      <td>NaN</td>\n",
       "      <td>NaN</td>\n",
       "      <td>NaN</td>\n",
       "      <td>2.180212</td>\n",
       "      <td>NaN</td>\n",
       "      <td>NaN</td>\n",
       "      <td>-0.790194</td>\n",
       "      <td>NaN</td>\n",
       "      <td>NaN</td>\n",
       "      <td>NaN</td>\n",
       "    </tr>\n",
       "    <tr>\n",
       "      <th>3</th>\n",
       "      <td>1.220133</td>\n",
       "      <td>1.462481</td>\n",
       "      <td>2.822051</td>\n",
       "      <td>1.956901</td>\n",
       "      <td>NaN</td>\n",
       "      <td>NaN</td>\n",
       "      <td>NaN</td>\n",
       "      <td>2.083333</td>\n",
       "      <td>NaN</td>\n",
       "      <td>2.180722</td>\n",
       "      <td>...</td>\n",
       "      <td>NaN</td>\n",
       "      <td>NaN</td>\n",
       "      <td>NaN</td>\n",
       "      <td>2.302390</td>\n",
       "      <td>NaN</td>\n",
       "      <td>NaN</td>\n",
       "      <td>0.287268</td>\n",
       "      <td>NaN</td>\n",
       "      <td>NaN</td>\n",
       "      <td>NaN</td>\n",
       "    </tr>\n",
       "    <tr>\n",
       "      <th>4</th>\n",
       "      <td>1.015746</td>\n",
       "      <td>0.826506</td>\n",
       "      <td>2.005340</td>\n",
       "      <td>1.660151</td>\n",
       "      <td>NaN</td>\n",
       "      <td>NaN</td>\n",
       "      <td>NaN</td>\n",
       "      <td>1.700568</td>\n",
       "      <td>NaN</td>\n",
       "      <td>1.575219</td>\n",
       "      <td>...</td>\n",
       "      <td>NaN</td>\n",
       "      <td>NaN</td>\n",
       "      <td>NaN</td>\n",
       "      <td>1.464990</td>\n",
       "      <td>NaN</td>\n",
       "      <td>NaN</td>\n",
       "      <td>0.103674</td>\n",
       "      <td>NaN</td>\n",
       "      <td>NaN</td>\n",
       "      <td>NaN</td>\n",
       "    </tr>\n",
       "  </tbody>\n",
       "</table>\n",
       "<p>5 rows × 29 columns</p>\n",
       "</div>"
      ],
      "text/plain": [
       "   HadGEM3-GC31-MM  CESM2-WACCM  CNRM-CM6-1  CNRM-ESM2-1  CMCC-ESM2  \\\n",
       "0         1.399378     1.263443    2.592142     1.657305        NaN   \n",
       "1         1.407281     1.266386    2.665600     1.703410        NaN   \n",
       "2         1.396670     1.260469    2.517286     1.821205        NaN   \n",
       "3         1.220133     1.462481    2.822051     1.956901        NaN   \n",
       "4         1.015746     0.826506    2.005340     1.660151        NaN   \n",
       "\n",
       "   INM-CM5-0  EC-Earth3-Veg-LR  UKESM1-0-LL  EC-Earth3-CC   CanESM5  ...  \\\n",
       "0        NaN               NaN     2.256019           NaN  2.074966  ...   \n",
       "1        NaN               NaN     2.173133           NaN  2.019993  ...   \n",
       "2        NaN               NaN     2.308926           NaN  2.098670  ...   \n",
       "3        NaN               NaN     2.083333           NaN  2.180722  ...   \n",
       "4        NaN               NaN     1.700568           NaN  1.575219  ...   \n",
       "\n",
       "   TaiESM1  MRI-ESM2-0  KACE-1-0-G  ACCESS-ESM1-5  MIROC6  NorESM2-LM  \\\n",
       "0      NaN         NaN         NaN       2.072344     NaN         NaN   \n",
       "1      NaN         NaN         NaN       2.045568     NaN         NaN   \n",
       "2      NaN         NaN         NaN       2.180212     NaN         NaN   \n",
       "3      NaN         NaN         NaN       2.302390     NaN         NaN   \n",
       "4      NaN         NaN         NaN       1.464990     NaN         NaN   \n",
       "\n",
       "   MIROC-ES2L  FGOALS-g3  ACCESS-CM2  NESM3  \n",
       "0   -0.213630        NaN         NaN    NaN  \n",
       "1   -0.353866        NaN         NaN    NaN  \n",
       "2   -0.790194        NaN         NaN    NaN  \n",
       "3    0.287268        NaN         NaN    NaN  \n",
       "4    0.103674        NaN         NaN    NaN  \n",
       "\n",
       "[5 rows x 29 columns]"
      ]
     },
     "execution_count": 104,
     "metadata": {},
     "output_type": "execute_result"
    }
   ],
   "source": [
    "multi_r_models_w_all_models_son.head()"
   ]
  },
  {
   "cell_type": "code",
   "execution_count": 105,
   "id": "6c4964d1-3758-4b08-a6cd-9af7db707a44",
   "metadata": {},
   "outputs": [],
   "source": [
    "## DROP PROBLEMATIC NESM1"
   ]
  },
  {
   "cell_type": "code",
   "execution_count": 108,
   "id": "f5f0c739-ebed-433a-a81a-cefa55008881",
   "metadata": {},
   "outputs": [],
   "source": [
    "if 'NESM3' in df_diff_son_ens_mean.index:\n",
    "    print('dropping NESM3')\n",
    "    df_diff_djf_ens_mean = df_diff_djf_ens_mean.drop('NESM3')\n",
    "    df_diff_djf_ens_first = df_diff_djf_ens_first.drop('NESM3')\n",
    "    df_diff_djf_ens_median = df_diff_djf_ens_median.drop('NESM3')\n",
    "    df_future_hist_diff_season_by_model = df_future_hist_diff_season_by_model.drop('NESM3_r1i1p1f1')\n",
    "    df_future_hist_diff_season_by_model = df_future_hist_diff_season_by_model.drop('NESM3_r2i1p1f1')\n",
    "    djf_hist_and_future_mean_diffs_w_mean_ensemble_means = djf_hist_and_future_mean_diffs_w_mean_ensemble_means.drop('NESM3')\n",
    "    multi_r_models_w_all_models_djf = multi_r_models_w_all_models_djf.drop('NESM3', axis=1)\n",
    "    sorted_index_by_minimum_error_from_reanalysis_mean_ens_mean_djf = sorted_index_by_minimum_error_from_reanalysis_mean_ens_mean_djf.drop('NESM3')\n",
    "\n",
    "#     df_diff_mam_ens_mean = df_diff_mam_ens_mean.drop('NESM3')\n",
    "#     df_diff_mam_ens_first = df_diff_mam_ens_first.drop('NESM3')\n",
    "#     mam_hist_and_future_mean_diffs_w_mean_ensemble_means = mam_hist_and_future_mean_diffs_w_mean_ensemble_means.drop('NESM3')\n",
    "#     multi_r_models_w_all_models_mam = multi_r_models_w_all_models_mam.drop('NESM3', axis=1)\n",
    "#     sorted_index_by_minimum_error_from_reanalysis_mean_ens_mean_mam = sorted_index_by_minimum_error_from_reanalysis_mean_ens_mean_mam.drop('NESM3')\n",
    "    \n",
    "#     df_diff_jja_ens_mean = df_diff_jja_ens_mean.drop('NESM3')\n",
    "#     df_diff_jja_ens_first = df_diff_jja_ens_first.drop('NESM3')\n",
    "#     jja_hist_and_future_mean_diffs_w_mean_ensemble_means = jja_hist_and_future_mean_diffs_w_mean_ensemble_means.drop('NESM3')\n",
    "#     multi_r_models_w_all_models_jja = multi_r_models_w_all_models_jja.drop('NESM3', axis=1)\n",
    "#     sorted_index_by_minimum_error_from_reanalysis_mean_ens_mean_jja = sorted_index_by_minimum_error_from_reanalysis_mean_ens_mean_jja.drop('NESM3')\n",
    "    \n",
    "    df_diff_son_ens_mean = df_diff_son_ens_mean.drop('NESM3')\n",
    "    df_diff_son_ens_first = df_diff_son_ens_first.drop('NESM3')\n",
    "    son_hist_and_future_mean_diffs_w_mean_ensemble_means = son_hist_and_future_mean_diffs_w_mean_ensemble_means.drop('NESM3')\n",
    "    multi_r_models_w_all_models_son = multi_r_models_w_all_models_son.drop('NESM3', axis=1)\n",
    "    sorted_index_by_minimum_error_from_reanalysis_mean_ens_mean_son = sorted_index_by_minimum_error_from_reanalysis_mean_ens_mean_son.drop('NESM3')"
   ]
  },
  {
   "cell_type": "code",
   "execution_count": 109,
   "id": "b5dd285e-cbad-494c-8bf7-7de802a58d6e",
   "metadata": {},
   "outputs": [],
   "source": [
    "mean_order_djf = df_diff_djf_ens_mean.mean(axis=1).sort_values(ascending=False).dropna()\n",
    "mean_order_son = df_diff_son_ens_mean.mean(axis=1).sort_values(ascending=False).dropna()"
   ]
  },
  {
   "cell_type": "code",
   "execution_count": 110,
   "id": "28ae0813-da98-4a72-9f5a-a439786d41cf",
   "metadata": {},
   "outputs": [],
   "source": [
    "# add number to each model name column\n",
    "# df_diff_djf_ens_mean_with_groupcount = df_diff_djf_ens_mean.copy()\n",
    "sorted_models_with_group_count_djf = []\n",
    "sorted_models_with_group_count_mam = []\n",
    "sorted_models_with_group_count_jja = []\n",
    "sorted_models_with_group_count_son = []\n",
    "\n",
    "for model_name in mean_order_djf.index:\n",
    "    if model_realisation_counts_djf[model_name] > 1:\n",
    "        sorted_models_with_group_count_djf.append(f'{model_name} ({model_realisation_counts_djf[model_name]})')\n",
    "    else:\n",
    "        sorted_models_with_group_count_djf.append(model_name)\n",
    "        \n",
    "        \n",
    "# for model_name in df_diff_mam_ens_mean.loc[sorted_index_by_minimum_error_from_reanalysis_mean_ens_mean_mam].index:\n",
    "#     if model_realisation_counts_mam[model_name] > 1:\n",
    "#         sorted_models_with_group_count_mam.append(f'{model_name} ({model_realisation_counts_mam[model_name]})')\n",
    "#     else:\n",
    "#         sorted_models_with_group_count_mam.append(model_name)\n",
    "        \n",
    "        \n",
    "# for model_name in df_diff_jja_ens_mean.loc[sorted_index_by_minimum_error_from_reanalysis_mean_ens_mean_jja].index:\n",
    "#     if model_realisation_counts_jja[model_name] > 1:\n",
    "#         sorted_models_with_group_count_jja.append(f'{model_name} ({model_realisation_counts_jja[model_name]})')\n",
    "#     else:\n",
    "#         sorted_models_with_group_count_jja.append(model_name)\n",
    "        \n",
    "        \n",
    "for model_name in mean_order_son.index:\n",
    "    if model_realisation_counts_son[model_name] > 1:\n",
    "        sorted_models_with_group_count_son.append(f'{model_name} ({model_realisation_counts_son[model_name]})')\n",
    "    else:\n",
    "        sorted_models_with_group_count_son.append(model_name)"
   ]
  },
  {
   "cell_type": "code",
   "execution_count": 111,
   "id": "88df66ee-d8c8-4109-8644-1119ed9539be",
   "metadata": {},
   "outputs": [],
   "source": [
    "## SEASON TO LOOK AT\n",
    "df_diff_ens_mean = df_diff_djf_ens_mean\n",
    "sorted_index_by_minimum_error_from_reanalysis_mean_ens_mean = sorted_index_by_minimum_error_from_reanalysis_mean_ens_mean_djf\n",
    "season_hist_and_future_mean_diffs_w_mean_ensemble_means = djf_hist_and_future_mean_diffs_w_mean_ensemble_means\n",
    "multi_r_models_w_all_models = multi_r_models_w_all_models_djf\n",
    "sorted_models_with_group_count = sorted_models_with_group_count_djf\n",
    "color_to_use = 'C0'\n",
    "season_name = 'djf'"
   ]
  },
  {
   "cell_type": "code",
   "execution_count": 112,
   "id": "188e5411-ffa2-4392-a199-df58da5c4cf1",
   "metadata": {},
   "outputs": [],
   "source": [
    "# df_diff_djf_ens_first.to_csv('outputs/1st_realisation_djf.csv')\n",
    "# df_diff_son_ens_first.to_csv('outputs/1st_realisation_son.csv')"
   ]
  },
  {
   "cell_type": "code",
   "execution_count": 113,
   "id": "d6bcd0db-2d42-45f9-b389-c2b64144c89e",
   "metadata": {},
   "outputs": [
    {
     "data": {
      "text/plain": [
       "Index(['TaiESM1', 'NorESM2-LM', 'CanESM5', 'KACE-1-0-G', 'EC-Earth3',\n",
       "       'CESM2-WACCM', 'CNRM-ESM2-1', 'ACCESS-ESM1-5', 'HadGEM3-GC31-LL',\n",
       "       'NorESM2-MM', 'MPI-ESM1-2-LR', 'EC-Earth3-Veg-LR', 'UKESM1-0-LL',\n",
       "       'CNRM-CM6-1', 'MPI-ESM1-2-HR', 'CMCC-ESM2', 'ACCESS-CM2', 'INM-CM5-0',\n",
       "       'EC-Earth3-CC', 'CMCC-CM2-SR5', 'HadGEM3-GC31-MM', 'IPSL-CM6A-LR',\n",
       "       'FGOALS-g3', 'GFDL-CM4', 'MIROC6', 'MRI-ESM2-0', 'MIROC-ES2L',\n",
       "       'INM-CM4-8'],\n",
       "      dtype='object')"
      ]
     },
     "execution_count": 113,
     "metadata": {},
     "output_type": "execute_result"
    }
   ],
   "source": [
    "sorted_index_by_minimum_error_from_reanalysis_mean_ens_mean"
   ]
  },
  {
   "cell_type": "code",
   "execution_count": 114,
   "id": "3ae74346-8153-46ab-ba7e-9ac9811ac1c0",
   "metadata": {},
   "outputs": [
    {
     "data": {
      "text/plain": [
       "NorESM2-LM       0.094713\n",
       "CanESM5          0.136934\n",
       "CMCC-CM2-SR5    -1.345543\n",
       "MPI-ESM1-2-LR   -0.491424\n",
       "NorESM2-MM      -0.487289\n",
       "dtype: float64"
      ]
     },
     "execution_count": 114,
     "metadata": {},
     "output_type": "execute_result"
    }
   ],
   "source": [
    "similiarity_scores_djf = (djf_hist_where_proj_also_vals_ens_means - djf_all_rean_mean.mean()).mean(axis=1)[mean_order_djf.index]\n",
    "similiarity_scores_son = (son_hist_where_proj_also_vals_ens_means - son_all_rean_mean.mean()).mean(axis=1)[mean_order_son.index]\n",
    "\n",
    "similiarity_scores_djf.head(5)"
   ]
  },
  {
   "cell_type": "code",
   "execution_count": 115,
   "id": "384ed1b8-1578-4945-ba91-f373f22d30b6",
   "metadata": {},
   "outputs": [
    {
     "data": {
      "text/plain": [
       "(-3.51021342146144, 4.161582150166356, -2.3609768020935036, 1.406388450620927)"
      ]
     },
     "execution_count": 115,
     "metadata": {},
     "output_type": "execute_result"
    }
   ],
   "source": [
    "similiarity_scores_djf.min(), similiarity_scores_djf.max(), similiarity_scores_son.min(), similiarity_scores_son.max()"
   ]
  },
  {
   "cell_type": "code",
   "execution_count": 116,
   "id": "becc9edb-7c55-4da4-98e6-87e078a42e11",
   "metadata": {},
   "outputs": [],
   "source": [
    "rbr_cmap = plt.cm.coolwarm\n",
    "# needed to set 0 as middle\n",
    "norm_djf = matplotlib.colors.Normalize(vmin=-similiarity_scores_djf.max(),  vmax=similiarity_scores_djf.max())\n",
    "norm_son = matplotlib.colors.Normalize(vmin=similiarity_scores_son.min(),  vmax=abs(similiarity_scores_son.min()))"
   ]
  },
  {
   "cell_type": "code",
   "execution_count": 117,
   "id": "ea652109-160b-46fb-9479-34c9ab1b931c",
   "metadata": {},
   "outputs": [
    {
     "name": "stderr",
     "output_type": "stream",
     "text": [
      "/tmp/ipykernel_29558/3630765119.py:9: UserWarning: set_ticklabels() should only be used with a fixed number of ticks, i.e. after set_ticks() or using a FixedLocator.\n",
      "  cbar.ax.set_xticklabels(ticklabs, fontsize=16);\n"
     ]
    },
    {
     "data": {
      "text/plain": [
       "Text(-3.7, 0.38, 'Equatorward')"
      ]
     },
     "execution_count": 117,
     "metadata": {},
     "output_type": "execute_result"
    },
    {
     "data": {
      "image/png": "[encoded data removed]",
      "text/plain": [
       "<Figure size 800x100 with 1 Axes>"
      ]
     },
     "metadata": {},
     "output_type": "display_data"
    }
   ],
   "source": [
    "fig, ax = plt.subplots(1, figsize=(8, 1))\n",
    "# sns.pointplot(df_diff_djf_ens_mean.T[mean_order.index], palette=rbr_cmap(norm(similiarity_scores_djf)), capsize=.3, estimator='mean', errorbar=errorbar_to_use,\\\n",
    "#               markers = '_', errwidth=1.5, ax=axes[0], join=False);\n",
    "# ax.figure.colorbar(sm)\n",
    "cbar = fig.colorbar(matplotlib.cm.ScalarMappable(norm=norm_djf, cmap=rbr_cmap),\n",
    "             cax=ax, orientation='horizontal', label='Similarity to Reanalysis')\n",
    "cbar.ax.set_xlabel('Difference from reanalysis sets $(^{\\circ}N)$', size=17)\n",
    "ticklabs = cbar.ax.get_xticklabels();\n",
    "cbar.ax.set_xticklabels(ticklabs, fontsize=16);\n",
    "cbar.ax.text(s=\"Poleward\", x=2, y=0.38, size=20, color='white')\n",
    "cbar.ax.text(s=\"Equatorward\", x=-3.7, y=0.38, size=20, color='white')\n",
    "# fig.savefig('figures/figure_4_cbar.png', bbox_inches='tight', dpi=150)"
   ]
  },
  {
   "cell_type": "code",
   "execution_count": 118,
   "id": "b1b84c84-2bfa-46de-a58e-ea11633fd651",
   "metadata": {},
   "outputs": [],
   "source": [
    "cmap_norm = norm_djf # norm_son"
   ]
  },
  {
   "cell_type": "code",
   "execution_count": 119,
   "id": "1ef628f8-0ce0-4a7c-bccf-6e6c0e0b7a1a",
   "metadata": {},
   "outputs": [
    {
     "data": {
      "text/html": [
       "<div>\n",
       "<style scoped>\n",
       "    .dataframe tbody tr th:only-of-type {\n",
       "        vertical-align: middle;\n",
       "    }\n",
       "\n",
       "    .dataframe tbody tr th {\n",
       "        vertical-align: top;\n",
       "    }\n",
       "\n",
       "    .dataframe thead th {\n",
       "        text-align: right;\n",
       "    }\n",
       "</style>\n",
       "<table border=\"1\" class=\"dataframe\">\n",
       "  <thead>\n",
       "    <tr style=\"text-align: right;\">\n",
       "      <th></th>\n",
       "      <th>Woollings et al. 2010</th>\n",
       "      <th>Barnes &amp; Polvani 2013</th>\n",
       "      <th>Grise &amp; Polvani 2014</th>\n",
       "      <th>Barnes &amp; Simpson 2017</th>\n",
       "      <th>Zappa et al. 2018</th>\n",
       "      <th>Kerr et al. 2020</th>\n",
       "    </tr>\n",
       "  </thead>\n",
       "  <tbody>\n",
       "    <tr>\n",
       "      <th>ACCESS-CM2</th>\n",
       "      <td>0.418530</td>\n",
       "      <td>0.410777</td>\n",
       "      <td>0.391282</td>\n",
       "      <td>0.260541</td>\n",
       "      <td>0.241211</td>\n",
       "      <td>-0.029816</td>\n",
       "    </tr>\n",
       "    <tr>\n",
       "      <th>ACCESS-ESM1-5</th>\n",
       "      <td>-0.176503</td>\n",
       "      <td>-0.158082</td>\n",
       "      <td>-0.145846</td>\n",
       "      <td>-0.029541</td>\n",
       "      <td>-0.332258</td>\n",
       "      <td>-0.170983</td>\n",
       "    </tr>\n",
       "    <tr>\n",
       "      <th>CESM2-WACCM</th>\n",
       "      <td>1.193215</td>\n",
       "      <td>1.182625</td>\n",
       "      <td>0.956946</td>\n",
       "      <td>1.092540</td>\n",
       "      <td>0.678953</td>\n",
       "      <td>0.336195</td>\n",
       "    </tr>\n",
       "    <tr>\n",
       "      <th>CMCC-CM2-SR5</th>\n",
       "      <td>2.421246</td>\n",
       "      <td>2.362236</td>\n",
       "      <td>2.240259</td>\n",
       "      <td>1.951196</td>\n",
       "      <td>1.258366</td>\n",
       "      <td>1.336146</td>\n",
       "    </tr>\n",
       "    <tr>\n",
       "      <th>CMCC-ESM2</th>\n",
       "      <td>1.066681</td>\n",
       "      <td>1.120054</td>\n",
       "      <td>1.054267</td>\n",
       "      <td>1.019244</td>\n",
       "      <td>0.663229</td>\n",
       "      <td>0.621949</td>\n",
       "    </tr>\n",
       "    <tr>\n",
       "      <th>CNRM-CM6-1</th>\n",
       "      <td>0.826252</td>\n",
       "      <td>0.814204</td>\n",
       "      <td>0.730786</td>\n",
       "      <td>0.823811</td>\n",
       "      <td>0.458317</td>\n",
       "      <td>0.307420</td>\n",
       "    </tr>\n",
       "    <tr>\n",
       "      <th>CNRM-ESM2-1</th>\n",
       "      <td>-0.102633</td>\n",
       "      <td>-0.102008</td>\n",
       "      <td>-0.206383</td>\n",
       "      <td>-0.280796</td>\n",
       "      <td>-0.285648</td>\n",
       "      <td>-0.025228</td>\n",
       "    </tr>\n",
       "    <tr>\n",
       "      <th>CanESM5</th>\n",
       "      <td>2.186366</td>\n",
       "      <td>2.193498</td>\n",
       "      <td>2.123775</td>\n",
       "      <td>2.325458</td>\n",
       "      <td>1.574990</td>\n",
       "      <td>1.622582</td>\n",
       "    </tr>\n",
       "    <tr>\n",
       "      <th>EC-Earth3</th>\n",
       "      <td>2.003799</td>\n",
       "      <td>1.940024</td>\n",
       "      <td>1.800987</td>\n",
       "      <td>1.618012</td>\n",
       "      <td>1.373113</td>\n",
       "      <td>0.971775</td>\n",
       "    </tr>\n",
       "    <tr>\n",
       "      <th>EC-Earth3-CC</th>\n",
       "      <td>1.808228</td>\n",
       "      <td>1.725528</td>\n",
       "      <td>1.768452</td>\n",
       "      <td>2.296878</td>\n",
       "      <td>1.613416</td>\n",
       "      <td>1.183076</td>\n",
       "    </tr>\n",
       "    <tr>\n",
       "      <th>EC-Earth3-Veg-LR</th>\n",
       "      <td>0.970661</td>\n",
       "      <td>0.950933</td>\n",
       "      <td>0.841585</td>\n",
       "      <td>1.442035</td>\n",
       "      <td>0.831181</td>\n",
       "      <td>0.325423</td>\n",
       "    </tr>\n",
       "    <tr>\n",
       "      <th>FGOALS-g3</th>\n",
       "      <td>-0.131950</td>\n",
       "      <td>-0.121818</td>\n",
       "      <td>-0.497541</td>\n",
       "      <td>-0.457675</td>\n",
       "      <td>-0.866680</td>\n",
       "      <td>-0.763126</td>\n",
       "    </tr>\n",
       "    <tr>\n",
       "      <th>GFDL-CM4</th>\n",
       "      <td>1.327549</td>\n",
       "      <td>1.364500</td>\n",
       "      <td>0.902233</td>\n",
       "      <td>1.007407</td>\n",
       "      <td>0.791334</td>\n",
       "      <td>0.512593</td>\n",
       "    </tr>\n",
       "    <tr>\n",
       "      <th>HadGEM3-GC31-LL</th>\n",
       "      <td>-0.301068</td>\n",
       "      <td>-0.292521</td>\n",
       "      <td>-0.655842</td>\n",
       "      <td>-0.052083</td>\n",
       "      <td>-0.580807</td>\n",
       "      <td>-0.563354</td>\n",
       "    </tr>\n",
       "    <tr>\n",
       "      <th>HadGEM3-GC31-MM</th>\n",
       "      <td>1.604447</td>\n",
       "      <td>1.639822</td>\n",
       "      <td>1.360978</td>\n",
       "      <td>1.764380</td>\n",
       "      <td>1.058233</td>\n",
       "      <td>0.964860</td>\n",
       "    </tr>\n",
       "    <tr>\n",
       "      <th>INM-CM4-8</th>\n",
       "      <td>1.007266</td>\n",
       "      <td>0.997386</td>\n",
       "      <td>1.072633</td>\n",
       "      <td>0.622222</td>\n",
       "      <td>0.704142</td>\n",
       "      <td>0.592750</td>\n",
       "    </tr>\n",
       "    <tr>\n",
       "      <th>INM-CM5-0</th>\n",
       "      <td>0.741423</td>\n",
       "      <td>0.768490</td>\n",
       "      <td>0.981789</td>\n",
       "      <td>0.944444</td>\n",
       "      <td>0.701218</td>\n",
       "      <td>0.803379</td>\n",
       "    </tr>\n",
       "    <tr>\n",
       "      <th>IPSL-CM6A-LR</th>\n",
       "      <td>0.542749</td>\n",
       "      <td>0.542422</td>\n",
       "      <td>0.327993</td>\n",
       "      <td>0.405260</td>\n",
       "      <td>0.244363</td>\n",
       "      <td>0.103188</td>\n",
       "    </tr>\n",
       "    <tr>\n",
       "      <th>KACE-1-0-G</th>\n",
       "      <td>-0.139727</td>\n",
       "      <td>-0.171618</td>\n",
       "      <td>-0.311243</td>\n",
       "      <td>0.222222</td>\n",
       "      <td>-0.052587</td>\n",
       "      <td>-0.227086</td>\n",
       "    </tr>\n",
       "    <tr>\n",
       "      <th>MIROC-ES2L</th>\n",
       "      <td>1.309117</td>\n",
       "      <td>1.264752</td>\n",
       "      <td>1.121908</td>\n",
       "      <td>1.577098</td>\n",
       "      <td>1.076080</td>\n",
       "      <td>0.818954</td>\n",
       "    </tr>\n",
       "    <tr>\n",
       "      <th>MIROC6</th>\n",
       "      <td>1.695022</td>\n",
       "      <td>1.678699</td>\n",
       "      <td>1.279586</td>\n",
       "      <td>1.161107</td>\n",
       "      <td>1.041998</td>\n",
       "      <td>0.612709</td>\n",
       "    </tr>\n",
       "    <tr>\n",
       "      <th>MPI-ESM1-2-HR</th>\n",
       "      <td>1.052072</td>\n",
       "      <td>1.038739</td>\n",
       "      <td>1.024038</td>\n",
       "      <td>1.312132</td>\n",
       "      <td>0.986648</td>\n",
       "      <td>0.492960</td>\n",
       "    </tr>\n",
       "    <tr>\n",
       "      <th>MPI-ESM1-2-LR</th>\n",
       "      <td>1.933694</td>\n",
       "      <td>1.913207</td>\n",
       "      <td>1.614108</td>\n",
       "      <td>2.183119</td>\n",
       "      <td>1.495823</td>\n",
       "      <td>1.526881</td>\n",
       "    </tr>\n",
       "    <tr>\n",
       "      <th>MRI-ESM2-0</th>\n",
       "      <td>1.838315</td>\n",
       "      <td>1.815476</td>\n",
       "      <td>2.057034</td>\n",
       "      <td>1.941635</td>\n",
       "      <td>1.375106</td>\n",
       "      <td>1.420129</td>\n",
       "    </tr>\n",
       "    <tr>\n",
       "      <th>NorESM2-LM</th>\n",
       "      <td>2.874520</td>\n",
       "      <td>2.878904</td>\n",
       "      <td>2.908811</td>\n",
       "      <td>2.603481</td>\n",
       "      <td>2.377864</td>\n",
       "      <td>2.322970</td>\n",
       "    </tr>\n",
       "    <tr>\n",
       "      <th>NorESM2-MM</th>\n",
       "      <td>1.499976</td>\n",
       "      <td>1.479483</td>\n",
       "      <td>1.430204</td>\n",
       "      <td>1.759178</td>\n",
       "      <td>3.052320</td>\n",
       "      <td>1.346715</td>\n",
       "    </tr>\n",
       "    <tr>\n",
       "      <th>TaiESM1</th>\n",
       "      <td>0.167013</td>\n",
       "      <td>0.238674</td>\n",
       "      <td>-0.058241</td>\n",
       "      <td>0.541022</td>\n",
       "      <td>-0.286828</td>\n",
       "      <td>-0.420526</td>\n",
       "    </tr>\n",
       "    <tr>\n",
       "      <th>UKESM1-0-LL</th>\n",
       "      <td>-0.548451</td>\n",
       "      <td>-0.569182</td>\n",
       "      <td>-0.796898</td>\n",
       "      <td>-0.144290</td>\n",
       "      <td>-0.715611</td>\n",
       "      <td>-0.669977</td>\n",
       "    </tr>\n",
       "  </tbody>\n",
       "</table>\n",
       "</div>"
      ],
      "text/plain": [
       "                  Woollings et al. 2010  Barnes & Polvani 2013  \\\n",
       "ACCESS-CM2                     0.418530               0.410777   \n",
       "ACCESS-ESM1-5                 -0.176503              -0.158082   \n",
       "CESM2-WACCM                    1.193215               1.182625   \n",
       "CMCC-CM2-SR5                   2.421246               2.362236   \n",
       "CMCC-ESM2                      1.066681               1.120054   \n",
       "CNRM-CM6-1                     0.826252               0.814204   \n",
       "CNRM-ESM2-1                   -0.102633              -0.102008   \n",
       "CanESM5                        2.186366               2.193498   \n",
       "EC-Earth3                      2.003799               1.940024   \n",
       "EC-Earth3-CC                   1.808228               1.725528   \n",
       "EC-Earth3-Veg-LR               0.970661               0.950933   \n",
       "FGOALS-g3                     -0.131950              -0.121818   \n",
       "GFDL-CM4                       1.327549               1.364500   \n",
       "HadGEM3-GC31-LL               -0.301068              -0.292521   \n",
       "HadGEM3-GC31-MM                1.604447               1.639822   \n",
       "INM-CM4-8                      1.007266               0.997386   \n",
       "INM-CM5-0                      0.741423               0.768490   \n",
       "IPSL-CM6A-LR                   0.542749               0.542422   \n",
       "KACE-1-0-G                    -0.139727              -0.171618   \n",
       "MIROC-ES2L                     1.309117               1.264752   \n",
       "MIROC6                         1.695022               1.678699   \n",
       "MPI-ESM1-2-HR                  1.052072               1.038739   \n",
       "MPI-ESM1-2-LR                  1.933694               1.913207   \n",
       "MRI-ESM2-0                     1.838315               1.815476   \n",
       "NorESM2-LM                     2.874520               2.878904   \n",
       "NorESM2-MM                     1.499976               1.479483   \n",
       "TaiESM1                        0.167013               0.238674   \n",
       "UKESM1-0-LL                   -0.548451              -0.569182   \n",
       "\n",
       "                  Grise & Polvani 2014  Barnes & Simpson 2017  \\\n",
       "ACCESS-CM2                    0.391282               0.260541   \n",
       "ACCESS-ESM1-5                -0.145846              -0.029541   \n",
       "CESM2-WACCM                   0.956946               1.092540   \n",
       "CMCC-CM2-SR5                  2.240259               1.951196   \n",
       "CMCC-ESM2                     1.054267               1.019244   \n",
       "CNRM-CM6-1                    0.730786               0.823811   \n",
       "CNRM-ESM2-1                  -0.206383              -0.280796   \n",
       "CanESM5                       2.123775               2.325458   \n",
       "EC-Earth3                     1.800987               1.618012   \n",
       "EC-Earth3-CC                  1.768452               2.296878   \n",
       "EC-Earth3-Veg-LR              0.841585               1.442035   \n",
       "FGOALS-g3                    -0.497541              -0.457675   \n",
       "GFDL-CM4                      0.902233               1.007407   \n",
       "HadGEM3-GC31-LL              -0.655842              -0.052083   \n",
       "HadGEM3-GC31-MM               1.360978               1.764380   \n",
       "INM-CM4-8                     1.072633               0.622222   \n",
       "INM-CM5-0                     0.981789               0.944444   \n",
       "IPSL-CM6A-LR                  0.327993               0.405260   \n",
       "KACE-1-0-G                   -0.311243               0.222222   \n",
       "MIROC-ES2L                    1.121908               1.577098   \n",
       "MIROC6                        1.279586               1.161107   \n",
       "MPI-ESM1-2-HR                 1.024038               1.312132   \n",
       "MPI-ESM1-2-LR                 1.614108               2.183119   \n",
       "MRI-ESM2-0                    2.057034               1.941635   \n",
       "NorESM2-LM                    2.908811               2.603481   \n",
       "NorESM2-MM                    1.430204               1.759178   \n",
       "TaiESM1                      -0.058241               0.541022   \n",
       "UKESM1-0-LL                  -0.796898              -0.144290   \n",
       "\n",
       "                  Zappa et al. 2018  Kerr et al. 2020  \n",
       "ACCESS-CM2                 0.241211         -0.029816  \n",
       "ACCESS-ESM1-5             -0.332258         -0.170983  \n",
       "CESM2-WACCM                0.678953          0.336195  \n",
       "CMCC-CM2-SR5               1.258366          1.336146  \n",
       "CMCC-ESM2                  0.663229          0.621949  \n",
       "CNRM-CM6-1                 0.458317          0.307420  \n",
       "CNRM-ESM2-1               -0.285648         -0.025228  \n",
       "CanESM5                    1.574990          1.622582  \n",
       "EC-Earth3                  1.373113          0.971775  \n",
       "EC-Earth3-CC               1.613416          1.183076  \n",
       "EC-Earth3-Veg-LR           0.831181          0.325423  \n",
       "FGOALS-g3                 -0.866680         -0.763126  \n",
       "GFDL-CM4                   0.791334          0.512593  \n",
       "HadGEM3-GC31-LL           -0.580807         -0.563354  \n",
       "HadGEM3-GC31-MM            1.058233          0.964860  \n",
       "INM-CM4-8                  0.704142          0.592750  \n",
       "INM-CM5-0                  0.701218          0.803379  \n",
       "IPSL-CM6A-LR               0.244363          0.103188  \n",
       "KACE-1-0-G                -0.052587         -0.227086  \n",
       "MIROC-ES2L                 1.076080          0.818954  \n",
       "MIROC6                     1.041998          0.612709  \n",
       "MPI-ESM1-2-HR              0.986648          0.492960  \n",
       "MPI-ESM1-2-LR              1.495823          1.526881  \n",
       "MRI-ESM2-0                 1.375106          1.420129  \n",
       "NorESM2-LM                 2.377864          2.322970  \n",
       "NorESM2-MM                 3.052320          1.346715  \n",
       "TaiESM1                   -0.286828         -0.420526  \n",
       "UKESM1-0-LL               -0.715611         -0.669977  "
      ]
     },
     "execution_count": 119,
     "metadata": {},
     "output_type": "execute_result"
    }
   ],
   "source": [
    "df_diff_ens_mean.loc[season_hist_and_future_mean_diffs_w_mean_ensemble_means.index]"
   ]
  },
  {
   "cell_type": "code",
   "execution_count": 120,
   "id": "685d364c-f2a0-4e35-942e-2df11f186691",
   "metadata": {},
   "outputs": [
    {
     "data": {
      "text/html": [
       "<div>\n",
       "<style scoped>\n",
       "    .dataframe tbody tr th:only-of-type {\n",
       "        vertical-align: middle;\n",
       "    }\n",
       "\n",
       "    .dataframe tbody tr th {\n",
       "        vertical-align: top;\n",
       "    }\n",
       "\n",
       "    .dataframe thead th {\n",
       "        text-align: right;\n",
       "    }\n",
       "</style>\n",
       "<table border=\"1\" class=\"dataframe\">\n",
       "  <thead>\n",
       "    <tr style=\"text-align: right;\">\n",
       "      <th></th>\n",
       "      <th>Annual mean</th>\n",
       "      <th>DJF</th>\n",
       "      <th>MAM</th>\n",
       "      <th>JJA</th>\n",
       "      <th>SON</th>\n",
       "    </tr>\n",
       "  </thead>\n",
       "  <tbody>\n",
       "    <tr>\n",
       "      <th>0.025</th>\n",
       "      <td>-0.422469</td>\n",
       "      <td>-0.689745</td>\n",
       "      <td>-0.667115</td>\n",
       "      <td>-2.166591</td>\n",
       "      <td>-0.250626</td>\n",
       "    </tr>\n",
       "    <tr>\n",
       "      <th>0.975</th>\n",
       "      <td>1.926078</td>\n",
       "      <td>2.606639</td>\n",
       "      <td>2.097084</td>\n",
       "      <td>2.310160</td>\n",
       "      <td>2.625023</td>\n",
       "    </tr>\n",
       "  </tbody>\n",
       "</table>\n",
       "</div>"
      ],
      "text/plain": [
       "       Annual mean       DJF       MAM       JJA       SON\n",
       "0.025    -0.422469 -0.689745 -0.667115 -2.166591 -0.250626\n",
       "0.975     1.926078  2.606639  2.097084  2.310160  2.625023"
      ]
     },
     "execution_count": 120,
     "metadata": {},
     "output_type": "execute_result"
    }
   ],
   "source": [
    "df_future_hist_diff_season_by_model[[\"Annual mean\", 'DJF', 'MAM', 'JJA', 'SON']].dropna().quantile([0.025, 0.975])"
   ]
  },
  {
   "cell_type": "code",
   "execution_count": 121,
   "id": "2a605b28-d5c7-48d5-b84d-8d21ad78db33",
   "metadata": {},
   "outputs": [
    {
     "data": {
      "text/plain": [
       "0.8872069009035691"
      ]
     },
     "execution_count": 121,
     "metadata": {},
     "output_type": "execute_result"
    }
   ],
   "source": [
    "df_diff_ens_mean.loc[season_hist_and_future_mean_diffs_w_mean_ensemble_means.index].mean().mean()"
   ]
  },
  {
   "cell_type": "code",
   "execution_count": 141,
   "id": "567e5ea4-711b-4c71-8aa1-fcf1ee0f2dee",
   "metadata": {},
   "outputs": [
    {
     "data": {
      "text/html": [
       "<div>\n",
       "<style scoped>\n",
       "    .dataframe tbody tr th:only-of-type {\n",
       "        vertical-align: middle;\n",
       "    }\n",
       "\n",
       "    .dataframe tbody tr th {\n",
       "        vertical-align: top;\n",
       "    }\n",
       "\n",
       "    .dataframe thead th {\n",
       "        text-align: right;\n",
       "    }\n",
       "</style>\n",
       "<table border=\"1\" class=\"dataframe\">\n",
       "  <thead>\n",
       "    <tr style=\"text-align: right;\">\n",
       "      <th></th>\n",
       "      <th>Woollings et al. 2010</th>\n",
       "      <th>Barnes &amp; Polvani 2013</th>\n",
       "      <th>Grise &amp; Polvani 2014</th>\n",
       "      <th>Barnes &amp; Simpson 2017</th>\n",
       "      <th>Zappa et al. 2018</th>\n",
       "      <th>Kerr et al. 2020</th>\n",
       "    </tr>\n",
       "  </thead>\n",
       "  <tbody>\n",
       "    <tr>\n",
       "      <th>0.025</th>\n",
       "      <td>-0.381467</td>\n",
       "      <td>-0.382436</td>\n",
       "      <td>-0.701685</td>\n",
       "      <td>-0.338282</td>\n",
       "      <td>-0.764709</td>\n",
       "      <td>-0.700251</td>\n",
       "    </tr>\n",
       "    <tr>\n",
       "      <th>0.975</th>\n",
       "      <td>2.568560</td>\n",
       "      <td>2.530153</td>\n",
       "      <td>2.457539</td>\n",
       "      <td>2.415815</td>\n",
       "      <td>2.597062</td>\n",
       "      <td>1.850208</td>\n",
       "    </tr>\n",
       "  </tbody>\n",
       "</table>\n",
       "</div>"
      ],
      "text/plain": [
       "       Woollings et al. 2010  Barnes & Polvani 2013  Grise & Polvani 2014  \\\n",
       "0.025              -0.381467              -0.382436             -0.701685   \n",
       "0.975               2.568560               2.530153              2.457539   \n",
       "\n",
       "       Barnes & Simpson 2017  Zappa et al. 2018  Kerr et al. 2020  \n",
       "0.025              -0.338282          -0.764709         -0.700251  \n",
       "0.975               2.415815           2.597062          1.850208  "
      ]
     },
     "execution_count": 141,
     "metadata": {},
     "output_type": "execute_result"
    }
   ],
   "source": [
    "df_diff_ens_mean.loc[season_hist_and_future_mean_diffs_w_mean_ensemble_means.index].quantile([0.025, 0.975])"
   ]
  },
  {
   "cell_type": "code",
   "execution_count": 123,
   "id": "095d6989-1ab2-42ec-af30-0a39b5d46470",
   "metadata": {},
   "outputs": [
    {
     "data": {
      "text/plain": [
       "NorESM2-LM          0.585841\n",
       "CanESM5             0.750468\n",
       "CMCC-CM2-SR5        1.162880\n",
       "MPI-ESM1-2-LR       0.687296\n",
       "NorESM2-MM          1.705605\n",
       "MRI-ESM2-0          0.681928\n",
       "EC-Earth3-CC        1.113802\n",
       "EC-Earth3           1.032024\n",
       "HadGEM3-GC31-MM     0.799519\n",
       "MIROC6              1.082312\n",
       "MIROC-ES2L          0.758145\n",
       "MPI-ESM1-2-HR       0.819171\n",
       "GFDL-CM4            0.851908\n",
       "CMCC-ESM2           0.498106\n",
       "CESM2-WACCM         0.857020\n",
       "EC-Earth3-Veg-LR    1.116612\n",
       "INM-CM4-8           0.479883\n",
       "INM-CM5-0           0.280571\n",
       "CNRM-CM6-1          0.518832\n",
       "IPSL-CM6A-LR        0.439561\n",
       "ACCESS-CM2          0.448346\n",
       "TaiESM1             0.961549\n",
       "KACE-1-0-G          0.533465\n",
       "CNRM-ESM2-1         0.260421\n",
       "ACCESS-ESM1-5       0.302717\n",
       "HadGEM3-GC31-LL     0.603759\n",
       "FGOALS-g3           0.744862\n",
       "UKESM1-0-LL         0.652608\n",
       "dtype: float64"
      ]
     },
     "execution_count": 123,
     "metadata": {},
     "output_type": "execute_result"
    }
   ],
   "source": [
    "df_diff_djf_ens_mean.T[mean_order_djf.index].max() - df_diff_djf_ens_mean.T[mean_order_djf.index].min()"
   ]
  },
  {
   "cell_type": "code",
   "execution_count": 124,
   "id": "89f76c08-ec9b-4517-8986-be6f8d2fd52b",
   "metadata": {},
   "outputs": [
    {
     "data": {
      "text/plain": [
       "0.8872069009035691"
      ]
     },
     "execution_count": 124,
     "metadata": {},
     "output_type": "execute_result"
    }
   ],
   "source": [
    "df_diff_djf_ens_mean.T[mean_order_djf.index].mean().mean()"
   ]
  },
  {
   "cell_type": "code",
   "execution_count": 125,
   "id": "e46d1e07-696d-46ac-bede-c2defcbbdd7c",
   "metadata": {},
   "outputs": [
    {
     "data": {
      "text/plain": [
       "(0.025   -0.853736\n",
       " 0.975   -0.194810\n",
       " dtype: float64,\n",
       " 0.025    2.329832\n",
       " 0.975    2.905073\n",
       " dtype: float64)"
      ]
     },
     "execution_count": 125,
     "metadata": {},
     "output_type": "execute_result"
    }
   ],
   "source": [
    "df_diff_djf_ens_mean.T[mean_order_djf.index].quantile([0.025, 0.975]).min(axis=1), df_diff_djf_ens_mean.T[mean_order_djf.index].quantile([0.025, 0.975]).max(axis=1) "
   ]
  },
  {
   "cell_type": "code",
   "execution_count": 126,
   "id": "93f92ae3-2c53-4264-8f12-feb5e79e35a0",
   "metadata": {},
   "outputs": [
    {
     "data": {
      "text/plain": [
       "(0.025   -1.561118\n",
       " 0.975    0.109732\n",
       " dtype: float64,\n",
       " 0.025    1.083154\n",
       " 0.975    3.474671\n",
       " dtype: float64)"
      ]
     },
     "execution_count": 126,
     "metadata": {},
     "output_type": "execute_result"
    }
   ],
   "source": [
    "multi_r_models_w_all_models[mean_order_djf.index].quantile([0.025, 0.975]).min(axis=1), multi_r_models_w_all_models[mean_order_djf.index].quantile([0.025, 0.975]).max(axis=1) "
   ]
  },
  {
   "cell_type": "code",
   "execution_count": 127,
   "id": "39a514df-338f-41dc-8374-80b26c4d167a",
   "metadata": {},
   "outputs": [
    {
     "data": {
      "text/html": [
       "<div>\n",
       "<style scoped>\n",
       "    .dataframe tbody tr th:only-of-type {\n",
       "        vertical-align: middle;\n",
       "    }\n",
       "\n",
       "    .dataframe tbody tr th {\n",
       "        vertical-align: top;\n",
       "    }\n",
       "\n",
       "    .dataframe thead th {\n",
       "        text-align: right;\n",
       "    }\n",
       "</style>\n",
       "<table border=\"1\" class=\"dataframe\">\n",
       "  <thead>\n",
       "    <tr style=\"text-align: right;\">\n",
       "      <th></th>\n",
       "      <th>NorESM2-LM</th>\n",
       "      <th>CanESM5</th>\n",
       "      <th>CMCC-CM2-SR5</th>\n",
       "      <th>MPI-ESM1-2-LR</th>\n",
       "      <th>NorESM2-MM</th>\n",
       "      <th>MRI-ESM2-0</th>\n",
       "      <th>EC-Earth3-CC</th>\n",
       "      <th>EC-Earth3</th>\n",
       "      <th>HadGEM3-GC31-MM</th>\n",
       "      <th>MIROC6</th>\n",
       "      <th>...</th>\n",
       "      <th>CNRM-CM6-1</th>\n",
       "      <th>IPSL-CM6A-LR</th>\n",
       "      <th>ACCESS-CM2</th>\n",
       "      <th>TaiESM1</th>\n",
       "      <th>KACE-1-0-G</th>\n",
       "      <th>CNRM-ESM2-1</th>\n",
       "      <th>ACCESS-ESM1-5</th>\n",
       "      <th>HadGEM3-GC31-LL</th>\n",
       "      <th>FGOALS-g3</th>\n",
       "      <th>UKESM1-0-LL</th>\n",
       "    </tr>\n",
       "  </thead>\n",
       "  <tbody>\n",
       "    <tr>\n",
       "      <th>0</th>\n",
       "      <td>NaN</td>\n",
       "      <td>2.634396</td>\n",
       "      <td>NaN</td>\n",
       "      <td>NaN</td>\n",
       "      <td>NaN</td>\n",
       "      <td>NaN</td>\n",
       "      <td>NaN</td>\n",
       "      <td>NaN</td>\n",
       "      <td>1.341278</td>\n",
       "      <td>NaN</td>\n",
       "      <td>...</td>\n",
       "      <td>1.995679</td>\n",
       "      <td>0.265404</td>\n",
       "      <td>NaN</td>\n",
       "      <td>NaN</td>\n",
       "      <td>NaN</td>\n",
       "      <td>0.064595</td>\n",
       "      <td>-0.602643</td>\n",
       "      <td>-0.020214</td>\n",
       "      <td>NaN</td>\n",
       "      <td>-0.037256</td>\n",
       "    </tr>\n",
       "    <tr>\n",
       "      <th>1</th>\n",
       "      <td>NaN</td>\n",
       "      <td>2.786439</td>\n",
       "      <td>NaN</td>\n",
       "      <td>NaN</td>\n",
       "      <td>NaN</td>\n",
       "      <td>NaN</td>\n",
       "      <td>NaN</td>\n",
       "      <td>NaN</td>\n",
       "      <td>1.336470</td>\n",
       "      <td>NaN</td>\n",
       "      <td>...</td>\n",
       "      <td>1.922337</td>\n",
       "      <td>0.290777</td>\n",
       "      <td>NaN</td>\n",
       "      <td>NaN</td>\n",
       "      <td>NaN</td>\n",
       "      <td>0.092876</td>\n",
       "      <td>-0.536366</td>\n",
       "      <td>-0.004519</td>\n",
       "      <td>NaN</td>\n",
       "      <td>-0.037488</td>\n",
       "    </tr>\n",
       "    <tr>\n",
       "      <th>2</th>\n",
       "      <td>NaN</td>\n",
       "      <td>2.728611</td>\n",
       "      <td>NaN</td>\n",
       "      <td>NaN</td>\n",
       "      <td>NaN</td>\n",
       "      <td>NaN</td>\n",
       "      <td>NaN</td>\n",
       "      <td>NaN</td>\n",
       "      <td>0.990926</td>\n",
       "      <td>NaN</td>\n",
       "      <td>...</td>\n",
       "      <td>1.747739</td>\n",
       "      <td>0.151297</td>\n",
       "      <td>NaN</td>\n",
       "      <td>NaN</td>\n",
       "      <td>NaN</td>\n",
       "      <td>-0.272675</td>\n",
       "      <td>-0.633901</td>\n",
       "      <td>-0.191545</td>\n",
       "      <td>NaN</td>\n",
       "      <td>-0.377858</td>\n",
       "    </tr>\n",
       "    <tr>\n",
       "      <th>3</th>\n",
       "      <td>NaN</td>\n",
       "      <td>2.759530</td>\n",
       "      <td>NaN</td>\n",
       "      <td>NaN</td>\n",
       "      <td>NaN</td>\n",
       "      <td>NaN</td>\n",
       "      <td>NaN</td>\n",
       "      <td>NaN</td>\n",
       "      <td>1.641956</td>\n",
       "      <td>NaN</td>\n",
       "      <td>...</td>\n",
       "      <td>1.389691</td>\n",
       "      <td>0.191074</td>\n",
       "      <td>NaN</td>\n",
       "      <td>NaN</td>\n",
       "      <td>NaN</td>\n",
       "      <td>0.116126</td>\n",
       "      <td>-0.667853</td>\n",
       "      <td>0.009259</td>\n",
       "      <td>NaN</td>\n",
       "      <td>-0.111111</td>\n",
       "    </tr>\n",
       "    <tr>\n",
       "      <th>4</th>\n",
       "      <td>NaN</td>\n",
       "      <td>1.874469</td>\n",
       "      <td>NaN</td>\n",
       "      <td>NaN</td>\n",
       "      <td>NaN</td>\n",
       "      <td>NaN</td>\n",
       "      <td>NaN</td>\n",
       "      <td>NaN</td>\n",
       "      <td>0.829989</td>\n",
       "      <td>NaN</td>\n",
       "      <td>...</td>\n",
       "      <td>1.245178</td>\n",
       "      <td>0.555034</td>\n",
       "      <td>NaN</td>\n",
       "      <td>NaN</td>\n",
       "      <td>NaN</td>\n",
       "      <td>-0.230701</td>\n",
       "      <td>-0.708718</td>\n",
       "      <td>-0.404885</td>\n",
       "      <td>NaN</td>\n",
       "      <td>-0.320943</td>\n",
       "    </tr>\n",
       "    <tr>\n",
       "      <th>...</th>\n",
       "      <td>...</td>\n",
       "      <td>...</td>\n",
       "      <td>...</td>\n",
       "      <td>...</td>\n",
       "      <td>...</td>\n",
       "      <td>...</td>\n",
       "      <td>...</td>\n",
       "      <td>...</td>\n",
       "      <td>...</td>\n",
       "      <td>...</td>\n",
       "      <td>...</td>\n",
       "      <td>...</td>\n",
       "      <td>...</td>\n",
       "      <td>...</td>\n",
       "      <td>...</td>\n",
       "      <td>...</td>\n",
       "      <td>...</td>\n",
       "      <td>...</td>\n",
       "      <td>...</td>\n",
       "      <td>...</td>\n",
       "      <td>...</td>\n",
       "    </tr>\n",
       "    <tr>\n",
       "      <th>109</th>\n",
       "      <td>NaN</td>\n",
       "      <td>1.612455</td>\n",
       "      <td>NaN</td>\n",
       "      <td>NaN</td>\n",
       "      <td>NaN</td>\n",
       "      <td>NaN</td>\n",
       "      <td>NaN</td>\n",
       "      <td>NaN</td>\n",
       "      <td>NaN</td>\n",
       "      <td>NaN</td>\n",
       "      <td>...</td>\n",
       "      <td>NaN</td>\n",
       "      <td>NaN</td>\n",
       "      <td>NaN</td>\n",
       "      <td>NaN</td>\n",
       "      <td>NaN</td>\n",
       "      <td>NaN</td>\n",
       "      <td>NaN</td>\n",
       "      <td>NaN</td>\n",
       "      <td>NaN</td>\n",
       "      <td>NaN</td>\n",
       "    </tr>\n",
       "    <tr>\n",
       "      <th>110</th>\n",
       "      <td>NaN</td>\n",
       "      <td>1.398715</td>\n",
       "      <td>NaN</td>\n",
       "      <td>NaN</td>\n",
       "      <td>NaN</td>\n",
       "      <td>NaN</td>\n",
       "      <td>NaN</td>\n",
       "      <td>NaN</td>\n",
       "      <td>NaN</td>\n",
       "      <td>NaN</td>\n",
       "      <td>...</td>\n",
       "      <td>NaN</td>\n",
       "      <td>NaN</td>\n",
       "      <td>NaN</td>\n",
       "      <td>NaN</td>\n",
       "      <td>NaN</td>\n",
       "      <td>NaN</td>\n",
       "      <td>NaN</td>\n",
       "      <td>NaN</td>\n",
       "      <td>NaN</td>\n",
       "      <td>NaN</td>\n",
       "    </tr>\n",
       "    <tr>\n",
       "      <th>111</th>\n",
       "      <td>NaN</td>\n",
       "      <td>1.943044</td>\n",
       "      <td>NaN</td>\n",
       "      <td>NaN</td>\n",
       "      <td>NaN</td>\n",
       "      <td>NaN</td>\n",
       "      <td>NaN</td>\n",
       "      <td>NaN</td>\n",
       "      <td>NaN</td>\n",
       "      <td>NaN</td>\n",
       "      <td>...</td>\n",
       "      <td>NaN</td>\n",
       "      <td>NaN</td>\n",
       "      <td>NaN</td>\n",
       "      <td>NaN</td>\n",
       "      <td>NaN</td>\n",
       "      <td>NaN</td>\n",
       "      <td>NaN</td>\n",
       "      <td>NaN</td>\n",
       "      <td>NaN</td>\n",
       "      <td>NaN</td>\n",
       "    </tr>\n",
       "    <tr>\n",
       "      <th>112</th>\n",
       "      <td>NaN</td>\n",
       "      <td>1.086334</td>\n",
       "      <td>NaN</td>\n",
       "      <td>NaN</td>\n",
       "      <td>NaN</td>\n",
       "      <td>NaN</td>\n",
       "      <td>NaN</td>\n",
       "      <td>NaN</td>\n",
       "      <td>NaN</td>\n",
       "      <td>NaN</td>\n",
       "      <td>...</td>\n",
       "      <td>NaN</td>\n",
       "      <td>NaN</td>\n",
       "      <td>NaN</td>\n",
       "      <td>NaN</td>\n",
       "      <td>NaN</td>\n",
       "      <td>NaN</td>\n",
       "      <td>NaN</td>\n",
       "      <td>NaN</td>\n",
       "      <td>NaN</td>\n",
       "      <td>NaN</td>\n",
       "    </tr>\n",
       "    <tr>\n",
       "      <th>113</th>\n",
       "      <td>NaN</td>\n",
       "      <td>1.297723</td>\n",
       "      <td>NaN</td>\n",
       "      <td>NaN</td>\n",
       "      <td>NaN</td>\n",
       "      <td>NaN</td>\n",
       "      <td>NaN</td>\n",
       "      <td>NaN</td>\n",
       "      <td>NaN</td>\n",
       "      <td>NaN</td>\n",
       "      <td>...</td>\n",
       "      <td>NaN</td>\n",
       "      <td>NaN</td>\n",
       "      <td>NaN</td>\n",
       "      <td>NaN</td>\n",
       "      <td>NaN</td>\n",
       "      <td>NaN</td>\n",
       "      <td>NaN</td>\n",
       "      <td>NaN</td>\n",
       "      <td>NaN</td>\n",
       "      <td>NaN</td>\n",
       "    </tr>\n",
       "  </tbody>\n",
       "</table>\n",
       "<p>114 rows × 28 columns</p>\n",
       "</div>"
      ],
      "text/plain": [
       "     NorESM2-LM   CanESM5  CMCC-CM2-SR5  MPI-ESM1-2-LR  NorESM2-MM  \\\n",
       "0           NaN  2.634396           NaN            NaN         NaN   \n",
       "1           NaN  2.786439           NaN            NaN         NaN   \n",
       "2           NaN  2.728611           NaN            NaN         NaN   \n",
       "3           NaN  2.759530           NaN            NaN         NaN   \n",
       "4           NaN  1.874469           NaN            NaN         NaN   \n",
       "..          ...       ...           ...            ...         ...   \n",
       "109         NaN  1.612455           NaN            NaN         NaN   \n",
       "110         NaN  1.398715           NaN            NaN         NaN   \n",
       "111         NaN  1.943044           NaN            NaN         NaN   \n",
       "112         NaN  1.086334           NaN            NaN         NaN   \n",
       "113         NaN  1.297723           NaN            NaN         NaN   \n",
       "\n",
       "     MRI-ESM2-0  EC-Earth3-CC  EC-Earth3  HadGEM3-GC31-MM  MIROC6  ...  \\\n",
       "0           NaN           NaN        NaN         1.341278     NaN  ...   \n",
       "1           NaN           NaN        NaN         1.336470     NaN  ...   \n",
       "2           NaN           NaN        NaN         0.990926     NaN  ...   \n",
       "3           NaN           NaN        NaN         1.641956     NaN  ...   \n",
       "4           NaN           NaN        NaN         0.829989     NaN  ...   \n",
       "..          ...           ...        ...              ...     ...  ...   \n",
       "109         NaN           NaN        NaN              NaN     NaN  ...   \n",
       "110         NaN           NaN        NaN              NaN     NaN  ...   \n",
       "111         NaN           NaN        NaN              NaN     NaN  ...   \n",
       "112         NaN           NaN        NaN              NaN     NaN  ...   \n",
       "113         NaN           NaN        NaN              NaN     NaN  ...   \n",
       "\n",
       "     CNRM-CM6-1  IPSL-CM6A-LR  ACCESS-CM2  TaiESM1  KACE-1-0-G  CNRM-ESM2-1  \\\n",
       "0      1.995679      0.265404         NaN      NaN         NaN     0.064595   \n",
       "1      1.922337      0.290777         NaN      NaN         NaN     0.092876   \n",
       "2      1.747739      0.151297         NaN      NaN         NaN    -0.272675   \n",
       "3      1.389691      0.191074         NaN      NaN         NaN     0.116126   \n",
       "4      1.245178      0.555034         NaN      NaN         NaN    -0.230701   \n",
       "..          ...           ...         ...      ...         ...          ...   \n",
       "109         NaN           NaN         NaN      NaN         NaN          NaN   \n",
       "110         NaN           NaN         NaN      NaN         NaN          NaN   \n",
       "111         NaN           NaN         NaN      NaN         NaN          NaN   \n",
       "112         NaN           NaN         NaN      NaN         NaN          NaN   \n",
       "113         NaN           NaN         NaN      NaN         NaN          NaN   \n",
       "\n",
       "     ACCESS-ESM1-5  HadGEM3-GC31-LL  FGOALS-g3  UKESM1-0-LL  \n",
       "0        -0.602643        -0.020214        NaN    -0.037256  \n",
       "1        -0.536366        -0.004519        NaN    -0.037488  \n",
       "2        -0.633901        -0.191545        NaN    -0.377858  \n",
       "3        -0.667853         0.009259        NaN    -0.111111  \n",
       "4        -0.708718        -0.404885        NaN    -0.320943  \n",
       "..             ...              ...        ...          ...  \n",
       "109            NaN              NaN        NaN          NaN  \n",
       "110            NaN              NaN        NaN          NaN  \n",
       "111            NaN              NaN        NaN          NaN  \n",
       "112            NaN              NaN        NaN          NaN  \n",
       "113            NaN              NaN        NaN          NaN  \n",
       "\n",
       "[114 rows x 28 columns]"
      ]
     },
     "execution_count": 127,
     "metadata": {},
     "output_type": "execute_result"
    }
   ],
   "source": [
    "multi_r_models_w_all_models[mean_order_djf.index]"
   ]
  },
  {
   "cell_type": "code",
   "execution_count": 128,
   "id": "523f9449-61c6-43bb-a32a-7cb20f82800a",
   "metadata": {},
   "outputs": [
    {
     "data": {
      "text/html": [
       "<div>\n",
       "<style scoped>\n",
       "    .dataframe tbody tr th:only-of-type {\n",
       "        vertical-align: middle;\n",
       "    }\n",
       "\n",
       "    .dataframe tbody tr th {\n",
       "        vertical-align: top;\n",
       "    }\n",
       "\n",
       "    .dataframe thead th {\n",
       "        text-align: right;\n",
       "    }\n",
       "</style>\n",
       "<table border=\"1\" class=\"dataframe\">\n",
       "  <thead>\n",
       "    <tr style=\"text-align: right;\">\n",
       "      <th></th>\n",
       "      <th>NorESM2-LM</th>\n",
       "      <th>CanESM5</th>\n",
       "      <th>CMCC-CM2-SR5</th>\n",
       "      <th>MPI-ESM1-2-LR</th>\n",
       "      <th>NorESM2-MM</th>\n",
       "      <th>MRI-ESM2-0</th>\n",
       "      <th>EC-Earth3-CC</th>\n",
       "      <th>EC-Earth3</th>\n",
       "      <th>HadGEM3-GC31-MM</th>\n",
       "      <th>MIROC6</th>\n",
       "      <th>...</th>\n",
       "      <th>CNRM-CM6-1</th>\n",
       "      <th>IPSL-CM6A-LR</th>\n",
       "      <th>ACCESS-CM2</th>\n",
       "      <th>TaiESM1</th>\n",
       "      <th>KACE-1-0-G</th>\n",
       "      <th>CNRM-ESM2-1</th>\n",
       "      <th>ACCESS-ESM1-5</th>\n",
       "      <th>HadGEM3-GC31-LL</th>\n",
       "      <th>FGOALS-g3</th>\n",
       "      <th>UKESM1-0-LL</th>\n",
       "    </tr>\n",
       "  </thead>\n",
       "  <tbody>\n",
       "    <tr>\n",
       "      <th>0.05</th>\n",
       "      <td>NaN</td>\n",
       "      <td>1.161363</td>\n",
       "      <td>NaN</td>\n",
       "      <td>NaN</td>\n",
       "      <td>NaN</td>\n",
       "      <td>NaN</td>\n",
       "      <td>NaN</td>\n",
       "      <td>NaN</td>\n",
       "      <td>0.667430</td>\n",
       "      <td>NaN</td>\n",
       "      <td>...</td>\n",
       "      <td>-0.121642</td>\n",
       "      <td>-0.922715</td>\n",
       "      <td>NaN</td>\n",
       "      <td>NaN</td>\n",
       "      <td>NaN</td>\n",
       "      <td>-0.492300</td>\n",
       "      <td>-0.686242</td>\n",
       "      <td>-0.918067</td>\n",
       "      <td>NaN</td>\n",
       "      <td>-1.457032</td>\n",
       "    </tr>\n",
       "    <tr>\n",
       "      <th>0.95</th>\n",
       "      <td>NaN</td>\n",
       "      <td>2.943695</td>\n",
       "      <td>NaN</td>\n",
       "      <td>NaN</td>\n",
       "      <td>NaN</td>\n",
       "      <td>NaN</td>\n",
       "      <td>NaN</td>\n",
       "      <td>NaN</td>\n",
       "      <td>1.931199</td>\n",
       "      <td>NaN</td>\n",
       "      <td>...</td>\n",
       "      <td>1.791389</td>\n",
       "      <td>1.375395</td>\n",
       "      <td>NaN</td>\n",
       "      <td>NaN</td>\n",
       "      <td>NaN</td>\n",
       "      <td>0.103338</td>\n",
       "      <td>0.462162</td>\n",
       "      <td>0.171396</td>\n",
       "      <td>NaN</td>\n",
       "      <td>0.109954</td>\n",
       "    </tr>\n",
       "  </tbody>\n",
       "</table>\n",
       "<p>2 rows × 28 columns</p>\n",
       "</div>"
      ],
      "text/plain": [
       "      NorESM2-LM   CanESM5  CMCC-CM2-SR5  MPI-ESM1-2-LR  NorESM2-MM  \\\n",
       "0.05         NaN  1.161363           NaN            NaN         NaN   \n",
       "0.95         NaN  2.943695           NaN            NaN         NaN   \n",
       "\n",
       "      MRI-ESM2-0  EC-Earth3-CC  EC-Earth3  HadGEM3-GC31-MM  MIROC6  ...  \\\n",
       "0.05         NaN           NaN        NaN         0.667430     NaN  ...   \n",
       "0.95         NaN           NaN        NaN         1.931199     NaN  ...   \n",
       "\n",
       "      CNRM-CM6-1  IPSL-CM6A-LR  ACCESS-CM2  TaiESM1  KACE-1-0-G  CNRM-ESM2-1  \\\n",
       "0.05   -0.121642     -0.922715         NaN      NaN         NaN    -0.492300   \n",
       "0.95    1.791389      1.375395         NaN      NaN         NaN     0.103338   \n",
       "\n",
       "      ACCESS-ESM1-5  HadGEM3-GC31-LL  FGOALS-g3  UKESM1-0-LL  \n",
       "0.05      -0.686242        -0.918067        NaN    -1.457032  \n",
       "0.95       0.462162         0.171396        NaN     0.109954  \n",
       "\n",
       "[2 rows x 28 columns]"
      ]
     },
     "execution_count": 128,
     "metadata": {},
     "output_type": "execute_result"
    }
   ],
   "source": [
    "multi_r_models_w_all_models[mean_order_djf.index].dropna(how='all').quantile([0.05, 0.95])"
   ]
  },
  {
   "cell_type": "code",
   "execution_count": 149,
   "id": "bab2eb05-b3b6-45d6-b787-3ed73459e707",
   "metadata": {},
   "outputs": [
    {
     "name": "stderr",
     "output_type": "stream",
     "text": [
      "/tmp/ipykernel_29558/1629922006.py:14: UserWarning: Numpy array is not a supported type for `palette`. Please convert your palette to a list. This will become an error in v0.14\n",
      "  sns.pointplot(df_diff_djf_ens_mean.T[mean_order_djf.index], palette=rbr_cmap(cmap_norm(similiarity_scores_djf)), capsize=.3, estimator='mean', errorbar=errorbar_to_use,\\\n",
      "/tmp/ipykernel_29558/1629922006.py:54: UserWarning: set_ticklabels() should only be used with a fixed number of ticks, i.e. after set_ticks() or using a FixedLocator.\n",
      "  axes[0].set_xticklabels([\"Annual mean\", 'DJF', 'MAM', 'JJA', 'SON'], rotation=90);\n",
      "/tmp/ipykernel_29558/1629922006.py:55: UserWarning: set_ticklabels() should only be used with a fixed number of ticks, i.e. after set_ticks() or using a FixedLocator.\n",
      "  axes[1].set_xticklabels(cols_to_use, rotation=90);\n",
      "/tmp/ipykernel_29558/1629922006.py:56: UserWarning: set_ticklabels() should only be used with a fixed number of ticks, i.e. after set_ticks() or using a FixedLocator.\n",
      "  axes[2].set_xticklabels(sorted_models_with_group_count, rotation=90);\n"
     ]
    },
    {
     "data": {
      "text/plain": [
       "Text(-0.6, 3.25, 'DJF')"
      ]
     },
     "execution_count": 149,
     "metadata": {},
     "output_type": "execute_result"
    },
    {
     "data": {
      "image/png": "[encoded data removed]",
      "text/plain": [
       "<Figure size 1200x400 with 4 Axes>"
      ]
     },
     "metadata": {},
     "output_type": "display_data"
    }
   ],
   "source": [
    "sns.set_context('paper')\n",
    "sns.set_style('whitegrid')\n",
    "cols_to_use = ['Woollings et al. 2010', 'Barnes & Polvani 2013', 'Grise & Polvani 2014', 'Barnes & Simpson 2017',\\\n",
    "               'Zappa et al. 2018','Kerr et al. 2020'] # 'Barnes & Polvani 2015'\n",
    "errorbar_to_use = ('pi', 95)\n",
    "\n",
    "fig, axes = plt.subplots(1,3, figsize=(12, 4), sharey=True, width_ratios=[0.15, 0.2, 0.9])\n",
    "plt.subplots_adjust(wspace=0)\n",
    "\n",
    "sns.pointplot(df_future_hist_diff_season_by_model[[\"Annual mean\", 'DJF', 'MAM', 'JJA', 'SON']].dropna(), capsize=.3, estimator='mean', errorbar=errorbar_to_use,\\\n",
    "              markers = '_', err_kws={'linewidth': 1.5},  linestyle='none', palette=['k', 'C0', 'C2', 'C1', 'C3'], ax=axes[0])\n",
    "sns.pointplot(df_diff_ens_mean.loc[season_hist_and_future_mean_diffs_w_mean_ensemble_means.index], color=color_to_use, capsize=.3, estimator='mean', errorbar=errorbar_to_use,\\\n",
    "              markers = '_', err_kws={'linewidth': 1.5},  linestyle='none', ax=axes[1])\n",
    "sns.pointplot(df_diff_djf_ens_mean.T[mean_order_djf.index], palette=rbr_cmap(cmap_norm(similiarity_scores_djf)), capsize=.3, estimator='mean', errorbar=errorbar_to_use,\\\n",
    "              markers = '_', err_kws={'linewidth': 1.5},  linestyle='none', ax=axes[2]);\n",
    "offset = matplotlib.transforms.ScaledTranslation(-(5/72.), 0, axes[2].figure.dpi_scale_trans)\n",
    "trans = axes[2].get_transform()\n",
    "axes[2].set_transform(trans + offset)\n",
    "for line in axes[2].lines:\n",
    "    trans = line.get_transform()\n",
    "    line.set_transform(trans + offset)\n",
    "    \n",
    "sns.pointplot(multi_r_models_w_all_models[mean_order_djf.index], capsize=.0, estimator='mean', errorbar=errorbar_to_use,\\\n",
    "              markers='', err_kws={'linewidth': 2.5}, linestyle='none', color='0.7',  ax=axes[2]);\n",
    "\n",
    "# May not appear in the correct place in the notebook, but necessary for saving\n",
    "inset_ax2 = inset_axes(axes[2],\n",
    "                    width=2.5,                     # inch\n",
    "                    height=0.25,                    # inch\n",
    "                    bbox_transform=ax.transAxes, # relative axes coordinates\n",
    "                    bbox_to_anchor=(2.45,1.05),    # relative axes coordinates\n",
    "                    )                       # loc=lower left corner\n",
    "cbar = fig.colorbar(matplotlib.cm.ScalarMappable(norm=norm_djf, cmap=rbr_cmap),\n",
    "             cax=inset_ax2, orientation='horizontal', label='Similarity to Reanalysis')\n",
    "cbar.ax.set_xlabel('Estimate of bias in mean latitude $(^{\\circ}N)$', color='grey', size=10)\n",
    "# ticklabs = cbar.ax.get_xticklabels();\n",
    "# cbar.ax.set_xticklabels(ticklabs, fontsize=7);\n",
    "cbar.ax.text(s=\"Poleward\", x=2, y=0.38, size=10, color='white')\n",
    "cbar.ax.text(s=\"Equatorward\", x=-4.1, y=0.38, size=10, color='white')\n",
    "\n",
    "offset = matplotlib.transforms.ScaledTranslation(2/72., 0, axes[2].figure.dpi_scale_trans)\n",
    "trans = axes[2].get_transform()\n",
    "axes[2].set_transform(trans + offset)\n",
    "for line in axes[2].lines[len(axes[2].lines)//2:]:\n",
    "    trans = line.get_transform()\n",
    "    line.set_transform(trans + offset)\n",
    "\n",
    "# for text\n",
    "lowest_ylim = 100\n",
    "for ax in axes:\n",
    "    if ax.get_ylim()[0] < lowest_ylim:\n",
    "        lowest_ylim = ax.get_ylim()[0]\n",
    "        \n",
    "axes[0].set_xticklabels([\"Annual mean\", 'DJF', 'MAM', 'JJA', 'SON'], rotation=90);\n",
    "axes[1].set_xticklabels(cols_to_use, rotation=90);\n",
    "axes[2].set_xticklabels(sorted_models_with_group_count, rotation=90);\n",
    "plt.setp(axes[0].collections, alpha=.8); #for the markers\n",
    "plt.setp(axes[0].lines, alpha=.9);    #for the lines\n",
    "black_line = mlines.Line2D([], [], color='k', marker='_', linestyle='None',\n",
    "                          markersize=8, alpha=.8, label='mean')\n",
    "grey_line = mlines.Line2D([0], [0], color='0.7', linestyle='-', lw=4,\n",
    "                        alpha=.8, label='Intra-model spread')\n",
    "axes[2].legend(handles=[black_line, grey_line], ncols=2)\n",
    "axes[0].hlines(-0, -0.75, 5.5, 'grey', '--', alpha=.9)\n",
    "axes[1].hlines(-0, -1.5, 7.75, 'grey', '--', alpha=.9)\n",
    "axes[2].hlines(-0, -1.75, 27.75, 'grey', '--', alpha=.9)\n",
    "axes[0].set_xlim(-0.75, 4.75)\n",
    "axes[1].set_xlim(-0.5, 5.5)\n",
    "axes[2].set_xlim(-0.75, 27.75)\n",
    "\n",
    "axes[0].text(s=\"a)\", x=-0.6, y=3.15, color='grey', size=20)\n",
    "\n",
    "# for ax in axes: # for SON\n",
    "#     ax.set_ylim(-2.5, 4.1)\n",
    "# axes[0].spines['right'].set_visible(False)\n",
    "# axes[1].spines['left'].set_visible(False)\n",
    "axes[0].set_ylabel(\"Future mean jet shift (${\\circ N}$)\")\n",
    "axes[1].text(s=season_name.upper(), x=-0.3, y=3.25, fontsize=11, alpha=.7, color=color_to_use)\n",
    "axes[2].text(s=season_name.upper(), x=-0.6, y=3.25, fontsize=11, alpha=.7,  color=color_to_use)\n",
    "# fig.savefig(f'figures/figure_4_{season_name}.png', bbox_inches='tight', dpi=300)"
   ]
  },
  {
   "cell_type": "code",
   "execution_count": null,
   "id": "8dfc4eb7-df4b-4f18-83d4-2f5e83f0d546",
   "metadata": {},
   "outputs": [],
   "source": []
  },
  {
   "cell_type": "markdown",
   "id": "e82d94f8-9790-4a0d-b73c-ff2567e7835b",
   "metadata": {},
   "source": [
    "## Save data"
   ]
  },
  {
   "cell_type": "code",
   "execution_count": null,
   "id": "72385caf-ecf3-4f40-b8bd-fa5e31240414",
   "metadata": {},
   "outputs": [],
   "source": [
    "# multi_r_models_djf.to_csv('outputs/multi_r_models_djf.csv', index=False)\n",
    "# multi_r_models_mam.to_csv('outputs/multi_r_models_mam.csv', index=False)\n",
    "# multi_r_models_jja.to_csv('outputs/multi_r_models_jja.csv', index=False)\n",
    "# multi_r_models_son.to_csv('outputs/multi_r_models_son.csv', index=False)"
   ]
  },
  {
   "cell_type": "code",
   "execution_count": null,
   "id": "4bba8fec-ee3d-478c-b02c-4ed24cd0c70b",
   "metadata": {},
   "outputs": [],
   "source": []
  }
 ],
 "metadata": {
  "kernelspec": {
   "display_name": "Python 3 (ipykernel)",
   "language": "python",
   "name": "python3"
  },
  "language_info": {
   "codemirror_mode": {
    "name": "ipython",
    "version": 3
   },
   "file_extension": ".py",
   "mimetype": "text/x-python",
   "name": "python",
   "nbconvert_exporter": "python",
   "pygments_lexer": "ipython3",
   "version": "3.11.3"
  }
 },
 "nbformat": 4,
 "nbformat_minor": 5
}
