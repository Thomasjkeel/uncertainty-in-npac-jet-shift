{
 "cells": [
  {
   "cell_type": "markdown",
   "id": "e118f1fb-673e-4ce5-90b1-40174b4aa4ba",
   "metadata": {},
   "source": [
    "## Code required to create Figure 4\n",
    "Entire notebook takes: X seconds on Intel i7-10750 using > 4GB RAM"
   ]
  },
  {
   "cell_type": "code",
   "execution_count": 1,
   "id": "7d265532-7b79-4668-adcc-379542c4c2e6",
   "metadata": {},
   "outputs": [],
   "source": [
    "import glob\n",
    "import re\n",
    "import os\n",
    "import datetime\n",
    "import collections\n",
    "import pandas as pd\n",
    "import numpy as np\n",
    "import xarray as xr\n",
    "import seaborn as sns\n",
    "import matplotlib.pyplot as plt\n",
    "import matplotlib.lines as mlines\n",
    "\n",
    "sns.set_context('paper')"
   ]
  },
  {
   "cell_type": "markdown",
   "id": "ace9774d-d47c-46df-a247-5022c031b87e",
   "metadata": {},
   "source": [
    "# Functions to load CMIP6 data"
   ]
  },
  {
   "cell_type": "code",
   "execution_count": 2,
   "id": "26e11e87-a57f-4427-9635-0243f0797ecf",
   "metadata": {},
   "outputs": [],
   "source": [
    "def make_combined_df_from_data_paths(data_paths, date_format=\"\\d{2}:\\d{2}:\\d{2}\", data_name=None):\n",
    "    df = pd.read_csv(data_paths[0])\n",
    "    df = remove_unwanted_columns(df)\n",
    "    wrote_data_name = False\n",
    "    if not data_name:\n",
    "        data_name = os.path.split(data_paths[0])[-1].split(\"_\")[2]\n",
    "        wrote_data_name = True\n",
    "    df.columns = [\"time\", data_name]\n",
    "    # remove time from date\n",
    "    df['time'] = df['time'].apply(lambda x: re.sub(date_format, \"\", x).strip())\n",
    "    for f in data_paths[1:]:\n",
    "        current = pd.read_csv(f, header=0)\n",
    "        current = remove_unwanted_columns(current)\n",
    "        if wrote_data_name:\n",
    "            current_data_name = os.path.split(f)[-1].split(\"_\")[2]\n",
    "        else:\n",
    "            current_data_name = data_name\n",
    "        current.columns = [\"time\", current_data_name] # Note: makes the assumption that time and jet lat is this way around (check because would fail otherwise)\n",
    "        # remove time from date\n",
    "        current['time'] = current['time'].apply(lambda x: re.sub(date_format, \"\", x).strip())\n",
    "        df = df.merge(current, how='outer', on='time')\n",
    "    df = df.set_index('time')\n",
    "    df = df.sort_index()\n",
    "    return df\n",
    "\n",
    "\n",
    "def make_combined_df_from_data_paths_for_bracegirdle(data_paths, data_name=None):\n",
    "    df = pd.read_csv(data_paths[0])\n",
    "    df = remove_unwanted_columns(df)\n",
    "    wrote_data_name = False\n",
    "    if not data_name:\n",
    "        data_name = os.path.split(data_paths[0])[-1].split(\"_\")[2]\n",
    "        wrote_data_name = True\n",
    "    df.columns = [\"year\", data_name] # Note: makes the assumption that time and jet lat is this way around (check because would fail otherwise)\n",
    "    # remove time from date\n",
    "    for f in data_paths[1:]:\n",
    "        current = pd.read_csv(f, header=0)\n",
    "        current = remove_unwanted_columns(current)\n",
    "        if wrote_data_name:\n",
    "            current_data_name = os.path.split(f)[-1].split(\"_\")[2]\n",
    "        else:\n",
    "            current_data_name = data_name\n",
    "        current.columns = [\"year\", current_data_name] # Note: makes the assumption that time and jet lat is this way around (check because would fail otherwise)\n",
    "        # remove time from date\n",
    "        df = df.merge(current, how='outer', on='year')\n",
    "    df = df.set_index('year')\n",
    "    df = df.sort_index()\n",
    "    return df\n",
    "\n",
    "\n",
    "def remove_unwanted_columns(data):\n",
    "    for col in data.columns:\n",
    "        if col in COLS_TO_REMOVE:\n",
    "            data = data.drop(col, axis=1)\n",
    "    return data"
   ]
  },
  {
   "cell_type": "markdown",
   "id": "496d6762-c052-4122-9957-c0ff670cbfb6",
   "metadata": {},
   "source": [
    "# Globals"
   ]
  },
  {
   "cell_type": "code",
   "execution_count": 3,
   "id": "66fe2506-8d72-44c9-986c-241d3f720db1",
   "metadata": {},
   "outputs": [],
   "source": [
    "METRIC_NAMES = [\"Woollings et al. 2010\", \"Barnes & Polvani 2013\", \"Barnes & Polvani 2015\", \"Barnes & Simpson 2017\",\\\n",
    "                        \"Grise & Polvani 2017\", \"Bracegirdle et al. 2018\", \"Ceppi et al. 2018\", \"Kerr et al. 2020\"]\n",
    "METRIC_DATA_NAMES = ['Woollings2010_NorthPacific', 'BarnesPolvani2013_NorthPacific','BarnesPolvani2015_NorthPacific',\\\n",
    "                     'BarnesSimpson2017_NorthPacific','GrisePolvani2017_NorthPacific', 'Bracegirdle2018_NorthPacific',\\\n",
    "                     'Ceppi2018_NorthPacific', 'Kerr2020_NorthPacific']\n",
    "METRIC_SHORTHAND = [\"W10\", \"BP13\", \"BP15\", \"BS17\", \"GP17\", \"B18\", \"C18\", \"K20\"]"
   ]
  },
  {
   "cell_type": "code",
   "execution_count": 4,
   "id": "5114e0de-6cda-461b-bd84-79dabd450c13",
   "metadata": {},
   "outputs": [],
   "source": [
    "METRIC_LABEL_RENAMER = dict(zip(METRIC_DATA_NAMES, METRIC_NAMES))\n",
    "METRIC_SHORTHAND_LABEL_RENAMER = dict(zip(METRIC_NAMES, METRIC_SHORTHAND))"
   ]
  },
  {
   "cell_type": "code",
   "execution_count": 5,
   "id": "47d9ee12-33c4-40bf-859d-64fd65caeea6",
   "metadata": {},
   "outputs": [],
   "source": [
    "PVAL_SIG = 0.05"
   ]
  },
  {
   "cell_type": "code",
   "execution_count": 6,
   "id": "f42c0fa4-55b9-4546-9eec-9ff04398e32d",
   "metadata": {},
   "outputs": [],
   "source": [
    "ALL_MONTHS = [\"January\", \"February\", \"March\", \"April\", \"May\", \"June\",\\\n",
    "              \"July\", \"August\", \"September\", \"October\", \"November\", \"December\"]\n",
    "ALL_MONTHS_SHORT = [\"Jan\", \"Feb\", \"Mar\", \"Apr\", \"May\", \"Jun\", \"Jul\", \"Aug\", \"Sep\", \"Oct\", \"Nov\", \"Dec\"]"
   ]
  },
  {
   "cell_type": "code",
   "execution_count": 7,
   "id": "b6300ccd-6201-4de2-8993-4ca1c16f4544",
   "metadata": {},
   "outputs": [],
   "source": [
    "MONTH_DICT = dict(zip(np.arange(1, 13), ALL_MONTHS))\n",
    "MONTH_SHORT_DICT = dict(zip(np.arange(1, 13), ALL_MONTHS_SHORT))"
   ]
  },
  {
   "cell_type": "markdown",
   "id": "594be839-7f33-4d02-bb91-084e30eb9243",
   "metadata": {},
   "source": [
    "# Load CMIP6 SSP5-8.5 "
   ]
  },
  {
   "cell_type": "code",
   "execution_count": 9,
   "id": "2d6983ba-7b30-4dfe-b305-f52e4b85357e",
   "metadata": {},
   "outputs": [],
   "source": [
    "CMIP6_2015to2100_dir = \"/home/thomaskeel/Documents/PhD/JASMIN experiments/CMIP6_2070to2100_NPAC runs/ua_day*\""
   ]
  },
  {
   "cell_type": "code",
   "execution_count": 10,
   "id": "9a47ed6d-95f3-47d5-ae67-3c19ce0a2736",
   "metadata": {},
   "outputs": [],
   "source": [
    "metric_names = [\"Woollings et al. 2010\", \"Barnes & Polvani 2013\", \"Barnes & Polvani 2015\", \\\n",
    "                \"Barnes & Simpson 2017\", \"Grise & Polvani 2017\", \"Bracegirdle et al. 2018\", \\\n",
    "                \"Ceppi et al. 2018\", \"Kerr et al. 2020\"]\n",
    "\n",
    "COLS_TO_REMOVE = [\"10_day_average\", \"plev\"]"
   ]
  },
  {
   "cell_type": "code",
   "execution_count": 18,
   "id": "6562afef-092f-4515-bcc0-6bb399458129",
   "metadata": {},
   "outputs": [
    {
     "name": "stdout",
     "output_type": "stream",
     "text": [
      "Num of North Pacific files: 478\n"
     ]
    }
   ],
   "source": [
    "print(\"Num of North Pacific files:\", len(glob.glob(CMIP6_2015to2100_dir + \"North Pacific\" + \"*\")))"
   ]
  },
  {
   "cell_type": "code",
   "execution_count": 13,
   "id": "55314761-a0fd-4145-bb97-7160db5247f1",
   "metadata": {},
   "outputs": [
    {
     "name": "stdout",
     "output_type": "stream",
     "text": [
      "CPU times: user 3.03 s, sys: 171 ms, total: 3.2 s\n",
      "Wall time: 3.2 s\n"
     ]
    }
   ],
   "source": [
    "%%time\n",
    "time_ranges = []\n",
    "failed_data_paths = []\n",
    "date_format=\"\\d{2}:\\d{2}:\\d{2}\"\n",
    "for file_path in glob.glob(CMIP6_2015to2100_dir):\n",
    "    try:\n",
    "        current = pd.read_csv(file_path, header=0)\n",
    "    except Exception as e:\n",
    "        print(e)\n",
    "        print(file_path)\n",
    "        continue\n",
    "    for col in COLS_TO_REMOVE:\n",
    "        try:\n",
    "            current.drop(col, inplace=True, axis=1)\n",
    "        except:\n",
    "            pass\n",
    "    try:\n",
    "        current['time'] = current['time'].apply(lambda x: re.sub(date_format, \"\", x).strip())\n",
    "    except Exception as e:\n",
    "#         print(e)\n",
    "        failed_data_paths.append(file_path)\n",
    "        continue\n",
    "    first_time = current['time'].min()\n",
    "    last_time = current['time'].max()\n",
    "    time_ranges.append(str(first_time)+'to'+str(last_time))"
   ]
  },
  {
   "cell_type": "code",
   "execution_count": 14,
   "id": "42776250-80bd-4edb-81be-73235311fc43",
   "metadata": {},
   "outputs": [
    {
     "data": {
      "text/plain": [
       "Counter({'2070-01-01to2099-12-31': 100,\n",
       "         '2070-01-01to2099-12-30': 18,\n",
       "         '2070-01-01to2099-12-22': 9,\n",
       "         '2070-01-01to2099-12-25': 8,\n",
       "         '2070-01-01to2070-12-31': 6,\n",
       "         '2071-01-01to2099-12-31': 6,\n",
       "         '2070-01-01to2099-12-21': 3,\n",
       "         '2070-01-01to2070-12-27': 1,\n",
       "         '2071-01-01to2099-12-30': 1})"
      ]
     },
     "execution_count": 14,
     "metadata": {},
     "output_type": "execute_result"
    }
   ],
   "source": [
    "collections.Counter(time_ranges)"
   ]
  },
  {
   "cell_type": "code",
   "execution_count": 15,
   "id": "304310b6-17e0-4384-b472-e1da57827a31",
   "metadata": {},
   "outputs": [
    {
     "name": "stdout",
     "output_type": "stream",
     "text": [
      "CPU times: user 3.56 s, sys: 210 ms, total: 3.77 s\n",
      "Wall time: 3.78 s\n"
     ]
    }
   ],
   "source": [
    "%%time\n",
    "all_df_npac_future_dataset = {}\n",
    "for metric in metric_names:\n",
    "    if metric == \"Bracegirdle et al. 2018\":\n",
    "        all_df_npac_future_dataset[metric] = make_combined_df_from_data_paths_for_bracegirdle(glob.glob(CMIP6_2015to2100_dir + metric + \"*\" + \"North Pacific\" + \"*\"))\n",
    "        continue\n",
    "    all_df_npac_future_dataset[metric] = make_combined_df_from_data_paths(glob.glob(CMIP6_2015to2100_dir + metric + \"*\" + \"North Pacific\" + \"*\"))\n"
   ]
  },
  {
   "cell_type": "code",
   "execution_count": 16,
   "id": "d4da95a0-d5d7-47e5-928c-3c4b327047df",
   "metadata": {},
   "outputs": [
    {
     "data": {
      "text/plain": [
       "Index(['CMCC-ESM2', 'HadGEM3-GC31-MM', 'NorESM2-LM', 'NESM3_x',\n",
       "       'ACCESS-ESM1-5', 'NorESM2-MM', 'CanESM5', 'MRI-ESM2-0', 'CESM2-WACCM',\n",
       "       'NESM3_y', 'MPI-ESM1-2-HR', 'ACCESS-CM2', 'TaiESM1', 'HadGEM3-GC31-LL',\n",
       "       'MIROC6', 'BCC-CSM2-MR', 'CMCC-CM2-SR5', 'FGOALS-g3', 'AWI-CM-1-1-MR',\n",
       "       'MPI-ESM1-2-LR', 'UKESM1-0-LL'],\n",
       "      dtype='object')"
      ]
     },
     "execution_count": 16,
     "metadata": {},
     "output_type": "execute_result"
    }
   ],
   "source": [
    "all_df_npac_future_dataset['Woollings et al. 2010'].columns"
   ]
  },
  {
   "cell_type": "code",
   "execution_count": 17,
   "id": "4b123b3e-86d7-4169-9408-82a3e72fd519",
   "metadata": {},
   "outputs": [
    {
     "data": {
      "text/plain": [
       "Index(['IITM-ESM', 'ACCESS-CM2', 'AWI-CM-1-1-MR', 'TaiESM1', 'NorESM2-MM',\n",
       "       'HadGEM3-GC31-LL', 'CMCC-CM2-SR5', 'BCC-CSM2-MR', 'MPI-ESM1-2-LR',\n",
       "       'CMCC-ESM2', 'NESM3_x', 'CESM2-WACCM', 'UKESM1-0-LL', 'ACCESS-ESM1-5',\n",
       "       'FGOALS-g3', 'MIROC6', 'HadGEM3-GC31-MM', 'MRI-ESM2-0', 'CanESM5',\n",
       "       'NorESM2-LM', 'NESM3_y', 'MPI-ESM1-2-HR'],\n",
       "      dtype='object')"
      ]
     },
     "execution_count": 17,
     "metadata": {},
     "output_type": "execute_result"
    }
   ],
   "source": [
    "all_df_npac_future_dataset['Barnes & Polvani 2015'].columns"
   ]
  },
  {
   "cell_type": "markdown",
   "id": "7c1afa04-ca2f-491b-bcc9-aea778a336c1",
   "metadata": {},
   "source": [
    "#### cleaning data"
   ]
  },
  {
   "cell_type": "code",
   "execution_count": 18,
   "id": "e963788f-cf27-425b-97b5-902140594fd0",
   "metadata": {},
   "outputs": [
    {
     "name": "stdout",
     "output_type": "stream",
     "text": [
      "removed NESM3\n",
      "removed NESM3\n",
      "removed NESM3\n",
      "removed NESM3\n",
      "removed NESM3\n",
      "removed NESM3\n",
      "removed NESM3\n",
      "removed NESM3\n",
      "CPU times: user 132 ms, sys: 20 ms, total: 152 ms\n",
      "Wall time: 152 ms\n"
     ]
    }
   ],
   "source": [
    "%%time\n",
    "START_YEAR = \"2070\"\n",
    "END_YEAR = \"2100\"\n",
    "FREQ = 'd'\n",
    "for metric in metric_names:\n",
    "    if metric == \"Bracegirdle et al. 2018\":\n",
    "        all_df_npac_future_dataset[metric].index = pd.date_range(start=START_YEAR, freq=\"y\", periods=len(all_df_npac_future_dataset[metric]))\n",
    "        all_df_npac_future_dataset[metric].index = all_df_npac_future_dataset[metric].index.rename('time')\n",
    "    all_df_npac_future_dataset[metric].index = pd.to_datetime(all_df_npac_future_dataset[metric].index, errors='coerce')\n",
    "    all_df_npac_future_dataset[metric] = all_df_npac_future_dataset[metric].groupby(pd.Grouper(freq=FREQ)).mean()\n",
    "    all_df_npac_future_dataset[metric] = all_df_npac_future_dataset[metric][START_YEAR: END_YEAR]\n",
    "    \n",
    "    if 'UKESM1-0-LL' in all_df_npac_future_dataset[metric].columns and 'UKESM1-0-LL_y' in all_df_npac_future_dataset[metric].columns:\n",
    "        all_df_npac_future_dataset[metric] = all_df_npac_future_dataset[metric].drop('UKESM1-0-LL', axis=1)\n",
    "        all_df_npac_future_dataset[metric] = all_df_npac_future_dataset[metric].rename({'UKESM1-0-LL_y':'UKESM1-0-LL'}, axis=1)\n",
    "        print('removed and renamed UKESM1-0-LL_y')\n",
    "    if 'UKESM1-0-LL_y' in all_df_npac_future_dataset[metric].columns:\n",
    "        all_df_npac_future_dataset[metric] = all_df_npac_future_dataset[metric].drop('UKESM1-0-LL_x', axis=1)\n",
    "        all_df_npac_future_dataset[metric] = all_df_npac_future_dataset[metric].rename({'UKESM1-0-LL_y':'UKESM1-0-LL'}, axis=1)\n",
    "        print('removed UKESM1-0-LL_y and renamed UKESM1-0-LL_x')\n",
    "    if 'CESM2-WACCM_x' in all_df_npac_future_dataset[metric].columns:\n",
    "        all_df_npac_future_dataset[metric] = all_df_npac_future_dataset[metric].drop('CESM2-WACCM_x', axis=1)\n",
    "        all_df_npac_future_dataset[metric] = all_df_npac_future_dataset[metric].rename({'CESM2-WACCM_y':'CESM2-WACCM'}, axis=1)\n",
    "        print('removed and renamed CESM2-WACCM')\n",
    "    if 'NESM3_x' in all_df_npac_future_dataset[metric].columns:\n",
    "        all_df_npac_future_dataset[metric] = all_df_npac_future_dataset[metric].drop('NESM3_x', axis=1)\n",
    "        all_df_npac_future_dataset[metric] = all_df_npac_future_dataset[metric].drop('NESM3_y', axis=1)\n",
    "        # all_df_npac_future_dataset[metric] = all_df_npac_future_dataset[metric].rename({'NESM3_x':'NESM3'}, axis=1)\n",
    "        print('removed NESM3')\n",
    "    else:\n",
    "        print('removed already!')"
   ]
  },
  {
   "cell_type": "code",
   "execution_count": 19,
   "id": "344f58f9-ad91-4d97-a9a4-c5319f7e7c99",
   "metadata": {},
   "outputs": [
    {
     "data": {
      "text/plain": [
       "True"
      ]
     },
     "execution_count": 19,
     "metadata": {},
     "output_type": "execute_result"
    }
   ],
   "source": [
    "all_df_npac_future_dataset['Woollings et al. 2010'].columns.nunique() == len(all_df_npac_future_dataset['Woollings et al. 2010'].columns)"
   ]
  },
  {
   "cell_type": "code",
   "execution_count": 20,
   "id": "22283113-1a49-4603-9bf1-88a7a99bfd3a",
   "metadata": {},
   "outputs": [
    {
     "data": {
      "text/plain": [
       "<Axes: xlabel='time'>"
      ]
     },
     "execution_count": 20,
     "metadata": {},
     "output_type": "execute_result"
    },
    {
     "data": {
      "image/png": "[encoded data removed]",
      "text/plain": [
       "<Figure size 640x480 with 1 Axes>"
      ]
     },
     "metadata": {},
     "output_type": "display_data"
    }
   ],
   "source": [
    "all_df_npac_future_dataset['Woollings et al. 2010']['HadGEM3-GC31-LL'].dropna().plot()\n",
    "all_df_npac_future_dataset['Bracegirdle et al. 2018']['HadGEM3-GC31-LL'].dropna().plot()"
   ]
  },
  {
   "cell_type": "markdown",
   "id": "e33939dc-64f9-40fb-9976-61478f1d9ae8",
   "metadata": {},
   "source": [
    "# Load CMIP6 Historical"
   ]
  },
  {
   "cell_type": "code",
   "execution_count": 12,
   "id": "78aa266f-6560-4ced-903a-4cbe88e911a4",
   "metadata": {},
   "outputs": [],
   "source": [
    "CMIP6_Historical_dir = \"/home/thomaskeel/Documents/PhD/JASMIN experiments/CMIP6_Historical_NPAC runs/ua_day*\""
   ]
  },
  {
   "cell_type": "code",
   "execution_count": 13,
   "id": "d09f84f8-290b-4e50-a1a8-983ec7d82e09",
   "metadata": {},
   "outputs": [],
   "source": [
    "metric_names = [\"Woollings et al. 2010\", \"Barnes & Polvani 2013\", \"Barnes & Polvani 2015\", \\\n",
    "                \"Barnes & Simpson 2017\", \"Grise & Polvani 2017\", \"Bracegirdle et al. 2018\", \\\n",
    "                \"Ceppi et al. 2018\", \"Kerr et al. 2020\"]\n",
    "COLS_TO_REMOVE = [\"10_day_average\", \"plev\"]\n",
    "\n",
    "region = \"North Pacific\""
   ]
  },
  {
   "cell_type": "code",
   "execution_count": 14,
   "id": "6a1671c3-6367-40f8-a170-92ff440f1b6a",
   "metadata": {},
   "outputs": [
    {
     "name": "stdout",
     "output_type": "stream",
     "text": [
      "North Pacific 814\n"
     ]
    }
   ],
   "source": [
    "print(region, len(glob.glob(CMIP6_Historical_dir + region + \"*\")))"
   ]
  },
  {
   "cell_type": "code",
   "execution_count": 24,
   "id": "05bf4a66-40db-4354-88ec-99373de13dbc",
   "metadata": {},
   "outputs": [
    {
     "name": "stdout",
     "output_type": "stream",
     "text": [
      "CPU times: user 13.4 s, sys: 462 ms, total: 13.8 s\n",
      "Wall time: 13.8 s\n"
     ]
    }
   ],
   "source": [
    "%%time\n",
    "# 40 seconds\n",
    "time_ranges = []\n",
    "failed_data_paths = []\n",
    "date_format=\"\\d{2}:\\d{2}:\\d{2}\"\n",
    "for file_path in glob.glob(CMIP6_Historical_dir):\n",
    "    try:\n",
    "        current = pd.read_csv(file_path, header=0)\n",
    "    except Exception as e:\n",
    "        print(e)\n",
    "        print(file_path)\n",
    "        continue\n",
    "    for col in COLS_TO_REMOVE:\n",
    "        try:\n",
    "            current.drop(col, inplace=True, axis=1)\n",
    "        except:\n",
    "            pass\n",
    "    try:\n",
    "        current['time'] = current['time'].apply(lambda x: re.sub(date_format, \"\", x).strip())\n",
    "    except Exception as e:\n",
    "#         print(e)\n",
    "        failed_data_paths.append(file_path)\n",
    "        continue\n",
    "    first_time = current['time'].min()\n",
    "    last_time = current['time'].max()\n",
    "    time_ranges.append(str(first_time)+'to'+str(last_time))"
   ]
  },
  {
   "cell_type": "code",
   "execution_count": 25,
   "id": "61cf58f1-3d38-48f2-8d23-81d502233207",
   "metadata": {},
   "outputs": [
    {
     "data": {
      "text/plain": [
       "Counter({'1950-01-01to2014-12-31': 228,\n",
       "         '1950-01-01to2014-12-30': 24,\n",
       "         '1950-01-01to2015-01-01': 18,\n",
       "         '1950-01-01to2014-12-27': 18,\n",
       "         '1950-01-01to2015-12-31': 6,\n",
       "         '1950-01-02to2014-12-31': 6,\n",
       "         '1950-01-01to2014-12-21': 4,\n",
       "         '1950-01-02to2014-12-28': 1,\n",
       "         '1950-01-01to2015-12-22': 1})"
      ]
     },
     "execution_count": 25,
     "metadata": {},
     "output_type": "execute_result"
    }
   ],
   "source": [
    "collections.Counter(time_ranges)"
   ]
  },
  {
   "cell_type": "code",
   "execution_count": 26,
   "id": "9e852f66-a257-4c0a-bdf1-9528134ad4ef",
   "metadata": {},
   "outputs": [
    {
     "name": "stdout",
     "output_type": "stream",
     "text": [
      "CPU times: user 16.5 s, sys: 155 ms, total: 16.6 s\n",
      "Wall time: 16.7 s\n"
     ]
    }
   ],
   "source": [
    "%%time\n",
    "all_df_npac_hist_dataset = {}\n",
    "for metric in metric_names:\n",
    "    if metric == \"Bracegirdle et al. 2018\":\n",
    "        all_df_npac_hist_dataset[metric] = make_combined_df_from_data_paths_for_bracegirdle(glob.glob(CMIP6_Historical_dir + metric + \"*\" + \"North Pacific\" + \"*\"))\n",
    "        continue\n",
    "    all_df_npac_hist_dataset[metric] = make_combined_df_from_data_paths(glob.glob(CMIP6_Historical_dir + metric + \"*\" + \"North Pacific\" + \"*\"))\n"
   ]
  },
  {
   "cell_type": "code",
   "execution_count": 27,
   "id": "f6dfe5cc-3919-4ef3-a45d-f89a31c00437",
   "metadata": {},
   "outputs": [
    {
     "name": "stdout",
     "output_type": "stream",
     "text": [
      "Woollings et al. 2010\n",
      "removed already!\n",
      "Barnes & Polvani 2013\n",
      "removed already!\n",
      "Barnes & Polvani 2015\n",
      "removed already!\n",
      "Barnes & Simpson 2017\n",
      "removed already!\n",
      "Grise & Polvani 2017\n",
      "removed already!\n",
      "Bracegirdle et al. 2018\n",
      "removed already!\n",
      "Ceppi et al. 2018\n",
      "removed already!\n",
      "Kerr et al. 2020\n",
      "removed already!\n",
      "CPU times: user 237 ms, sys: 76.1 ms, total: 313 ms\n",
      "Wall time: 310 ms\n"
     ]
    }
   ],
   "source": [
    "%%time\n",
    "START_YEAR = \"1984\"\n",
    "END_YEAR = \"2014\"\n",
    "FREQ = 'd'\n",
    "for metric in metric_names:\n",
    "    print(metric)\n",
    "    if metric == \"Bracegirdle et al. 2018\":\n",
    "        all_df_npac_hist_dataset[metric].index = pd.date_range(start=\"1950\", freq=\"y\", periods=len(all_df_npac_hist_dataset[metric])) # NOTE: START YEAR HARD CODED\n",
    "        all_df_npac_hist_dataset[metric].index = all_df_npac_hist_dataset[metric].index.rename('time')\n",
    "    all_df_npac_hist_dataset[metric].index = pd.to_datetime(all_df_npac_hist_dataset[metric].index, errors='coerce')\n",
    "    all_df_npac_hist_dataset[metric] = all_df_npac_hist_dataset[metric].groupby(pd.Grouper(freq=FREQ)).mean()\n",
    "    all_df_npac_hist_dataset[metric] = all_df_npac_hist_dataset[metric][START_YEAR: END_YEAR]\n",
    "    if 'CESM2_x' in all_df_npac_hist_dataset[metric].columns:\n",
    "        all_df_npac_hist_dataset[metric] = all_df_npac_hist_dataset[metric].drop('CESM2_x', axis=1)\n",
    "        all_df_npac_hist_dataset[metric] = all_df_npac_hist_dataset[metric].rename({'CESM2_y':'CESM2'}, axis=1)\n",
    "        print('removed and renamed CESM2')\n",
    "    if 'NorCPM1' in all_df_npac_hist_dataset[metric].columns:\n",
    "        all_df_npac_hist_dataset[metric] = all_df_npac_hist_dataset[metric].drop('NorCPM1', axis=1)\n",
    "        print('removed and renamed NorCPM1 as lack of data')\n",
    "    else:\n",
    "        print('removed already!')"
   ]
  },
  {
   "cell_type": "markdown",
   "id": "3aae9bee-339c-4cfd-a6f7-40953875d2f1",
   "metadata": {},
   "source": [
    "## Load Reanalysis"
   ]
  },
  {
   "cell_type": "code",
   "execution_count": 28,
   "id": "eacbc4ca-4633-41b9-9b40-74d9889c424b",
   "metadata": {},
   "outputs": [],
   "source": [
    "START_YEAR = \"1985\"\n",
    "END_YEAR = \"2015\""
   ]
  },
  {
   "cell_type": "code",
   "execution_count": 29,
   "id": "eb449335-8983-4415-8f62-ff70d8b32149",
   "metadata": {},
   "outputs": [],
   "source": [
    "era_npac_day_dict = {}\n",
    "\n",
    "era_npac_day_dict['Woollings2010_NorthPacific'] = pd.read_csv('/home/thomaskeel/Documents/PhD/JASMIN experiments/NPAC_only_ERA5_daily_outputs/Woollings et al. 2010 North Pacific.csv', index_col='time')[START_YEAR: END_YEAR]\n",
    "era_npac_day_dict['BarnesPolvani2013_NorthPacific'] = pd.read_csv('/home/thomaskeel/Documents/PhD/JASMIN experiments/NPAC_only_ERA5_daily_outputs/Barnes & Polvani 2013 North Pacific.csv', index_col='time')[START_YEAR: END_YEAR]\n",
    "era_npac_day_dict['BarnesPolvani2015_NorthPacific'] = pd.read_csv('/home/thomaskeel/Documents/PhD/JASMIN experiments/NPAC_only_ERA5_daily_outputs/Barnes & Polvani 2015 North Pacific.csv', index_col='time')[START_YEAR: END_YEAR]\n",
    "era_npac_day_dict['BarnesSimpson2017_NorthPacific'] = pd.read_csv('/home/thomaskeel/Documents/PhD/JASMIN experiments/NPAC_only_ERA5_daily_outputs/Barnes & Simpson 2017 North Pacific.csv', index_col='time')[START_YEAR: END_YEAR]\n",
    "era_npac_day_dict['GrisePolvani2017_NorthPacific'] = pd.read_csv('/home/thomaskeel/Documents/PhD/JASMIN experiments/NPAC_only_ERA5_daily_outputs/Grise & Polvani 2017 North Pacific.csv', index_col='time')[START_YEAR: END_YEAR]\n",
    "era_npac_day_dict['Bracegirdle2018_NorthPacific'] = pd.read_csv('/home/thomaskeel/Documents/PhD/JASMIN experiments/NPAC_only_ERA5_daily_outputs/Bracegirdle et al. 2018 North Pacific.csv', index_col='year')\n",
    "era_npac_day_dict['Ceppi2018_NorthPacific'] = pd.read_csv('/home/thomaskeel/Documents/PhD/JASMIN experiments/NPAC_only_ERA5_daily_outputs/Ceppi et al. 2018 North Pacific.csv', index_col='time')[START_YEAR: END_YEAR]\n",
    "era_npac_day_dict['Kerr2020_NorthPacific'] = pd.read_csv('/home/thomaskeel/Documents/PhD/JASMIN experiments/NPAC_only_ERA5_daily_outputs/Kerr et al. 2020 North Pacific.csv', index_col='time')[START_YEAR: END_YEAR]\n"
   ]
  },
  {
   "cell_type": "code",
   "execution_count": 30,
   "id": "0f29dec5-382e-455d-ba19-aef87dfee02c",
   "metadata": {},
   "outputs": [],
   "source": [
    "jra55_npac_day_dict = {}\n",
    "\n",
    "jra55_npac_day_dict['Woollings2010_NorthPacific'] = pd.read_csv('/home/thomaskeel/Documents/PhD/JASMIN experiments/NPAC_only_JRA55_daily_outputs/Woollings et al. 2010 North Pacific.csv', index_col='time')[START_YEAR: END_YEAR]\n",
    "jra55_npac_day_dict['BarnesPolvani2013_NorthPacific'] = pd.read_csv('/home/thomaskeel/Documents/PhD/JASMIN experiments/NPAC_only_JRA55_daily_outputs/Barnes & Polvani 2013 North Pacific.csv', index_col='time')[START_YEAR: END_YEAR]\n",
    "jra55_npac_day_dict['BarnesPolvani2015_NorthPacific'] = pd.read_csv('/home/thomaskeel/Documents/PhD/JASMIN experiments/NPAC_only_JRA55_daily_outputs/Barnes & Polvani 2015 North Pacific.csv', index_col='time')[START_YEAR: END_YEAR]\n",
    "jra55_npac_day_dict['BarnesSimpson2017_NorthPacific'] = pd.read_csv('/home/thomaskeel/Documents/PhD/JASMIN experiments/NPAC_only_JRA55_daily_outputs/Barnes & Simpson 2017 North Pacific.csv', index_col='time')[START_YEAR: END_YEAR]\n",
    "jra55_npac_day_dict['GrisePolvani2017_NorthPacific'] = pd.read_csv('/home/thomaskeel/Documents/PhD/JASMIN experiments/NPAC_only_JRA55_daily_outputs/Grise & Polvani 2017 North Pacific.csv', index_col='time')[START_YEAR: END_YEAR]\n",
    "jra55_npac_day_dict['Bracegirdle2018_NorthPacific'] = pd.read_csv('/home/thomaskeel/Documents/PhD/JASMIN experiments/NPAC_only_JRA55_daily_outputs/Bracegirdle et al. 2018 North Pacific.csv', index_col='year')\n",
    "jra55_npac_day_dict['Ceppi2018_NorthPacific'] = pd.read_csv('/home/thomaskeel/Documents/PhD/JASMIN experiments/NPAC_only_JRA55_daily_outputs/Ceppi et al. 2018 North Pacific.csv', index_col='time')[START_YEAR: END_YEAR]\n",
    "jra55_npac_day_dict['Kerr2020_NorthPacific'] = pd.read_csv('/home/thomaskeel/Documents/PhD/JASMIN experiments/NPAC_only_JRA55_daily_outputs/Kerr et al. 2020 North Pacific.csv', index_col='time')[START_YEAR: END_YEAR]\n"
   ]
  },
  {
   "cell_type": "code",
   "execution_count": 31,
   "id": "c0d6f62c-2d29-4f05-9ca9-7d4bb5935954",
   "metadata": {},
   "outputs": [],
   "source": [
    "merra2_npac_day_dict = {}\n",
    "\n",
    "merra2_npac_day_dict['Woollings2010_NorthPacific'] = pd.read_csv('/home/thomaskeel/Documents/PhD/JASMIN experiments/NPAC_only_MERRA2_daily_outputs/Woollings et al. 2010 North Pacific.csv', index_col='time')[START_YEAR: END_YEAR]\n",
    "merra2_npac_day_dict['BarnesPolvani2013_NorthPacific'] = pd.read_csv('/home/thomaskeel/Documents/PhD/JASMIN experiments/NPAC_only_MERRA2_daily_outputs/Barnes & Polvani 2013 North Pacific.csv', index_col='time')[START_YEAR: END_YEAR]\n",
    "merra2_npac_day_dict['BarnesPolvani2015_NorthPacific'] = pd.read_csv('/home/thomaskeel/Documents/PhD/JASMIN experiments/NPAC_only_MERRA2_daily_outputs/Barnes & Polvani 2015 North Pacific.csv', index_col='time')[START_YEAR: END_YEAR]\n",
    "merra2_npac_day_dict['BarnesSimpson2017_NorthPacific'] = pd.read_csv('/home/thomaskeel/Documents/PhD/JASMIN experiments/NPAC_only_MERRA2_daily_outputs/Barnes & Simpson 2017 North Pacific.csv', index_col='time')[START_YEAR: END_YEAR]\n",
    "merra2_npac_day_dict['GrisePolvani2017_NorthPacific'] = pd.read_csv('/home/thomaskeel/Documents/PhD/JASMIN experiments/NPAC_only_MERRA2_daily_outputs/Grise & Polvani 2017 North Pacific.csv', index_col='time')[START_YEAR: END_YEAR]\n",
    "merra2_npac_day_dict['Bracegirdle2018_NorthPacific'] = pd.read_csv('/home/thomaskeel/Documents/PhD/JASMIN experiments/NPAC_only_MERRA2_daily_outputs/Bracegirdle et al. 2018 North Pacific.csv', index_col='year')\n",
    "merra2_npac_day_dict['Ceppi2018_NorthPacific'] = pd.read_csv('/home/thomaskeel/Documents/PhD/JASMIN experiments/NPAC_only_MERRA2_daily_outputs/Ceppi et al. 2018 North Pacific.csv', index_col='time')[START_YEAR: END_YEAR]\n",
    "merra2_npac_day_dict['Kerr2020_NorthPacific'] = pd.read_csv('/home/thomaskeel/Documents/PhD/JASMIN experiments/NPAC_only_MERRA2_daily_outputs/Kerr et al. 2020 North Pacific.csv', index_col='time')[START_YEAR: END_YEAR]\n"
   ]
  },
  {
   "cell_type": "code",
   "execution_count": 32,
   "id": "b17927a9-9705-4d2f-9f22-db17c4d7bd12",
   "metadata": {},
   "outputs": [],
   "source": [
    "ncepdoe2_npac_day_dict = {}\n",
    "\n",
    "ncepdoe2_npac_day_dict['Woollings2010_NorthPacific'] = pd.read_csv('/home/thomaskeel/Documents/PhD/JASMIN experiments/NPAC_only_NCEPDOE2_daily_outputs/Woollings et al. 2010 North Pacific.csv', index_col='time')[START_YEAR: END_YEAR]\n",
    "ncepdoe2_npac_day_dict['BarnesPolvani2013_NorthPacific'] = pd.read_csv('/home/thomaskeel/Documents/PhD/JASMIN experiments/NPAC_only_NCEPDOE2_daily_outputs/Barnes & Polvani 2013 North Pacific.csv', index_col='time')[START_YEAR: END_YEAR]\n",
    "ncepdoe2_npac_day_dict['BarnesPolvani2015_NorthPacific'] = pd.read_csv('/home/thomaskeel/Documents/PhD/JASMIN experiments/NPAC_only_NCEPDOE2_daily_outputs/Barnes & Polvani 2015 North Pacific.csv', index_col='time')[START_YEAR: END_YEAR]\n",
    "ncepdoe2_npac_day_dict['BarnesSimpson2017_NorthPacific'] = pd.read_csv('/home/thomaskeel/Documents/PhD/JASMIN experiments/NPAC_only_NCEPDOE2_daily_outputs/Barnes & Simpson 2017 North Pacific.csv', index_col='time')[START_YEAR: END_YEAR]\n",
    "ncepdoe2_npac_day_dict['GrisePolvani2017_NorthPacific'] = pd.read_csv('/home/thomaskeel/Documents/PhD/JASMIN experiments/NPAC_only_NCEPDOE2_daily_outputs/Grise & Polvani 2017 North Pacific.csv', index_col='time')[START_YEAR: END_YEAR]\n",
    "ncepdoe2_npac_day_dict['Bracegirdle2018_NorthPacific'] = pd.read_csv('/home/thomaskeel/Documents/PhD/JASMIN experiments/NPAC_only_NCEPDOE2_daily_outputs/Bracegirdle et al. 2018 North Pacific.csv', index_col='year')\n",
    "ncepdoe2_npac_day_dict['Ceppi2018_NorthPacific'] = pd.read_csv('/home/thomaskeel/Documents/PhD/JASMIN experiments/NPAC_only_NCEPDOE2_daily_outputs/Ceppi et al. 2018 North Pacific.csv', index_col='time')[START_YEAR: END_YEAR]\n",
    "ncepdoe2_npac_day_dict['Kerr2020_NorthPacific'] = pd.read_csv('/home/thomaskeel/Documents/PhD/JASMIN experiments/NPAC_only_NCEPDOE2_daily_outputs/Kerr et al. 2020 North Pacific.csv', index_col='time')[START_YEAR: END_YEAR]\n"
   ]
  }
 ],
 "metadata": {
  "kernelspec": {
   "display_name": "Python 3 (ipykernel)",
   "language": "python",
   "name": "python3"
  },
  "language_info": {
   "codemirror_mode": {
    "name": "ipython",
    "version": 3
   },
   "file_extension": ".py",
   "mimetype": "text/x-python",
   "name": "python",
   "nbconvert_exporter": "python",
   "pygments_lexer": "ipython3",
   "version": "3.11.3"
  }
 },
 "nbformat": 4,
 "nbformat_minor": 5
}
